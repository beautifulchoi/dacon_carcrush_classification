{
 "cells": [
  {
   "cell_type": "markdown",
   "id": "a2bcba5f-002e-4f49-9622-ada6117faf0a",
   "metadata": {},
   "source": [
    "## Import"
   ]
  },
  {
   "cell_type": "code",
   "execution_count": null,
   "id": "2b0d9b68-7102-4eca-9543-3b9b8acafc6e",
   "metadata": {},
   "outputs": [],
   "source": [
    "import random\n",
    "import pandas as pd\n",
    "import numpy as np\n",
    "import os\n",
    "import cv2\n",
    "\n",
    "import torch\n",
    "import torch.nn as nn\n",
    "import torch.optim as optim\n",
    "import torch.nn.functional as F\n",
    "from torch.utils.data import Dataset, DataLoader\n",
    "\n",
    "import albumentations as A\n",
    "from albumentations.pytorch.transforms import ToTensorV2\n",
    "import torchvision.models as models\n",
    "\n",
    "from tqdm.auto import tqdm\n",
    "from sklearn.model_selection import train_test_split\n",
    "from sklearn.metrics import f1_score\n",
    "import sklearn\n",
    "\n",
    "import timm\n",
    "from torchvision.models import video\n",
    "import torchvision\n",
    "\n",
    "import warnings\n",
    "warnings.filterwarnings(action='ignore') \n",
    "\n"
   ]
  },
  {
   "cell_type": "code",
   "execution_count": null,
   "id": "d13862e3-bb27-47af-9b58-a9fbf804df71",
   "metadata": {},
   "outputs": [],
   "source": [
    "device = torch.device('cuda') if torch.cuda.is_available() else torch.device('cpu')"
   ]
  },
  {
   "cell_type": "markdown",
   "id": "fc7df3f2-62d0-4499-a46e-47d01699def0",
   "metadata": {},
   "source": [
    "## Hyperparameter Setting"
   ]
  },
  {
   "cell_type": "code",
   "execution_count": null,
   "id": "c3367399-9798-4e38-967b-fd2320b9a2b2",
   "metadata": {},
   "outputs": [],
   "source": [
    "class CFG:\n",
    "    model_name= \"r3d_18\"\n",
    "    n_folds = 5\n",
    "    n_classes = 13\n",
    "    video_length=50\n",
    "    img_size=128\n",
    "    epochs=50\n",
    "    lr=3e-4\n",
    "    batch_size=16\n",
    "    seed=41\n",
    "    earlystop=10\n",
    "        "
   ]
  },
  {
   "cell_type": "markdown",
   "id": "4254e860-ff82-43ba-bfa3-fcee4eb3ddbd",
   "metadata": {},
   "source": [
    "## Fixed RandomSeed"
   ]
  },
  {
   "cell_type": "code",
   "execution_count": null,
   "id": "101a714b-71b6-4475-a4ce-fa5f98bc2731",
   "metadata": {},
   "outputs": [],
   "source": [
    "def seed_everything(seed):\n",
    "    random.seed(seed)\n",
    "    os.environ['PYTHONHASHSEED'] = str(seed)\n",
    "    np.random.seed(seed)\n",
    "    torch.manual_seed(seed)\n",
    "    torch.cuda.manual_seed(seed)\n",
    "    torch.backends.cudnn.deterministic = True\n",
    "    torch.backends.cudnn.benchmark = True\n",
    "\n",
    "seed_everything(CFG.seed) # Seed 고정"
   ]
  },
  {
   "cell_type": "markdown",
   "id": "05a4172e-5791-446f-9616-35c09d8bf25a",
   "metadata": {},
   "source": [
    "## Data Load"
   ]
  },
  {
   "cell_type": "code",
   "execution_count": null,
   "id": "a62c78cd-4f40-4e98-b8a6-1b6f1d906b4d",
   "metadata": {},
   "outputs": [],
   "source": [
    "df = pd.read_csv('./train_detail_classified.csv')\n",
    "df.head(30)"
   ]
  },
  {
   "cell_type": "markdown",
   "id": "41b11538",
   "metadata": {},
   "source": [
    "## 항목 별로 split -> 후에 stratified k fold 전략 사용"
   ]
  },
  {
   "cell_type": "code",
   "execution_count": null,
   "id": "9a6c787c",
   "metadata": {},
   "outputs": [],
   "source": [
    "#-1 라벨인 데이터 버리기\n",
    "#df_crush=df[df['crush']!=1]\n",
    "df_ego=df[df['ego']!=-1]\n",
    "df_weather=df[df['weather']!=-1]\n",
    "df_timing=df[df['timing']!=-1]"
   ]
  },
  {
   "cell_type": "code",
   "execution_count": null,
   "id": "02133bde",
   "metadata": {},
   "outputs": [],
   "source": [
    "train_crush, val_crush, _, _ = train_test_split(df, df['crush'], test_size=0.2, random_state=CFG.seed)\n",
    "train_ego, val_ego, _,_=train_test_split(df_ego, df_ego['ego'], test_size=0.2, random_state=CFG.seed)\n",
    "train_weather, val_weather, _,_=train_test_split(df_weather, df_weather['weather'], test_size=0.2, random_state=CFG.seed)\n",
    "train_timing, val_timing,_,_=train_test_split(df_timing, df_timing['timing'], test_size=0.2, random_state=CFG.seed)"
   ]
  },
  {
   "cell_type": "code",
   "execution_count": null,
   "id": "0702f297",
   "metadata": {},
   "outputs": [],
   "source": [
    "print(len(train_timing), len(val_timing))"
   ]
  },
  {
   "cell_type": "markdown",
   "id": "ac27ed36-8031-47a7-bd0d-a913513f2e8e",
   "metadata": {},
   "source": [
    "## CustomDataset"
   ]
  },
  {
   "cell_type": "code",
   "execution_count": null,
   "id": "16fd60a5-24e2-4539-bfd0-1c374a641699",
   "metadata": {},
   "outputs": [],
   "source": [
    "class CustomDataset(Dataset):\n",
    "    def __init__(self, video_path_list, label_list):\n",
    "        self.video_path_list = video_path_list\n",
    "        self.label_list = label_list\n",
    "        \n",
    "    def __getitem__(self, index):\n",
    "        frames = self.get_video(self.video_path_list[index])\n",
    "        \n",
    "        if self.label_list is not None:\n",
    "            label = self.label_list[index]\n",
    "            return frames, label\n",
    "        else:\n",
    "            return frames\n",
    "        \n",
    "    def __len__(self):\n",
    "        return len(self.video_path_list)\n",
    "    \n",
    "    def get_video(self, path):\n",
    "        frames = []\n",
    "        cap = cv2.VideoCapture(path)\n",
    "        for _ in range(CFG.video_length):\n",
    "            _, img = cap.read()\n",
    "            img = cv2.resize(img, (CFG.img_size, CFG.img_size))\n",
    "            img = img / 255.\n",
    "            frames.append(img)\n",
    "        return torch.FloatTensor(np.array(frames)).permute(3, 0, 1, 2)"
   ]
  },
  {
   "cell_type": "code",
   "execution_count": null,
   "id": "9d880481-1965-499d-9caa-fdfa8526f789",
   "metadata": {},
   "outputs": [],
   "source": [
    "train_crush_dataset = CustomDataset(train_crush['video_path'].values, train_crush['crush'].values)\n",
    "train_crush_loader = DataLoader(train_crush_dataset, batch_size = CFG.batch_size, shuffle=True, num_workers=2)\n",
    "\n",
    "val_crush_dataset = CustomDataset(val_crush['video_path'].values, val_crush['crush'].values)\n",
    "val_crush_loader = DataLoader(val_crush_dataset, batch_size = CFG.batch_size, shuffle=False, num_workers=2)"
   ]
  },
  {
   "cell_type": "code",
   "execution_count": null,
   "id": "339176af",
   "metadata": {},
   "outputs": [],
   "source": [
    "train_ego_dataset = CustomDataset(train_ego['video_path'].values, train_ego['ego'].values)\n",
    "train_ego_loader = DataLoader(train_ego_dataset, batch_size = CFG.batch_size, shuffle=True, num_workers=2)\n",
    "\n",
    "val_ego_dataset = CustomDataset(val_ego['video_path'].values, val_ego['ego'].values)\n",
    "val_ego_loader = DataLoader(val_ego_dataset, batch_size = CFG.batch_size, shuffle=False, num_workers=2)"
   ]
  },
  {
   "cell_type": "code",
   "execution_count": null,
   "id": "f4e87824",
   "metadata": {},
   "outputs": [],
   "source": [
    "train_weather_dataset = CustomDataset(train_weather['video_path'].values, train_weather['weather'].values)\n",
    "train_weather_loader = DataLoader(train_weather_dataset, batch_size = CFG.batch_size, shuffle=True, num_workers=2)\n",
    "\n",
    "val_weather_dataset = CustomDataset(val_weather['video_path'].values, val_weather['weather'].values)\n",
    "val_weather_loader = DataLoader(val_weather_dataset, batch_size = CFG.batch_size, shuffle=False, num_workers=2)"
   ]
  },
  {
   "cell_type": "code",
   "execution_count": null,
   "id": "1636539f",
   "metadata": {},
   "outputs": [],
   "source": [
    "train_timing_dataset = CustomDataset(train_timing['video_path'].values, train_timing['timing'].values)\n",
    "train_timing_loader = DataLoader(train_timing_dataset, batch_size = CFG.batch_size, shuffle=True, num_workers=2)\n",
    "\n",
    "val_timing_dataset = CustomDataset(val_timing['video_path'].values, val_timing['timing'].values)\n",
    "val_timing_loader = DataLoader(val_timing_dataset, batch_size = CFG.batch_size, shuffle=False, num_workers=2)"
   ]
  },
  {
   "cell_type": "code",
   "execution_count": null,
   "id": "f332408d",
   "metadata": {},
   "outputs": [],
   "source": [
    "train_loaders=[train_crush_loader,train_ego_loader,train_weather_loader,train_timing_loader]\n",
    "val_loaders=[val_crush_loader,val_ego_loader,val_weather_loader,val_timing_loader]"
   ]
  },
  {
   "cell_type": "code",
   "execution_count": null,
   "id": "aa20ae82",
   "metadata": {},
   "outputs": [],
   "source": [
    "train_crush_dataset[0][0]"
   ]
  },
  {
   "cell_type": "code",
   "execution_count": null,
   "id": "a258cd16",
   "metadata": {
    "scrolled": true
   },
   "outputs": [],
   "source": [
    "#for tr_loader,val_loader in zip(train_loaders, val_loaders):\n",
    "#    print(next(iter(tr_loader))[1], next(iter(val_loader))[1])"
   ]
  },
  {
   "cell_type": "code",
   "execution_count": null,
   "id": "10e5fe55",
   "metadata": {},
   "outputs": [],
   "source": [
    "#train_dataset[0][0].shape\n",
    "#print(next(iter(train_crush_loader))[0].shape)\n",
    "#print(next(iter(train_ego_loader))[0].shape)\n",
    "#print(next(iter(train_weather_loader))[0].shape)\n",
    "#print(next(iter(train_timing_loader))[0].shape)"
   ]
  },
  {
   "cell_type": "markdown",
   "id": "39962463-032f-490a-a76d-c03991795f38",
   "metadata": {},
   "source": [
    "## Model Define\n",
    "- 동일 모델로 순서대로 4개 사용"
   ]
  },
  {
   "cell_type": "code",
   "execution_count": null,
   "id": "903fe81e",
   "metadata": {},
   "outputs": [],
   "source": [
    "class BaseModel(nn.Module):\n",
    "    def __init__(self, num_classes=CFG.n_classes, fc_type='shallow', binary=True):\n",
    "        super(BaseModel, self).__init__()\n",
    "        self.fc_type=fc_type\n",
    "        self.num_classes=num_classes\n",
    "        \n",
    "        #get backbone\n",
    "        #self.backbone = r2plus1d_18(pretrained=True)\n",
    "        self.backbone=getattr(torchvision.models.video,CFG.model_name)(pretrained=True)\n",
    "        self.backbone.fc=self.get_fc()\n",
    "        self.binary=binary\n",
    "        \n",
    "    def get_fc(self):\n",
    "        if self.fc_type == 'deep':\n",
    "            fc = nn.Sequential(nn.Linear(self.backbone.fc.in_features, self.backbone.fc.in_features//2),\n",
    "                                        nn.BatchNorm1d(self.backbone.fc.in_features//2,  momentum=0.1),\n",
    "                                        nn.ReLU(),\n",
    "                                        nn.Linear(self.backbone.fc.in_features//2, self.num_classes)\n",
    "                                        )\n",
    "    \n",
    "        elif self.fc_type == 'shallow':\n",
    "            fc = nn.Linear(self.backbone.fc.in_features, self.num_classes)\n",
    "        else:\n",
    "            raise ValueError(f\"Wrong fc-type input {self.fc_type}\")\n",
    "        return fc\n",
    "    \n",
    "    def forward(self, x):\n",
    "        x = self.backbone(x)\n",
    "            \n",
    "        return x"
   ]
  },
  {
   "cell_type": "markdown",
   "id": "27df6305",
   "metadata": {},
   "source": [
    "### check model in-out"
   ]
  },
  {
   "cell_type": "code",
   "execution_count": null,
   "id": "ecd88a87",
   "metadata": {},
   "outputs": [],
   "source": [
    "#from torchsummary import summary\n",
    "#model=BaseModel(fc_type='deep')\n",
    "#model=model.to(device)\n",
    "#summary(model, (3,50,720,1280))"
   ]
  },
  {
   "cell_type": "markdown",
   "id": "122af0aa-a1fd-4595-9488-35761e3cb596",
   "metadata": {},
   "source": [
    "## Train"
   ]
  },
  {
   "cell_type": "code",
   "execution_count": null,
   "id": "a17df6b3-16c9-44dd-b0fd-ffb501fee749",
   "metadata": {},
   "outputs": [],
   "source": [
    "def train(model, criterion, optimizer, train_loader, val_loader, scheduler, device):\n",
    "    model.to(device)\n",
    "    \n",
    "    if torch.cuda.device_count() > 1:\n",
    "        print(\"Let's use\", torch.cuda.device_count(), \"GPUs!\")\n",
    "        model = nn.DataParallel(model)\n",
    "    \n",
    "    #criterion = nn.CrossEntropyLoss().to(device)\n",
    "    criterion=criterion().to(device)\n",
    "    best_val_score = 0\n",
    "    best_model = None\n",
    "    cnt=0\n",
    "    for epoch in range(1, CFG.epochs+1):\n",
    "        model.train()\n",
    "        train_loss = []\n",
    "        for videos, labels in tqdm(iter(train_loader)):\n",
    "            videos = videos.to(device)\n",
    "            labels = labels.to(device)\n",
    "            \n",
    "            optimizer.zero_grad()\n",
    "            \n",
    "            output = model(videos)\n",
    "            \n",
    "            #print(\"target: \", labels)\n",
    "            #print(\"output: \", output)\n",
    "            #if model.module.binary==True: #because of DataParallel \n",
    "            #    labels=labels.float()\n",
    "                \n",
    "            #loss = criterion(output, labels.reshape(-1,1))\n",
    "            loss = criterion(output, labels)\n",
    "            loss.backward()\n",
    "            optimizer.step()\n",
    "            \n",
    "            train_loss.append(loss.item())\n",
    "                    \n",
    "        _val_loss, _val_score = validation(model, criterion, val_loader, device)\n",
    "        _train_loss = np.mean(train_loss)\n",
    "        print(f'Epoch [{epoch}], Train Loss : [{_train_loss:.5f}] Val Loss : [{_val_loss:.5f}] Val F1 : [{_val_score:.5f}]')\n",
    "        \n",
    "        if scheduler is not None:\n",
    "            scheduler.step(_val_score)\n",
    "            \n",
    "        if best_val_score < _val_score:\n",
    "            best_val_score = _val_score\n",
    "            best_model = model\n",
    "            \n",
    "            cnt=0\n",
    "        else:\n",
    "            print(\"early stopping count : {}\".format(cnt))\n",
    "            cnt+=1\n",
    "        \n",
    "        if cnt==CFG.earlystop:\n",
    "            print(\"early stopping done\")\n",
    "            break\n",
    "            \n",
    "    return best_model"
   ]
  },
  {
   "cell_type": "code",
   "execution_count": null,
   "id": "24a0bf01-27cd-4faf-93b1-3aa8a37be01c",
   "metadata": {},
   "outputs": [],
   "source": [
    "def validation(model, criterion, val_loader, device):\n",
    "    model.eval()\n",
    "    val_loss = []\n",
    "    preds, trues = [], []\n",
    "    \n",
    "    with torch.no_grad():\n",
    "        for videos, labels in tqdm(iter(val_loader)):\n",
    "            videos = videos.to(device)\n",
    "            labels = labels.to(device)\n",
    "            \n",
    "            #if model.module.binary==True: #because of DataParallel \n",
    "            #    labels=labels.float()\n",
    "                \n",
    "            logit = model(videos)\n",
    "            \n",
    "            #loss = criterion(logit, labels.reshape(-1,1))\n",
    "            loss = criterion(logit, labels)\n",
    "            val_loss.append(loss.item())\n",
    "            \n",
    "            preds += logit.argmax(1).detach().cpu().numpy().tolist() \n",
    "\n",
    "            trues += labels.detach().cpu().numpy().tolist()\n",
    "        \n",
    "        _val_loss = np.mean(val_loss)\n",
    "    \n",
    "    _val_score = f1_score(trues, preds, average='macro')\n",
    "    return _val_loss, _val_score"
   ]
  },
  {
   "cell_type": "markdown",
   "id": "51da39f9-904f-4abd-a7d2-cdf29c4a6c24",
   "metadata": {},
   "source": [
    "## Run!!"
   ]
  },
  {
   "cell_type": "code",
   "execution_count": null,
   "id": "86142d9a-68b7-4d04-8423-49d28025411d",
   "metadata": {
    "tags": []
   },
   "outputs": [],
   "source": [
    "model_crush = BaseModel(num_classes=2, fc_type='shallow')\n",
    "model_ego = BaseModel(num_classes=2, fc_type='shallow')\n",
    "model_weather = BaseModel(num_classes=3, fc_type='shallow', binary=False)\n",
    "model_timing = BaseModel(num_classes=2, fc_type='shallow')\n",
    "models=[model_crush, model_ego, model_weather, model_timing]\n",
    "name=[\"crush\", \"ego\", \"weather\", \"timing\"]\n",
    "#i=0\n",
    "for i in range(4):\n",
    "    model=models[i]\n",
    "    model.eval()\n",
    "    optimizer = torch.optim.Adam(params = model.parameters(), lr = CFG.lr)\n",
    "    scheduler = torch.optim.lr_scheduler.CosineAnnealingWarmRestarts(optimizer, T_0=10, T_mult=2, eta_min=0.00001)\n",
    "    if i == 2: #weather\n",
    "        criterion=nn.CrossEntropyLoss\n",
    "        print(\"mutli-classification\")\n",
    "    else:\n",
    "        criterion=nn.CrossEntropyLoss #여기 튜닝 고민 해봐야 할듯\n",
    "        print(\"binary-classification\")\n",
    "    print(\"{}th model run\".format(i))\n",
    "    print(\"_\"*100)\n",
    "    infer_model = train(model, criterion, optimizer, train_loaders[i], val_loaders[i], scheduler, device)\n",
    "    torch.save(infer_model.state_dict(), './weights/r3d_per_label_{}.pt'.format(name[i]))\n",
    "\n",
    "    del infer_model"
   ]
  },
  {
   "cell_type": "markdown",
   "id": "d32efed9-ec88-40fc-83d2-e995e48c372a",
   "metadata": {},
   "source": [
    "## Inference"
   ]
  },
  {
   "cell_type": "code",
   "execution_count": null,
   "id": "0498feef-9ca7-42ea-b73a-51a06dd4c684",
   "metadata": {},
   "outputs": [],
   "source": [
    "test = pd.read_csv('./test.csv')"
   ]
  },
  {
   "cell_type": "code",
   "execution_count": null,
   "id": "a1bc676a-5216-4e1a-ac2c-3e940e8a3909",
   "metadata": {},
   "outputs": [],
   "source": [
    "test_dataset = CustomDataset(test['video_path'].values, None)\n",
    "test_loader = DataLoader(test_dataset, batch_size = CFG.batch_size, shuffle=False, num_workers=0)"
   ]
  },
  {
   "cell_type": "code",
   "execution_count": null,
   "id": "acc072b1-3749-4a0a-8c3b-80ef39a2fd56",
   "metadata": {},
   "outputs": [],
   "source": [
    "def inference(model, test_loader, device):\n",
    "    model.to(device)\n",
    "    model.eval()\n",
    "    preds = []\n",
    "    with torch.no_grad():\n",
    "        for videos in tqdm(iter(test_loader)):\n",
    "            videos = videos.to(device)\n",
    "            \n",
    "            logit = model(videos)\n",
    "\n",
    "            preds += logit.argmax(1).detach().cpu().numpy().tolist()\n",
    "    return preds"
   ]
  },
  {
   "cell_type": "code",
   "execution_count": null,
   "id": "9fcce1a1-995c-403b-9229-f4253dd5c702",
   "metadata": {
    "scrolled": true
   },
   "outputs": [],
   "source": [
    "i=0\n",
    "from collections import OrderedDict\n",
    "\n",
    "model_crush = BaseModel(num_classes=2, fc_type='shallow')\n",
    "model_ego = BaseModel(num_classes=2, fc_type='shallow')\n",
    "model_weather = BaseModel(num_classes=3, fc_type='shallow')\n",
    "model_timing = BaseModel(num_classes=2, fc_type='shallow')\n",
    "models=[model_crush, model_ego, model_weather, model_timing]\n",
    "pred_tot=[]\n",
    "\n",
    "for model in models:\n",
    "    path='./weights/r3d_per_label_{}.pt'.format(name[i])\n",
    "    state_dict=torch.load(path)\n",
    "    keys = state_dict.keys()\n",
    "\n",
    "    values = state_dict.values()\n",
    "    \n",
    "    new_keys = []\n",
    "    \n",
    "    for key in keys:\n",
    "        new_key = key[7:]    # remove the 'module.'\n",
    "        new_keys.append(new_key)\n",
    "    \n",
    "    new_dict = OrderedDict(list(zip(new_keys, values)))\n",
    "    \n",
    "    model.load_state_dict(new_dict)\n",
    "    preds = inference(model, test_loader, device)\n",
    "    pred_tot.append(preds)\n",
    "    i+=1\n",
    "    del model"
   ]
  },
  {
   "cell_type": "markdown",
   "id": "370e5a18-de28-4c3d-a33b-77d4797911eb",
   "metadata": {},
   "source": [
    "## Submission"
   ]
  },
  {
   "cell_type": "code",
   "execution_count": null,
   "id": "95107b25-7d4b-423f-90ce-849c6f4a46c0",
   "metadata": {},
   "outputs": [],
   "source": [
    "submit = pd.read_csv('./sample_submission.csv')"
   ]
  },
  {
   "cell_type": "code",
   "execution_count": null,
   "id": "c7d82083-af35-4ba5-957d-1c7451404eab",
   "metadata": {
    "scrolled": true
   },
   "outputs": [],
   "source": [
    "submit['crush'] = pred_tot[0]\n",
    "submit['ego'] = pred_tot[1]\n",
    "submit['weather'] = pred_tot[2]\n",
    "submit['timing'] = pred_tot[3]\n",
    "submit['label']=-1\n",
    "submit.head()"
   ]
  },
  {
   "cell_type": "code",
   "execution_count": null,
   "id": "d0b61179",
   "metadata": {},
   "outputs": [],
   "source": [
    "submit[\"crush\"].value_counts(dropna=False).sort_index()"
   ]
  },
  {
   "cell_type": "code",
   "execution_count": null,
   "id": "2aac5232",
   "metadata": {},
   "outputs": [],
   "source": [
    "submit[\"ego\"].value_counts(dropna=False).sort_index()"
   ]
  },
  {
   "cell_type": "code",
   "execution_count": null,
   "id": "6e9fb62b",
   "metadata": {},
   "outputs": [],
   "source": [
    "submit[\"weather\"].value_counts(dropna=False).sort_index()"
   ]
  },
  {
   "cell_type": "code",
   "execution_count": null,
   "id": "7c20a930",
   "metadata": {},
   "outputs": [],
   "source": [
    "submit[\"timing\"].value_counts(dropna=False).sort_index()"
   ]
  },
  {
   "cell_type": "code",
   "execution_count": null,
   "id": "cfca19a6",
   "metadata": {},
   "outputs": [],
   "source": [
    "#label ensemble\n",
    "def label_ensemble(submit):\n",
    "    for i, row in submit.iterrows():\n",
    "        #print(i)\n",
    "        if row['crush']==0: # 0\n",
    "            submit['label'][i]=0 \n",
    "        else:\n",
    "            if row['ego']==1: # 1~6\n",
    "                if row['weather']==0: #1,2\n",
    "                    if row['timing']==0:\n",
    "                        submit['label'][i]=1\n",
    "                    else:\n",
    "                        submit['label'][i]=2\n",
    "                        \n",
    "                elif row['weather']==1:# 3,4\n",
    "                    if row['timing']==0:\n",
    "                        submit['label'][i]=3\n",
    "                    else:\n",
    "                        submit['label'][i]=4\n",
    "                else:\n",
    "                    if row['timing']==0:# 5,6\n",
    "                        submit['label'][i]=5\n",
    "                    else:\n",
    "                        submit['label'][i]=6\n",
    "    \n",
    "            else: # 7~12\n",
    "                if row['weather']==0: #7,8\n",
    "                    if row['timing']==0:\n",
    "                        submit['label'][i]=7\n",
    "                    else:\n",
    "                        submit['label'][i]=8\n",
    "                        \n",
    "                elif row['weather']==1:# 9,10\n",
    "                    if row['timing']==0:\n",
    "                        submit['label'][i]=9\n",
    "                    else:\n",
    "                        submit['label'][i]=10\n",
    "                else:\n",
    "                    if row['timing']==0:# 11,12\n",
    "                        submit['label'][i]=11\n",
    "                    else:\n",
    "                        submit['label'][i]=12\n",
    "        if submit['label'][i]==-1:\n",
    "            print(row['crush'], row['ego'], row['weather'], row['timing'])\n",
    "    #라벨 추가했으니 필요없는 열 이제 삭제\n",
    "    submit = submit.drop(['crush'],axis=1)\n",
    "    submit = submit.drop(['ego'],axis=1)\n",
    "    submit = submit.drop(['weather'],axis=1)\n",
    "    submit = submit.drop(['timing'],axis=1)\n",
    "    \n",
    "    return submit\n",
    "\n",
    "submit=label_ensemble(submit)"
   ]
  },
  {
   "cell_type": "code",
   "execution_count": null,
   "id": "dd24b98d-1ac7-46df-a833-16d4cb57ac04",
   "metadata": {},
   "outputs": [],
   "source": [
    "submit.to_csv('./r3d_labelEnsemble_submit.csv', index=False)"
   ]
  },
  {
   "cell_type": "code",
   "execution_count": null,
   "id": "e7b8213a",
   "metadata": {},
   "outputs": [],
   "source": [
    "submit[\"label\"].value_counts(dropna=False).sort_index()"
   ]
  },
  {
   "cell_type": "markdown",
   "id": "60f6718d",
   "metadata": {},
   "source": [
    "### test"
   ]
  },
  {
   "cell_type": "code",
   "execution_count": null,
   "id": "bc654b8b",
   "metadata": {},
   "outputs": [],
   "source": [
    "#https://dacon.io/en/competitions/official/236064/codeshare/7572?page=1&dtype=recent#\n",
    "class CustomDataset(Dataset):\n",
    "    def __init__(self, img_path_list, label_list, transforms=None):\n",
    "        self.label_list = label_list\n",
    "        self.transforms = transforms\n",
    "        self.img_path_list = img_path_list\n",
    "        \n",
    "    def __getitem__(self, index):        \n",
    "        images = self.get_frames(self.img_path_list[index])\n",
    "                        \n",
    "        if self.transforms is not None:\n",
    "            res = self.transforms(**images)\n",
    "            #print(images)\n",
    "            images = torch.zeros((len(images), 3, CFG.img_size, CFG.img_size))\n",
    "            #print(images.shape)\n",
    "            images[0, :, :, :] = torch.Tensor(res[\"image\"])\n",
    "            for i in range(1, len(images)):\n",
    "                images[i, :, :, :] = res[f\"image{i}\"]\n",
    "        \n",
    "        images=images.permute(1,0,2,3)\n",
    "        \n",
    "        if self.label_list is not None:\n",
    "            label = self.label_list[index]\n",
    "        \n",
    "            return images, label\n",
    "        else:\n",
    "            return images\n",
    "\n",
    "    def __len__(self):\n",
    "        return len(self.img_path_list) \n",
    "    \n",
    "    def get_frames(self, path):\n",
    "        cap = cv2.VideoCapture(path)\n",
    "        frames = int(cap.get(cv2.CAP_PROP_FRAME_COUNT))\n",
    "        imgs = []        \n",
    "        for fidx in range(frames):\n",
    "            _, img = cap.read()            \n",
    "            img = cv2.cvtColor(img, cv2.COLOR_BGR2RGB)\n",
    "            imgs.append(img)\n",
    "        \n",
    "        ret = {f\"image{i}\":imgs[i] for i in range(1, len(imgs))}\n",
    "        ret['image'] = imgs[0]\n",
    "\n",
    "        return ret\n",
    "    \n",
    "weather_transforms = A.Compose([\n",
    "    A.CenterCrop(480,854,p=1.0),\n",
    "    A.Resize(height=128, width=128),\n",
    "    A.Superpixels(p=0.3),\n",
    "    A.HorizontalFlip(0.5),\n",
    "    ToTensorV2()\n",
    "], p=1, additional_targets={f\"image{i}\":\"image\" for i in range(1, 50)})\n",
    "\n",
    "other_transforms = A.Compose([\n",
    "    A.CenterCrop(480,854,p=1.0),\n",
    "    A.Resize(height=128, width=128),\n",
    "    A.HorizontalFlip(0.5),\n",
    "    ToTensorV2()\n",
    "], p=1, additional_targets={f\"image{i}\":\"image\" for i in range(1, 50)})\n",
    "\n",
    "test_transforms= A.Compose([\n",
    "    A.CenterCrop(480,854,p=1.0),\n",
    "    A.Resize(height=128, width=128),\n",
    "    A.HorizontalFlip(0.5),\n",
    "    ToTensorV2()\n",
    "], p=1, additional_targets={f\"image{i}\":\"image\" for i in range(1, 50)})\n",
    "\n",
    "\n",
    "train_crush_dataset = CustomDataset(train_crush['video_path'].values, train_crush['crush'].values,transforms=other_transforms)\n",
    "train_crush_loader = DataLoader(train_crush_dataset, batch_size = CFG.batch_size, shuffle=True, num_workers=2)\n",
    "\n",
    "val_crush_dataset = CustomDataset(val_crush['video_path'].values, val_crush['crush'].values,transforms=test_transforms)\n",
    "val_crush_loader = DataLoader(val_crush_dataset, batch_size = CFG.batch_size, shuffle=False, num_workers=2)\n",
    "\n"
   ]
  },
  {
   "cell_type": "code",
   "execution_count": null,
   "id": "13170db1",
   "metadata": {},
   "outputs": [],
   "source": [
    "np.array(train_crush_dataset[0][0])"
   ]
  }
 ],
 "metadata": {
  "kernelspec": {
   "display_name": "Python 3 (ipykernel)",
   "language": "python",
   "name": "python3"
  },
  "language_info": {
   "codemirror_mode": {
    "name": "ipython",
    "version": 3
   },
   "file_extension": ".py",
   "mimetype": "text/x-python",
   "name": "python",
   "nbconvert_exporter": "python",
   "pygments_lexer": "ipython3",
   "version": "3.7.11"
  },
  "vscode": {
   "interpreter": {
    "hash": "d4d1e4263499bec80672ea0156c357c1ee493ec2b1c70f0acce89fc37c4a6abe"
   }
  }
 },
 "nbformat": 4,
 "nbformat_minor": 5
}
