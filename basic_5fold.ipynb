{
 "cells": [
  {
   "cell_type": "markdown",
   "id": "a2bcba5f-002e-4f49-9622-ada6117faf0a",
   "metadata": {},
   "source": [
    "## Import"
   ]
  },
  {
   "cell_type": "code",
   "execution_count": 1,
   "id": "138272c7",
   "metadata": {},
   "outputs": [],
   "source": [
    "from data import *\n",
    "from utils import *\n",
    "from model import *\n",
    "from train import *\n",
    "from infer import *\n",
    "import random\n",
    "import os\n",
    "import torch\n",
    "import pandas as pd\n",
    "import sklearn\n",
    "from matplotlib import pyplot as plt"
   ]
  },
  {
   "cell_type": "code",
   "execution_count": 2,
   "id": "d13862e3-bb27-47af-9b58-a9fbf804df71",
   "metadata": {},
   "outputs": [],
   "source": [
    "device = torch.device('cuda') if torch.cuda.is_available() else torch.device('cpu')"
   ]
  },
  {
   "cell_type": "markdown",
   "id": "4254e860-ff82-43ba-bfa3-fcee4eb3ddbd",
   "metadata": {},
   "source": [
    "## Fixed RandomSeed"
   ]
  },
  {
   "cell_type": "code",
   "execution_count": 3,
   "id": "101a714b-71b6-4475-a4ce-fa5f98bc2731",
   "metadata": {},
   "outputs": [],
   "source": [
    "def seed_everything(seed):\n",
    "    random.seed(seed)\n",
    "    os.environ['PYTHONHASHSEED'] = str(seed)\n",
    "    np.random.seed(seed)\n",
    "    torch.manual_seed(seed)\n",
    "    torch.cuda.manual_seed(seed)\n",
    "    torch.backends.cudnn.deterministic = True\n",
    "    torch.backends.cudnn.benchmark = True\n",
    "\n",
    "seed_everything(CFG.seed) # Seed 고정"
   ]
  },
  {
   "cell_type": "markdown",
   "id": "05a4172e-5791-446f-9616-35c09d8bf25a",
   "metadata": {},
   "source": [
    "## Data Load"
   ]
  },
  {
   "cell_type": "code",
   "execution_count": 4,
   "id": "a62c78cd-4f40-4e98-b8a6-1b6f1d906b4d",
   "metadata": {},
   "outputs": [
    {
     "data": {
      "text/html": [
       "<div>\n",
       "<style scoped>\n",
       "    .dataframe tbody tr th:only-of-type {\n",
       "        vertical-align: middle;\n",
       "    }\n",
       "\n",
       "    .dataframe tbody tr th {\n",
       "        vertical-align: top;\n",
       "    }\n",
       "\n",
       "    .dataframe thead th {\n",
       "        text-align: right;\n",
       "    }\n",
       "</style>\n",
       "<table border=\"1\" class=\"dataframe\">\n",
       "  <thead>\n",
       "    <tr style=\"text-align: right;\">\n",
       "      <th></th>\n",
       "      <th>Unnamed: 0</th>\n",
       "      <th>sample_id</th>\n",
       "      <th>video_path</th>\n",
       "      <th>label</th>\n",
       "      <th>crush</th>\n",
       "      <th>ego</th>\n",
       "      <th>weather</th>\n",
       "      <th>timing</th>\n",
       "    </tr>\n",
       "  </thead>\n",
       "  <tbody>\n",
       "    <tr>\n",
       "      <th>0</th>\n",
       "      <td>0</td>\n",
       "      <td>TRAIN_0000</td>\n",
       "      <td>./train/TRAIN_0000.mp4</td>\n",
       "      <td>7</td>\n",
       "      <td>1</td>\n",
       "      <td>0</td>\n",
       "      <td>0</td>\n",
       "      <td>0</td>\n",
       "    </tr>\n",
       "    <tr>\n",
       "      <th>1</th>\n",
       "      <td>1</td>\n",
       "      <td>TRAIN_0001</td>\n",
       "      <td>./train/TRAIN_0001.mp4</td>\n",
       "      <td>7</td>\n",
       "      <td>1</td>\n",
       "      <td>0</td>\n",
       "      <td>0</td>\n",
       "      <td>0</td>\n",
       "    </tr>\n",
       "    <tr>\n",
       "      <th>2</th>\n",
       "      <td>2</td>\n",
       "      <td>TRAIN_0002</td>\n",
       "      <td>./train/TRAIN_0002.mp4</td>\n",
       "      <td>0</td>\n",
       "      <td>0</td>\n",
       "      <td>-1</td>\n",
       "      <td>-1</td>\n",
       "      <td>-1</td>\n",
       "    </tr>\n",
       "    <tr>\n",
       "      <th>3</th>\n",
       "      <td>3</td>\n",
       "      <td>TRAIN_0003</td>\n",
       "      <td>./train/TRAIN_0003.mp4</td>\n",
       "      <td>0</td>\n",
       "      <td>0</td>\n",
       "      <td>-1</td>\n",
       "      <td>-1</td>\n",
       "      <td>-1</td>\n",
       "    </tr>\n",
       "    <tr>\n",
       "      <th>4</th>\n",
       "      <td>4</td>\n",
       "      <td>TRAIN_0004</td>\n",
       "      <td>./train/TRAIN_0004.mp4</td>\n",
       "      <td>1</td>\n",
       "      <td>1</td>\n",
       "      <td>1</td>\n",
       "      <td>0</td>\n",
       "      <td>0</td>\n",
       "    </tr>\n",
       "  </tbody>\n",
       "</table>\n",
       "</div>"
      ],
      "text/plain": [
       "   Unnamed: 0   sample_id              video_path  label  crush  ego  weather  \\\n",
       "0           0  TRAIN_0000  ./train/TRAIN_0000.mp4      7      1    0        0   \n",
       "1           1  TRAIN_0001  ./train/TRAIN_0001.mp4      7      1    0        0   \n",
       "2           2  TRAIN_0002  ./train/TRAIN_0002.mp4      0      0   -1       -1   \n",
       "3           3  TRAIN_0003  ./train/TRAIN_0003.mp4      0      0   -1       -1   \n",
       "4           4  TRAIN_0004  ./train/TRAIN_0004.mp4      1      1    1        0   \n",
       "\n",
       "   timing  \n",
       "0       0  \n",
       "1       0  \n",
       "2      -1  \n",
       "3      -1  \n",
       "4       0  "
      ]
     },
     "execution_count": 4,
     "metadata": {},
     "output_type": "execute_result"
    }
   ],
   "source": [
    "df = pd.read_csv('./train_detail_classified.csv')\n",
    "df.head()"
   ]
  },
  {
   "cell_type": "markdown",
   "id": "41b11538",
   "metadata": {},
   "source": [
    "## stratified K fold"
   ]
  },
  {
   "cell_type": "code",
   "execution_count": 5,
   "id": "af81edcf",
   "metadata": {},
   "outputs": [],
   "source": [
    "#-1 라벨인 데이터 버리기\n",
    "df_ego=df[df['ego']!=-1].reset_index(drop=True)\n",
    "df_weather=df[df['weather']!=-1].reset_index(drop=True)\n",
    "df_timing=df[df['timing']!=-1].reset_index(drop=True)\n",
    "dfs=[(df, df['crush']),(df_ego, df_ego['ego']), (df_weather,df_weather['weather']), (df_timing,df_timing['timing'])]"
   ]
  },
  {
   "cell_type": "code",
   "execution_count": 6,
   "id": "e34eb9be",
   "metadata": {
    "scrolled": true
   },
   "outputs": [],
   "source": [
    "skf = sklearn.model_selection.StratifiedKFold(n_splits=CFG.fold, shuffle=True, random_state=CFG.seed)\n",
    "#라벨 분포에 맞춰서 fold, val 정보 넣기\n",
    "for data in dfs:\n",
    "    data[0][\"fold\"]=-1\n",
    "    for k, (train_idx, val_idx) in enumerate(skf.split(*data)):\n",
    "        data[0].loc[val_idx, 'fold']=k"
   ]
  },
  {
   "cell_type": "markdown",
   "id": "51da39f9-904f-4abd-a7d2-cdf29c4a6c24",
   "metadata": {},
   "source": [
    "## Run!!"
   ]
  },
  {
   "cell_type": "code",
   "execution_count": 7,
   "id": "86142d9a-68b7-4d04-8423-49d28025411d",
   "metadata": {
    "tags": []
   },
   "outputs": [],
   "source": [
    "model_crush = BaseModel(num_classes=2, fc_type='shallow')\n",
    "model_ego = BaseModel(num_classes=2, fc_type='shallow')\n",
    "model_weather = BaseModel(num_classes=3, fc_type='shallow', binary=False)\n",
    "model_timing = BaseModel(num_classes=2, fc_type='shallow')\n",
    "\n",
    "models=[model_crush, model_ego, model_weather, model_timing]\n",
    "dfs=[(df, df['crush']),(df_ego, df_ego['ego']), (df_weather,df_weather['weather']), (df_timing,df_timing['timing'])]\n",
    "names=[\"crush\", \"ego\", \"weather\", \"timing\"]"
   ]
  },
  {
   "cell_type": "code",
   "execution_count": null,
   "id": "9f5a9453",
   "metadata": {},
   "outputs": [
    {
     "name": "stdout",
     "output_type": "stream",
     "text": [
      "crush model run\n",
      "1th model run\n",
      "____________________________________________________________________________________________________\n"
     ]
    },
    {
     "data": {
      "application/vnd.jupyter.widget-view+json": {
       "model_id": "a137d9ab818e4c839994c1c9cd66e51e",
       "version_major": 2,
       "version_minor": 0
      },
      "text/plain": [
       "  0%|          | 0/135 [00:00<?, ?it/s]"
      ]
     },
     "metadata": {},
     "output_type": "display_data"
    },
    {
     "data": {
      "application/vnd.jupyter.widget-view+json": {
       "model_id": "3d3b74a26794400d85bd268646afe9b0",
       "version_major": 2,
       "version_minor": 0
      },
      "text/plain": [
       "  0%|          | 0/34 [00:00<?, ?it/s]"
      ]
     },
     "metadata": {},
     "output_type": "display_data"
    },
    {
     "name": "stdout",
     "output_type": "stream",
     "text": [
      "Epoch [1], Train Loss : [0.14109] Val Loss : [0.05125] Val F1 : [0.97692]\n"
     ]
    },
    {
     "data": {
      "application/vnd.jupyter.widget-view+json": {
       "model_id": "f56c78eab7674d3ba9492a1d4d262be6",
       "version_major": 2,
       "version_minor": 0
      },
      "text/plain": [
       "  0%|          | 0/135 [00:00<?, ?it/s]"
      ]
     },
     "metadata": {},
     "output_type": "display_data"
    },
    {
     "data": {
      "application/vnd.jupyter.widget-view+json": {
       "model_id": "82626ef12c9e4cb8bb47ffe9cd392e23",
       "version_major": 2,
       "version_minor": 0
      },
      "text/plain": [
       "  0%|          | 0/34 [00:00<?, ?it/s]"
      ]
     },
     "metadata": {},
     "output_type": "display_data"
    },
    {
     "name": "stdout",
     "output_type": "stream",
     "text": [
      "Epoch [2], Train Loss : [0.04855] Val Loss : [0.11550] Val F1 : [0.95950]\n",
      "early stopping count : 1\n"
     ]
    },
    {
     "data": {
      "application/vnd.jupyter.widget-view+json": {
       "model_id": "e303301809c64dc1b03fed35b2ca6aec",
       "version_major": 2,
       "version_minor": 0
      },
      "text/plain": [
       "  0%|          | 0/135 [00:00<?, ?it/s]"
      ]
     },
     "metadata": {},
     "output_type": "display_data"
    },
    {
     "data": {
      "application/vnd.jupyter.widget-view+json": {
       "model_id": "21288aebf899497881d87b1209505136",
       "version_major": 2,
       "version_minor": 0
      },
      "text/plain": [
       "  0%|          | 0/34 [00:00<?, ?it/s]"
      ]
     },
     "metadata": {},
     "output_type": "display_data"
    },
    {
     "name": "stdout",
     "output_type": "stream",
     "text": [
      "Epoch [3], Train Loss : [0.03789] Val Loss : [0.01867] Val F1 : [0.99586]\n"
     ]
    },
    {
     "data": {
      "application/vnd.jupyter.widget-view+json": {
       "model_id": "8327cba787574d5996e5576f9604b5b4",
       "version_major": 2,
       "version_minor": 0
      },
      "text/plain": [
       "  0%|          | 0/135 [00:00<?, ?it/s]"
      ]
     },
     "metadata": {},
     "output_type": "display_data"
    },
    {
     "data": {
      "application/vnd.jupyter.widget-view+json": {
       "model_id": "243c170cb4a14182a38f0dce008cdbd8",
       "version_major": 2,
       "version_minor": 0
      },
      "text/plain": [
       "  0%|          | 0/34 [00:00<?, ?it/s]"
      ]
     },
     "metadata": {},
     "output_type": "display_data"
    },
    {
     "name": "stdout",
     "output_type": "stream",
     "text": [
      "Epoch [4], Train Loss : [0.05342] Val Loss : [0.02785] Val F1 : [0.98757]\n",
      "early stopping count : 1\n"
     ]
    },
    {
     "data": {
      "application/vnd.jupyter.widget-view+json": {
       "model_id": "c8bb744d114e46b597cc0322ed425558",
       "version_major": 2,
       "version_minor": 0
      },
      "text/plain": [
       "  0%|          | 0/135 [00:00<?, ?it/s]"
      ]
     },
     "metadata": {},
     "output_type": "display_data"
    }
   ],
   "source": [
    "#crush\n",
    "run(models[0],dfs[0][0], names[0], transforms= Transforms.other, device=device, save_dir='./crush', is_fold=False)"
   ]
  },
  {
   "cell_type": "code",
   "execution_count": null,
   "id": "bbacabdf",
   "metadata": {},
   "outputs": [],
   "source": [
    "#ego\n",
    "run(models[1],dfs[1][0], names[1], transforms= Transforms.other, device=device,save_dir='./ego', is_fold=True)"
   ]
  },
  {
   "cell_type": "code",
   "execution_count": null,
   "id": "13d960e2",
   "metadata": {},
   "outputs": [],
   "source": [
    "#weather\n",
    "run(models[2],dfs[2][0], names[2], transforms= Transforms.weather, device=device,save_dir='./weather', is_fold=True)"
   ]
  },
  {
   "cell_type": "code",
   "execution_count": null,
   "id": "4e83f7e2",
   "metadata": {},
   "outputs": [],
   "source": [
    "#timing\n",
    "run(models[3],dfs[3][0], names[3], transforms= Transforms.other, device=device, save_dir='./timing', is_fold=False)"
   ]
  },
  {
   "cell_type": "markdown",
   "id": "d32efed9-ec88-40fc-83d2-e995e48c372a",
   "metadata": {},
   "source": [
    "## Inference"
   ]
  },
  {
   "cell_type": "code",
   "execution_count": null,
   "id": "0498feef-9ca7-42ea-b73a-51a06dd4c684",
   "metadata": {},
   "outputs": [],
   "source": [
    "test = pd.read_csv('./test.csv')"
   ]
  },
  {
   "cell_type": "code",
   "execution_count": null,
   "id": "a1bc676a-5216-4e1a-ac2c-3e940e8a3909",
   "metadata": {},
   "outputs": [],
   "source": [
    "test_dataset = CustomDataset(test['video_path'].values, None, transforms=test_transforms)\n",
    "test_loader = DataLoader(test_dataset, batch_size = CFG.batch_size, shuffle=False, num_workers=0)"
   ]
  },
  {
   "cell_type": "code",
   "execution_count": null,
   "id": "7947babd",
   "metadata": {},
   "outputs": [],
   "source": [
    "preds_crush=run_infer(model=models[0], name=names[0], path='./crush/crush.pt', fold=False, is_parallel=False)"
   ]
  },
  {
   "cell_type": "code",
   "execution_count": null,
   "id": "2510f49e",
   "metadata": {},
   "outputs": [],
   "source": [
    "preds_ego=run_infer(model=models[1], name=names[1], path='./ego/ego.pt', fold=True, is_parallel=False)"
   ]
  },
  {
   "cell_type": "code",
   "execution_count": null,
   "id": "d2717758",
   "metadata": {},
   "outputs": [],
   "source": [
    "preds_weather=run_infer(model=models[2], name=names[2], path='./weather/weather.pt', fold=True, is_parallel=False)"
   ]
  },
  {
   "cell_type": "code",
   "execution_count": null,
   "id": "0f05c76f",
   "metadata": {},
   "outputs": [],
   "source": [
    "preds_timing=run_infer(model=models[3], name=names[3], path='./timing/timing.pt', fold=False, is_parallel=False)"
   ]
  },
  {
   "cell_type": "markdown",
   "id": "370e5a18-de28-4c3d-a33b-77d4797911eb",
   "metadata": {},
   "source": [
    "## Submission"
   ]
  },
  {
   "cell_type": "code",
   "execution_count": null,
   "id": "95107b25-7d4b-423f-90ce-849c6f4a46c0",
   "metadata": {},
   "outputs": [],
   "source": [
    "sample = pd.read_csv('./sample_submission.csv')"
   ]
  },
  {
   "cell_type": "code",
   "execution_count": null,
   "id": "4a896a06",
   "metadata": {
    "scrolled": true
   },
   "outputs": [],
   "source": [
    "_,ss_ego=voting('ego', preds_ego, False, False)\n",
    "_,ss_weather=voting('weather', preds_weather, False, False)"
   ]
  },
  {
   "cell_type": "code",
   "execution_count": null,
   "id": "e408daff",
   "metadata": {},
   "outputs": [],
   "source": [
    "submit = pd.read_csv('./sample_submission.csv')\n",
    "submit['weather']=ss_weather['weather']\n",
    "submit['ego']=ss['ego']\n",
    "submit['crush']=preds_crush\n",
    "submit['timing']=preds_timing"
   ]
  },
  {
   "cell_type": "code",
   "execution_count": null,
   "id": "d0b61179",
   "metadata": {},
   "outputs": [],
   "source": [
    "submit[\"crush\"].value_counts(dropna=False).sort_index()"
   ]
  },
  {
   "cell_type": "code",
   "execution_count": null,
   "id": "2aac5232",
   "metadata": {},
   "outputs": [],
   "source": [
    "submit[\"ego\"].value_counts(dropna=False).sort_index()"
   ]
  },
  {
   "cell_type": "code",
   "execution_count": null,
   "id": "6e9fb62b",
   "metadata": {},
   "outputs": [],
   "source": [
    "submit[\"weather\"].value_counts(dropna=False).sort_index()"
   ]
  },
  {
   "cell_type": "code",
   "execution_count": null,
   "id": "7c20a930",
   "metadata": {},
   "outputs": [],
   "source": [
    "submit[\"timing\"].value_counts(dropna=False).sort_index()"
   ]
  },
  {
   "cell_type": "code",
   "execution_count": null,
   "id": "cfca19a6",
   "metadata": {},
   "outputs": [],
   "source": [
    "#label ensemble\n",
    "def label_ensemble(submit):\n",
    "    for i, row in submit.iterrows():\n",
    "        #print(i)\n",
    "        if row['crush']==0: # 0\n",
    "            submit['label'][i]=0 \n",
    "        else:\n",
    "            if row['ego']==1: # 1~6\n",
    "                if row['weather']==0: #1,2\n",
    "                    if row['timing']==0:\n",
    "                        submit['label'][i]=1\n",
    "                    else:\n",
    "                        submit['label'][i]=2\n",
    "                        \n",
    "                elif row['weather']==1:# 3,4\n",
    "                    if row['timing']==0:\n",
    "                        submit['label'][i]=3\n",
    "                    else:\n",
    "                        submit['label'][i]=4\n",
    "                else:\n",
    "                    if row['timing']==0:# 5,6\n",
    "                        submit['label'][i]=5\n",
    "                    else:\n",
    "                        submit['label'][i]=6\n",
    "    \n",
    "            else: # 7~12\n",
    "                if row['weather']==0: #7,8\n",
    "                    if row['timing']==0:\n",
    "                        submit['label'][i]=7\n",
    "                    else:\n",
    "                        submit['label'][i]=8\n",
    "                        \n",
    "                elif row['weather']==1:# 9,10\n",
    "                    if row['timing']==0:\n",
    "                        submit['label'][i]=9\n",
    "                    else:\n",
    "                        submit['label'][i]=10\n",
    "                else:\n",
    "                    if row['timing']==0:# 11,12\n",
    "                        submit['label'][i]=11\n",
    "                    else:\n",
    "                        submit['label'][i]=12\n",
    "        if submit['label'][i]==-1:\n",
    "            print(row['crush'], row['ego'], row['weather'], row['timing'])\n",
    "    #라벨 추가했으니 필요없는 열 이제 삭제\n",
    "    submit = submit.drop(['crush'],axis=1)\n",
    "    submit = submit.drop(['ego'],axis=1)\n",
    "    submit = submit.drop(['weather'],axis=1)\n",
    "    submit = submit.drop(['timing'],axis=1)\n",
    "    \n",
    "    return submit\n",
    "\n",
    "submit=label_ensemble(submit)"
   ]
  },
  {
   "cell_type": "code",
   "execution_count": null,
   "id": "dd24b98d-1ac7-46df-a833-16d4cb57ac04",
   "metadata": {},
   "outputs": [],
   "source": [
    "submit.to_csv('./5fold_basic_submit.csv', index=False)"
   ]
  },
  {
   "cell_type": "code",
   "execution_count": null,
   "id": "4ea43715",
   "metadata": {
    "scrolled": false
   },
   "outputs": [],
   "source": [
    "submit[\"label\"].value_counts(dropna=False).sort_index()"
   ]
  }
 ],
 "metadata": {
  "kernelspec": {
   "display_name": "Python 3 (ipykernel)",
   "language": "python",
   "name": "python3"
  },
  "language_info": {
   "codemirror_mode": {
    "name": "ipython",
    "version": 3
   },
   "file_extension": ".py",
   "mimetype": "text/x-python",
   "name": "python",
   "nbconvert_exporter": "python",
   "pygments_lexer": "ipython3",
   "version": "3.7.11"
  },
  "vscode": {
   "interpreter": {
    "hash": "d4d1e4263499bec80672ea0156c357c1ee493ec2b1c70f0acce89fc37c4a6abe"
   }
  }
 },
 "nbformat": 4,
 "nbformat_minor": 5
}
