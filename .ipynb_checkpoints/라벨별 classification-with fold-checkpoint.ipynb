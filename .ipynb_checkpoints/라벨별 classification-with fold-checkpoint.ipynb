{
 "cells": [
  {
   "cell_type": "markdown",
   "id": "a2bcba5f-002e-4f49-9622-ada6117faf0a",
   "metadata": {},
   "source": [
    "## Import"
   ]
  },
  {
   "cell_type": "code",
   "execution_count": 1,
   "id": "2b0d9b68-7102-4eca-9543-3b9b8acafc6e",
   "metadata": {},
   "outputs": [],
   "source": [
    "import random\n",
    "import pandas as pd\n",
    "import numpy as np\n",
    "import os\n",
    "import cv2\n",
    "\n",
    "import torch\n",
    "import torch.nn as nn\n",
    "import torch.optim as optim\n",
    "import torch.nn.functional as F\n",
    "from torch.utils.data import Dataset, DataLoader\n",
    "\n",
    "import albumentations as A\n",
    "from albumentations.pytorch.transforms import ToTensorV2\n",
    "from ipywidgets import interact\n",
    "from matplotlib import pyplot as plt\n",
    "\n",
    "from tqdm.auto import tqdm\n",
    "from sklearn.model_selection import train_test_split\n",
    "from sklearn.metrics import f1_score\n",
    "import sklearn\n",
    "\n",
    "import timm\n",
    "from torchvision.models import video\n",
    "import torchvision\n",
    "\n",
    "import warnings\n",
    "warnings.filterwarnings(action='ignore') "
   ]
  },
  {
   "cell_type": "code",
   "execution_count": 2,
   "id": "d13862e3-bb27-47af-9b58-a9fbf804df71",
   "metadata": {},
   "outputs": [],
   "source": [
    "device = torch.device('cuda') if torch.cuda.is_available() else torch.device('cpu')"
   ]
  },
  {
   "cell_type": "markdown",
   "id": "fc7df3f2-62d0-4499-a46e-47d01699def0",
   "metadata": {},
   "source": [
    "## Hyperparameter Setting"
   ]
  },
  {
   "cell_type": "code",
   "execution_count": 3,
   "id": "c3367399-9798-4e38-967b-fd2320b9a2b2",
   "metadata": {},
   "outputs": [],
   "source": [
    "class CFG:\n",
    "    model_name= \"r3d_18\"\n",
    "    n_folds = 5\n",
    "    n_classes = 13\n",
    "    video_length=50\n",
    "    img_size=128\n",
    "    epochs=50\n",
    "    lr=3e-4\n",
    "    batch_size=16\n",
    "    seed=41\n",
    "    earlystop=10\n",
    "        "
   ]
  },
  {
   "cell_type": "markdown",
   "id": "4254e860-ff82-43ba-bfa3-fcee4eb3ddbd",
   "metadata": {},
   "source": [
    "## Fixed RandomSeed"
   ]
  },
  {
   "cell_type": "code",
   "execution_count": 4,
   "id": "101a714b-71b6-4475-a4ce-fa5f98bc2731",
   "metadata": {},
   "outputs": [],
   "source": [
    "def seed_everything(seed):\n",
    "    random.seed(seed)\n",
    "    os.environ['PYTHONHASHSEED'] = str(seed)\n",
    "    np.random.seed(seed)\n",
    "    torch.manual_seed(seed)\n",
    "    torch.cuda.manual_seed(seed)\n",
    "    torch.backends.cudnn.deterministic = True\n",
    "    torch.backends.cudnn.benchmark = True\n",
    "\n",
    "seed_everything(CFG.seed) # Seed 고정"
   ]
  },
  {
   "cell_type": "markdown",
   "id": "05a4172e-5791-446f-9616-35c09d8bf25a",
   "metadata": {},
   "source": [
    "## Data Load"
   ]
  },
  {
   "cell_type": "code",
   "execution_count": 5,
   "id": "a62c78cd-4f40-4e98-b8a6-1b6f1d906b4d",
   "metadata": {},
   "outputs": [
    {
     "data": {
      "text/html": [
       "<div>\n",
       "<style scoped>\n",
       "    .dataframe tbody tr th:only-of-type {\n",
       "        vertical-align: middle;\n",
       "    }\n",
       "\n",
       "    .dataframe tbody tr th {\n",
       "        vertical-align: top;\n",
       "    }\n",
       "\n",
       "    .dataframe thead th {\n",
       "        text-align: right;\n",
       "    }\n",
       "</style>\n",
       "<table border=\"1\" class=\"dataframe\">\n",
       "  <thead>\n",
       "    <tr style=\"text-align: right;\">\n",
       "      <th></th>\n",
       "      <th>Unnamed: 0</th>\n",
       "      <th>sample_id</th>\n",
       "      <th>video_path</th>\n",
       "      <th>label</th>\n",
       "      <th>crush</th>\n",
       "      <th>ego</th>\n",
       "      <th>weather</th>\n",
       "      <th>timing</th>\n",
       "    </tr>\n",
       "  </thead>\n",
       "  <tbody>\n",
       "    <tr>\n",
       "      <th>0</th>\n",
       "      <td>0</td>\n",
       "      <td>TRAIN_0000</td>\n",
       "      <td>./train/TRAIN_0000.mp4</td>\n",
       "      <td>7</td>\n",
       "      <td>1</td>\n",
       "      <td>0</td>\n",
       "      <td>0</td>\n",
       "      <td>0</td>\n",
       "    </tr>\n",
       "    <tr>\n",
       "      <th>1</th>\n",
       "      <td>1</td>\n",
       "      <td>TRAIN_0001</td>\n",
       "      <td>./train/TRAIN_0001.mp4</td>\n",
       "      <td>7</td>\n",
       "      <td>1</td>\n",
       "      <td>0</td>\n",
       "      <td>0</td>\n",
       "      <td>0</td>\n",
       "    </tr>\n",
       "    <tr>\n",
       "      <th>2</th>\n",
       "      <td>2</td>\n",
       "      <td>TRAIN_0002</td>\n",
       "      <td>./train/TRAIN_0002.mp4</td>\n",
       "      <td>0</td>\n",
       "      <td>0</td>\n",
       "      <td>-1</td>\n",
       "      <td>-1</td>\n",
       "      <td>-1</td>\n",
       "    </tr>\n",
       "    <tr>\n",
       "      <th>3</th>\n",
       "      <td>3</td>\n",
       "      <td>TRAIN_0003</td>\n",
       "      <td>./train/TRAIN_0003.mp4</td>\n",
       "      <td>0</td>\n",
       "      <td>0</td>\n",
       "      <td>-1</td>\n",
       "      <td>-1</td>\n",
       "      <td>-1</td>\n",
       "    </tr>\n",
       "    <tr>\n",
       "      <th>4</th>\n",
       "      <td>4</td>\n",
       "      <td>TRAIN_0004</td>\n",
       "      <td>./train/TRAIN_0004.mp4</td>\n",
       "      <td>1</td>\n",
       "      <td>1</td>\n",
       "      <td>1</td>\n",
       "      <td>0</td>\n",
       "      <td>0</td>\n",
       "    </tr>\n",
       "  </tbody>\n",
       "</table>\n",
       "</div>"
      ],
      "text/plain": [
       "   Unnamed: 0   sample_id              video_path  label  crush  ego  weather  \\\n",
       "0           0  TRAIN_0000  ./train/TRAIN_0000.mp4      7      1    0        0   \n",
       "1           1  TRAIN_0001  ./train/TRAIN_0001.mp4      7      1    0        0   \n",
       "2           2  TRAIN_0002  ./train/TRAIN_0002.mp4      0      0   -1       -1   \n",
       "3           3  TRAIN_0003  ./train/TRAIN_0003.mp4      0      0   -1       -1   \n",
       "4           4  TRAIN_0004  ./train/TRAIN_0004.mp4      1      1    1        0   \n",
       "\n",
       "   timing  \n",
       "0       0  \n",
       "1       0  \n",
       "2      -1  \n",
       "3      -1  \n",
       "4       0  "
      ]
     },
     "execution_count": 5,
     "metadata": {},
     "output_type": "execute_result"
    }
   ],
   "source": [
    "df = pd.read_csv('./train_detail_classified.csv')\n",
    "df.head()"
   ]
  },
  {
   "cell_type": "markdown",
   "id": "41b11538",
   "metadata": {},
   "source": [
    "## stratified K fold"
   ]
  },
  {
   "cell_type": "raw",
   "id": "88699d5e",
   "metadata": {},
   "source": [
    "#-1 라벨인 데이터 버리기\n",
    "#df_crush=df[df['crush']!=1]\n",
    "df_ego=df[df['ego']!=-1]\n",
    "df_weather=df[df['weather']!=-1]\n",
    "df_timing=df[df['timing']!=-1]\n",
    "dfs=[(df, df['crush']),(df_ego, df_ego['ego']), (df_weather,df_weather['weather']), (df_timing,df_timing['timing'])]"
   ]
  },
  {
   "cell_type": "code",
   "execution_count": 110,
   "id": "e9849a78",
   "metadata": {
    "scrolled": true
   },
   "outputs": [
    {
     "data": {
      "text/plain": [
       "(      Unnamed: 0   sample_id              video_path  label  crush  ego  \\\n",
       " 0              0  TRAIN_0000  ./train/TRAIN_0000.mp4      7      1    0   \n",
       " 1              1  TRAIN_0001  ./train/TRAIN_0001.mp4      7      1    0   \n",
       " 4              4  TRAIN_0004  ./train/TRAIN_0004.mp4      1      1    1   \n",
       " 6              6  TRAIN_0006  ./train/TRAIN_0006.mp4      3      1    1   \n",
       " 7              7  TRAIN_0007  ./train/TRAIN_0007.mp4      7      1    0   \n",
       " ...          ...         ...                     ...    ...    ...  ...   \n",
       " 2685        2685  TRAIN_2685  ./train/TRAIN_2685.mp4      8      1    0   \n",
       " 2689        2689  TRAIN_2689  ./train/TRAIN_2689.mp4      1      1    1   \n",
       " 2692        2692  TRAIN_2692  ./train/TRAIN_2692.mp4      7      1    0   \n",
       " 2693        2693  TRAIN_2693  ./train/TRAIN_2693.mp4      3      1    1   \n",
       " 2694        2694  TRAIN_2694  ./train/TRAIN_2694.mp4      5      1    1   \n",
       " \n",
       "       weather  timing  fold  \n",
       " 0           0       0    -1  \n",
       " 1           0       0    -1  \n",
       " 4           0       0    -1  \n",
       " 6           1       0    -1  \n",
       " 7           0       0    -1  \n",
       " ...       ...     ...   ...  \n",
       " 2685        0       1    -1  \n",
       " 2689        0       0    -1  \n",
       " 2692        0       0    -1  \n",
       " 2693        1       0    -1  \n",
       " 2694        2       0    -1  \n",
       " \n",
       " [915 rows x 9 columns],\n",
       " 0       0\n",
       " 1       0\n",
       " 4       1\n",
       " 6       1\n",
       " 7       0\n",
       "        ..\n",
       " 2685    0\n",
       " 2689    1\n",
       " 2692    0\n",
       " 2693    1\n",
       " 2694    1\n",
       " Name: ego, Length: 915, dtype: int64)"
      ]
     },
     "execution_count": 110,
     "metadata": {},
     "output_type": "execute_result"
    }
   ],
   "source": [
    "dfs[1]"
   ]
  },
  {
   "cell_type": "code",
   "execution_count": 114,
   "id": "eb9fe63a",
   "metadata": {
    "scrolled": true
   },
   "outputs": [
    {
     "data": {
      "text/plain": [
       "0       0\n",
       "1       0\n",
       "4       1\n",
       "6       1\n",
       "7       0\n",
       "       ..\n",
       "2685    0\n",
       "2689    1\n",
       "2692    0\n",
       "2693    1\n",
       "2694    1\n",
       "Name: ego, Length: 915, dtype: int64"
      ]
     },
     "execution_count": 114,
     "metadata": {},
     "output_type": "execute_result"
    }
   ],
   "source": [
    "df_ego['ego']"
   ]
  },
  {
   "cell_type": "code",
   "execution_count": 120,
   "id": "c38d3cce",
   "metadata": {},
   "outputs": [
    {
     "name": "stdout",
     "output_type": "stream",
     "text": [
      "[  0   6  42  49  56  60  68  82  84 101 116 133 135 148 163 164 171 181\n",
      " 193 202 203 205 209 210 214 222 269 275 291 303 313 342 345 347 362 370\n",
      " 379 381 386 387 414 421 422 427 429 443 453 459 464 498 504 522 534 545\n",
      " 562 576 593 597 605 606 612 620 639 641 653 654 673 675 676 681 687 698\n",
      " 705 706 723 726 731 750 772 778 783 794 805 821 822 836 846 849 863 878\n",
      " 889 891]\n"
     ]
    },
    {
     "ename": "KeyError",
     "evalue": "'[42, 68, 82, 84, 101, 116, 133, 135, 148, 163, 171, 181, 193, 202, 203, 209, 210, 214, 269, 275, 291, 303, 345, 362, 370, 379, 381, 386, 387, 414, 421, 422, 427, 429, 443, 453, 459, 464, 498, 504, 522, 534, 562, 593, 605, 612, 641, 654, 673, 675, 676, 681, 687, 698, 723, 726, 731, 772, 794, 821, 822, 836, 849, 891] not in index'",
     "output_type": "error",
     "traceback": [
      "\u001b[0;31m---------------------------------------------------------------------------\u001b[0m",
      "\u001b[0;31mKeyError\u001b[0m                                  Traceback (most recent call last)",
      "\u001b[0;32m/tmp/ipykernel_14496/2120060858.py\u001b[0m in \u001b[0;36m<module>\u001b[0;34m\u001b[0m\n\u001b[1;32m      4\u001b[0m     \u001b[0;31m#print(data[0])\u001b[0m\u001b[0;34m\u001b[0m\u001b[0;34m\u001b[0m\u001b[0;34m\u001b[0m\u001b[0m\n\u001b[1;32m      5\u001b[0m     \u001b[0mprint\u001b[0m\u001b[0;34m(\u001b[0m\u001b[0mval_idx\u001b[0m\u001b[0;34m)\u001b[0m\u001b[0;34m\u001b[0m\u001b[0;34m\u001b[0m\u001b[0m\n\u001b[0;32m----> 6\u001b[0;31m     \u001b[0mdf_ego\u001b[0m\u001b[0;34m.\u001b[0m\u001b[0mloc\u001b[0m\u001b[0;34m[\u001b[0m\u001b[0mval_idx\u001b[0m\u001b[0;34m,\u001b[0m \u001b[0;34m'fold'\u001b[0m\u001b[0;34m]\u001b[0m\u001b[0;34m=\u001b[0m\u001b[0mk\u001b[0m\u001b[0;34m\u001b[0m\u001b[0;34m\u001b[0m\u001b[0m\n\u001b[0m\u001b[1;32m      7\u001b[0m \u001b[0;34m\u001b[0m\u001b[0m\n",
      "\u001b[0;32m/opt/conda/lib/python3.7/site-packages/pandas/core/indexing.py\u001b[0m in \u001b[0;36m__setitem__\u001b[0;34m(self, key, value)\u001b[0m\n\u001b[1;32m    717\u001b[0m         \u001b[0;32melse\u001b[0m\u001b[0;34m:\u001b[0m\u001b[0;34m\u001b[0m\u001b[0;34m\u001b[0m\u001b[0m\n\u001b[1;32m    718\u001b[0m             \u001b[0mkey\u001b[0m \u001b[0;34m=\u001b[0m \u001b[0mcom\u001b[0m\u001b[0;34m.\u001b[0m\u001b[0mapply_if_callable\u001b[0m\u001b[0;34m(\u001b[0m\u001b[0mkey\u001b[0m\u001b[0;34m,\u001b[0m \u001b[0mself\u001b[0m\u001b[0;34m.\u001b[0m\u001b[0mobj\u001b[0m\u001b[0;34m)\u001b[0m\u001b[0;34m\u001b[0m\u001b[0;34m\u001b[0m\u001b[0m\n\u001b[0;32m--> 719\u001b[0;31m         \u001b[0mindexer\u001b[0m \u001b[0;34m=\u001b[0m \u001b[0mself\u001b[0m\u001b[0;34m.\u001b[0m\u001b[0m_get_setitem_indexer\u001b[0m\u001b[0;34m(\u001b[0m\u001b[0mkey\u001b[0m\u001b[0;34m)\u001b[0m\u001b[0;34m\u001b[0m\u001b[0;34m\u001b[0m\u001b[0m\n\u001b[0m\u001b[1;32m    720\u001b[0m         \u001b[0mself\u001b[0m\u001b[0;34m.\u001b[0m\u001b[0m_has_valid_setitem_indexer\u001b[0m\u001b[0;34m(\u001b[0m\u001b[0mkey\u001b[0m\u001b[0;34m)\u001b[0m\u001b[0;34m\u001b[0m\u001b[0;34m\u001b[0m\u001b[0m\n\u001b[1;32m    721\u001b[0m \u001b[0;34m\u001b[0m\u001b[0m\n",
      "\u001b[0;32m/opt/conda/lib/python3.7/site-packages/pandas/core/indexing.py\u001b[0m in \u001b[0;36m_get_setitem_indexer\u001b[0;34m(self, key)\u001b[0m\n\u001b[1;32m    658\u001b[0m         \u001b[0;32mif\u001b[0m \u001b[0misinstance\u001b[0m\u001b[0;34m(\u001b[0m\u001b[0mkey\u001b[0m\u001b[0;34m,\u001b[0m \u001b[0mtuple\u001b[0m\u001b[0;34m)\u001b[0m\u001b[0;34m:\u001b[0m\u001b[0;34m\u001b[0m\u001b[0;34m\u001b[0m\u001b[0m\n\u001b[1;32m    659\u001b[0m             \u001b[0;32mwith\u001b[0m \u001b[0msuppress\u001b[0m\u001b[0;34m(\u001b[0m\u001b[0mIndexingError\u001b[0m\u001b[0;34m)\u001b[0m\u001b[0;34m:\u001b[0m\u001b[0;34m\u001b[0m\u001b[0;34m\u001b[0m\u001b[0m\n\u001b[0;32m--> 660\u001b[0;31m                 \u001b[0;32mreturn\u001b[0m \u001b[0mself\u001b[0m\u001b[0;34m.\u001b[0m\u001b[0m_convert_tuple\u001b[0m\u001b[0;34m(\u001b[0m\u001b[0mkey\u001b[0m\u001b[0;34m,\u001b[0m \u001b[0mis_setter\u001b[0m\u001b[0;34m=\u001b[0m\u001b[0;32mTrue\u001b[0m\u001b[0;34m)\u001b[0m\u001b[0;34m\u001b[0m\u001b[0;34m\u001b[0m\u001b[0m\n\u001b[0m\u001b[1;32m    661\u001b[0m \u001b[0;34m\u001b[0m\u001b[0m\n\u001b[1;32m    662\u001b[0m         \u001b[0;32mif\u001b[0m \u001b[0misinstance\u001b[0m\u001b[0;34m(\u001b[0m\u001b[0mkey\u001b[0m\u001b[0;34m,\u001b[0m \u001b[0mrange\u001b[0m\u001b[0;34m)\u001b[0m\u001b[0;34m:\u001b[0m\u001b[0;34m\u001b[0m\u001b[0;34m\u001b[0m\u001b[0m\n",
      "\u001b[0;32m/opt/conda/lib/python3.7/site-packages/pandas/core/indexing.py\u001b[0m in \u001b[0;36m_convert_tuple\u001b[0;34m(self, key, is_setter)\u001b[0m\n\u001b[1;32m    783\u001b[0m             \u001b[0mself\u001b[0m\u001b[0;34m.\u001b[0m\u001b[0m_validate_key_length\u001b[0m\u001b[0;34m(\u001b[0m\u001b[0mkey\u001b[0m\u001b[0;34m)\u001b[0m\u001b[0;34m\u001b[0m\u001b[0;34m\u001b[0m\u001b[0m\n\u001b[1;32m    784\u001b[0m             \u001b[0;32mfor\u001b[0m \u001b[0mi\u001b[0m\u001b[0;34m,\u001b[0m \u001b[0mk\u001b[0m \u001b[0;32min\u001b[0m \u001b[0menumerate\u001b[0m\u001b[0;34m(\u001b[0m\u001b[0mkey\u001b[0m\u001b[0;34m)\u001b[0m\u001b[0;34m:\u001b[0m\u001b[0;34m\u001b[0m\u001b[0;34m\u001b[0m\u001b[0m\n\u001b[0;32m--> 785\u001b[0;31m                 \u001b[0midx\u001b[0m \u001b[0;34m=\u001b[0m \u001b[0mself\u001b[0m\u001b[0;34m.\u001b[0m\u001b[0m_convert_to_indexer\u001b[0m\u001b[0;34m(\u001b[0m\u001b[0mk\u001b[0m\u001b[0;34m,\u001b[0m \u001b[0maxis\u001b[0m\u001b[0;34m=\u001b[0m\u001b[0mi\u001b[0m\u001b[0;34m,\u001b[0m \u001b[0mis_setter\u001b[0m\u001b[0;34m=\u001b[0m\u001b[0mis_setter\u001b[0m\u001b[0;34m)\u001b[0m\u001b[0;34m\u001b[0m\u001b[0;34m\u001b[0m\u001b[0m\n\u001b[0m\u001b[1;32m    786\u001b[0m                 \u001b[0mkeyidx\u001b[0m\u001b[0;34m.\u001b[0m\u001b[0mappend\u001b[0m\u001b[0;34m(\u001b[0m\u001b[0midx\u001b[0m\u001b[0;34m)\u001b[0m\u001b[0;34m\u001b[0m\u001b[0;34m\u001b[0m\u001b[0m\n\u001b[1;32m    787\u001b[0m \u001b[0;34m\u001b[0m\u001b[0m\n",
      "\u001b[0;32m/opt/conda/lib/python3.7/site-packages/pandas/core/indexing.py\u001b[0m in \u001b[0;36m_convert_to_indexer\u001b[0;34m(self, key, axis, is_setter)\u001b[0m\n\u001b[1;32m   1255\u001b[0m                 \u001b[0;32mreturn\u001b[0m \u001b[0minds\u001b[0m\u001b[0;34m\u001b[0m\u001b[0;34m\u001b[0m\u001b[0m\n\u001b[1;32m   1256\u001b[0m             \u001b[0;32melse\u001b[0m\u001b[0;34m:\u001b[0m\u001b[0;34m\u001b[0m\u001b[0;34m\u001b[0m\u001b[0m\n\u001b[0;32m-> 1257\u001b[0;31m                 \u001b[0;32mreturn\u001b[0m \u001b[0mself\u001b[0m\u001b[0;34m.\u001b[0m\u001b[0m_get_listlike_indexer\u001b[0m\u001b[0;34m(\u001b[0m\u001b[0mkey\u001b[0m\u001b[0;34m,\u001b[0m \u001b[0maxis\u001b[0m\u001b[0;34m)\u001b[0m\u001b[0;34m[\u001b[0m\u001b[0;36m1\u001b[0m\u001b[0;34m]\u001b[0m\u001b[0;34m\u001b[0m\u001b[0;34m\u001b[0m\u001b[0m\n\u001b[0m\u001b[1;32m   1258\u001b[0m         \u001b[0;32melse\u001b[0m\u001b[0;34m:\u001b[0m\u001b[0;34m\u001b[0m\u001b[0;34m\u001b[0m\u001b[0m\n\u001b[1;32m   1259\u001b[0m             \u001b[0;32mtry\u001b[0m\u001b[0;34m:\u001b[0m\u001b[0;34m\u001b[0m\u001b[0;34m\u001b[0m\u001b[0m\n",
      "\u001b[0;32m/opt/conda/lib/python3.7/site-packages/pandas/core/indexing.py\u001b[0m in \u001b[0;36m_get_listlike_indexer\u001b[0;34m(self, key, axis)\u001b[0m\n\u001b[1;32m   1312\u001b[0m             \u001b[0mkeyarr\u001b[0m\u001b[0;34m,\u001b[0m \u001b[0mindexer\u001b[0m\u001b[0;34m,\u001b[0m \u001b[0mnew_indexer\u001b[0m \u001b[0;34m=\u001b[0m \u001b[0max\u001b[0m\u001b[0;34m.\u001b[0m\u001b[0m_reindex_non_unique\u001b[0m\u001b[0;34m(\u001b[0m\u001b[0mkeyarr\u001b[0m\u001b[0;34m)\u001b[0m\u001b[0;34m\u001b[0m\u001b[0;34m\u001b[0m\u001b[0m\n\u001b[1;32m   1313\u001b[0m \u001b[0;34m\u001b[0m\u001b[0m\n\u001b[0;32m-> 1314\u001b[0;31m         \u001b[0mself\u001b[0m\u001b[0;34m.\u001b[0m\u001b[0m_validate_read_indexer\u001b[0m\u001b[0;34m(\u001b[0m\u001b[0mkeyarr\u001b[0m\u001b[0;34m,\u001b[0m \u001b[0mindexer\u001b[0m\u001b[0;34m,\u001b[0m \u001b[0maxis\u001b[0m\u001b[0;34m)\u001b[0m\u001b[0;34m\u001b[0m\u001b[0;34m\u001b[0m\u001b[0m\n\u001b[0m\u001b[1;32m   1315\u001b[0m \u001b[0;34m\u001b[0m\u001b[0m\n\u001b[1;32m   1316\u001b[0m         if needs_i8_conversion(ax.dtype) or isinstance(\n",
      "\u001b[0;32m/opt/conda/lib/python3.7/site-packages/pandas/core/indexing.py\u001b[0m in \u001b[0;36m_validate_read_indexer\u001b[0;34m(self, key, indexer, axis)\u001b[0m\n\u001b[1;32m   1375\u001b[0m \u001b[0;34m\u001b[0m\u001b[0m\n\u001b[1;32m   1376\u001b[0m             \u001b[0mnot_found\u001b[0m \u001b[0;34m=\u001b[0m \u001b[0mlist\u001b[0m\u001b[0;34m(\u001b[0m\u001b[0mensure_index\u001b[0m\u001b[0;34m(\u001b[0m\u001b[0mkey\u001b[0m\u001b[0;34m)\u001b[0m\u001b[0;34m[\u001b[0m\u001b[0mmissing_mask\u001b[0m\u001b[0;34m.\u001b[0m\u001b[0mnonzero\u001b[0m\u001b[0;34m(\u001b[0m\u001b[0;34m)\u001b[0m\u001b[0;34m[\u001b[0m\u001b[0;36m0\u001b[0m\u001b[0;34m]\u001b[0m\u001b[0;34m]\u001b[0m\u001b[0;34m.\u001b[0m\u001b[0munique\u001b[0m\u001b[0;34m(\u001b[0m\u001b[0;34m)\u001b[0m\u001b[0;34m)\u001b[0m\u001b[0;34m\u001b[0m\u001b[0;34m\u001b[0m\u001b[0m\n\u001b[0;32m-> 1377\u001b[0;31m             \u001b[0;32mraise\u001b[0m \u001b[0mKeyError\u001b[0m\u001b[0;34m(\u001b[0m\u001b[0;34mf\"{not_found} not in index\"\u001b[0m\u001b[0;34m)\u001b[0m\u001b[0;34m\u001b[0m\u001b[0;34m\u001b[0m\u001b[0m\n\u001b[0m\u001b[1;32m   1378\u001b[0m \u001b[0;34m\u001b[0m\u001b[0m\n\u001b[1;32m   1379\u001b[0m \u001b[0;34m\u001b[0m\u001b[0m\n",
      "\u001b[0;31mKeyError\u001b[0m: '[42, 68, 82, 84, 101, 116, 133, 135, 148, 163, 171, 181, 193, 202, 203, 209, 210, 214, 269, 275, 291, 303, 345, 362, 370, 379, 381, 386, 387, 414, 421, 422, 427, 429, 443, 453, 459, 464, 498, 504, 522, 534, 562, 593, 605, 612, 641, 654, 673, 675, 676, 681, 687, 698, 723, 726, 731, 772, 794, 821, 822, 836, 849, 891] not in index'"
     ]
    }
   ],
   "source": [
    "df_ego[\"fold\"]=-1\n",
    "#df_ego\n",
    "for k, (train_idx, val_idx) in enumerate(skf.split(df_ego, df_ego['ego'])):\n",
    "    #print(data[0])\n",
    "    print(val_idx)\n",
    "    df_ego.loc[val_idx, 'fold']=k\n",
    "    "
   ]
  },
  {
   "cell_type": "code",
   "execution_count": 105,
   "id": "e34eb9be",
   "metadata": {
    "scrolled": true
   },
   "outputs": [
    {
     "name": "stdout",
     "output_type": "stream",
     "text": [
      "      Unnamed: 0   sample_id              video_path  label  crush  ego  \\\n",
      "0              0  TRAIN_0000  ./train/TRAIN_0000.mp4      7      1    0   \n",
      "1              1  TRAIN_0001  ./train/TRAIN_0001.mp4      7      1    0   \n",
      "2              2  TRAIN_0002  ./train/TRAIN_0002.mp4      0      0   -1   \n",
      "3              3  TRAIN_0003  ./train/TRAIN_0003.mp4      0      0   -1   \n",
      "4              4  TRAIN_0004  ./train/TRAIN_0004.mp4      1      1    1   \n",
      "...          ...         ...                     ...    ...    ...  ...   \n",
      "2693        2693  TRAIN_2693  ./train/TRAIN_2693.mp4      3      1    1   \n",
      "2694        2694  TRAIN_2694  ./train/TRAIN_2694.mp4      5      1    1   \n",
      "2695        2695  TRAIN_2695  ./train/TRAIN_2695.mp4      0      0   -1   \n",
      "2696        2696  TRAIN_2696  ./train/TRAIN_2696.mp4      0      0   -1   \n",
      "2697        2697  TRAIN_2697  ./train/TRAIN_2697.mp4      0      0   -1   \n",
      "\n",
      "      weather  timing  fold  \n",
      "0           0       0    -1  \n",
      "1           0       0    -1  \n",
      "2          -1      -1     0  \n",
      "3          -1      -1    -1  \n",
      "4           0       0    -1  \n",
      "...       ...     ...   ...  \n",
      "2693        1       0     0  \n",
      "2694        2       0    -1  \n",
      "2695       -1      -1    -1  \n",
      "2696       -1      -1    -1  \n",
      "2697       -1      -1    -1  \n",
      "\n",
      "[2698 rows x 9 columns]\n",
      "      Unnamed: 0   sample_id              video_path  label  crush  ego  \\\n",
      "0              0  TRAIN_0000  ./train/TRAIN_0000.mp4      7      1    0   \n",
      "1              1  TRAIN_0001  ./train/TRAIN_0001.mp4      7      1    0   \n",
      "2              2  TRAIN_0002  ./train/TRAIN_0002.mp4      0      0   -1   \n",
      "3              3  TRAIN_0003  ./train/TRAIN_0003.mp4      0      0   -1   \n",
      "4              4  TRAIN_0004  ./train/TRAIN_0004.mp4      1      1    1   \n",
      "...          ...         ...                     ...    ...    ...  ...   \n",
      "2693        2693  TRAIN_2693  ./train/TRAIN_2693.mp4      3      1    1   \n",
      "2694        2694  TRAIN_2694  ./train/TRAIN_2694.mp4      5      1    1   \n",
      "2695        2695  TRAIN_2695  ./train/TRAIN_2695.mp4      0      0   -1   \n",
      "2696        2696  TRAIN_2696  ./train/TRAIN_2696.mp4      0      0   -1   \n",
      "2697        2697  TRAIN_2697  ./train/TRAIN_2697.mp4      0      0   -1   \n",
      "\n",
      "      weather  timing  fold  \n",
      "0           0       0    -1  \n",
      "1           0       0    -1  \n",
      "2          -1      -1     0  \n",
      "3          -1      -1    -1  \n",
      "4           0       0    -1  \n",
      "...       ...     ...   ...  \n",
      "2693        1       0     0  \n",
      "2694        2       0    -1  \n",
      "2695       -1      -1    -1  \n",
      "2696       -1      -1     1  \n",
      "2697       -1      -1    -1  \n",
      "\n",
      "[2698 rows x 9 columns]\n",
      "      Unnamed: 0   sample_id              video_path  label  crush  ego  \\\n",
      "0              0  TRAIN_0000  ./train/TRAIN_0000.mp4      7      1    0   \n",
      "1              1  TRAIN_0001  ./train/TRAIN_0001.mp4      7      1    0   \n",
      "2              2  TRAIN_0002  ./train/TRAIN_0002.mp4      0      0   -1   \n",
      "3              3  TRAIN_0003  ./train/TRAIN_0003.mp4      0      0   -1   \n",
      "4              4  TRAIN_0004  ./train/TRAIN_0004.mp4      1      1    1   \n",
      "...          ...         ...                     ...    ...    ...  ...   \n",
      "2693        2693  TRAIN_2693  ./train/TRAIN_2693.mp4      3      1    1   \n",
      "2694        2694  TRAIN_2694  ./train/TRAIN_2694.mp4      5      1    1   \n",
      "2695        2695  TRAIN_2695  ./train/TRAIN_2695.mp4      0      0   -1   \n",
      "2696        2696  TRAIN_2696  ./train/TRAIN_2696.mp4      0      0   -1   \n",
      "2697        2697  TRAIN_2697  ./train/TRAIN_2697.mp4      0      0   -1   \n",
      "\n",
      "      weather  timing  fold  \n",
      "0           0       0    -1  \n",
      "1           0       0    -1  \n",
      "2          -1      -1     0  \n",
      "3          -1      -1    -1  \n",
      "4           0       0    -1  \n",
      "...       ...     ...   ...  \n",
      "2693        1       0     0  \n",
      "2694        2       0    -1  \n",
      "2695       -1      -1    -1  \n",
      "2696       -1      -1     1  \n",
      "2697       -1      -1     2  \n",
      "\n",
      "[2698 rows x 9 columns]\n",
      "      Unnamed: 0   sample_id              video_path  label  crush  ego  \\\n",
      "0              0  TRAIN_0000  ./train/TRAIN_0000.mp4      7      1    0   \n",
      "1              1  TRAIN_0001  ./train/TRAIN_0001.mp4      7      1    0   \n",
      "2              2  TRAIN_0002  ./train/TRAIN_0002.mp4      0      0   -1   \n",
      "3              3  TRAIN_0003  ./train/TRAIN_0003.mp4      0      0   -1   \n",
      "4              4  TRAIN_0004  ./train/TRAIN_0004.mp4      1      1    1   \n",
      "...          ...         ...                     ...    ...    ...  ...   \n",
      "2693        2693  TRAIN_2693  ./train/TRAIN_2693.mp4      3      1    1   \n",
      "2694        2694  TRAIN_2694  ./train/TRAIN_2694.mp4      5      1    1   \n",
      "2695        2695  TRAIN_2695  ./train/TRAIN_2695.mp4      0      0   -1   \n",
      "2696        2696  TRAIN_2696  ./train/TRAIN_2696.mp4      0      0   -1   \n",
      "2697        2697  TRAIN_2697  ./train/TRAIN_2697.mp4      0      0   -1   \n",
      "\n",
      "      weather  timing  fold  \n",
      "0           0       0    -1  \n",
      "1           0       0    -1  \n",
      "2          -1      -1     0  \n",
      "3          -1      -1    -1  \n",
      "4           0       0    -1  \n",
      "...       ...     ...   ...  \n",
      "2693        1       0     0  \n",
      "2694        2       0    -1  \n",
      "2695       -1      -1     3  \n",
      "2696       -1      -1     1  \n",
      "2697       -1      -1     2  \n",
      "\n",
      "[2698 rows x 9 columns]\n",
      "      Unnamed: 0   sample_id              video_path  label  crush  ego  \\\n",
      "0              0  TRAIN_0000  ./train/TRAIN_0000.mp4      7      1    0   \n",
      "1              1  TRAIN_0001  ./train/TRAIN_0001.mp4      7      1    0   \n",
      "2              2  TRAIN_0002  ./train/TRAIN_0002.mp4      0      0   -1   \n",
      "3              3  TRAIN_0003  ./train/TRAIN_0003.mp4      0      0   -1   \n",
      "4              4  TRAIN_0004  ./train/TRAIN_0004.mp4      1      1    1   \n",
      "...          ...         ...                     ...    ...    ...  ...   \n",
      "2693        2693  TRAIN_2693  ./train/TRAIN_2693.mp4      3      1    1   \n",
      "2694        2694  TRAIN_2694  ./train/TRAIN_2694.mp4      5      1    1   \n",
      "2695        2695  TRAIN_2695  ./train/TRAIN_2695.mp4      0      0   -1   \n",
      "2696        2696  TRAIN_2696  ./train/TRAIN_2696.mp4      0      0   -1   \n",
      "2697        2697  TRAIN_2697  ./train/TRAIN_2697.mp4      0      0   -1   \n",
      "\n",
      "      weather  timing  fold  \n",
      "0           0       0    -1  \n",
      "1           0       0    -1  \n",
      "2          -1      -1     0  \n",
      "3          -1      -1     4  \n",
      "4           0       0    -1  \n",
      "...       ...     ...   ...  \n",
      "2693        1       0     0  \n",
      "2694        2       0    -1  \n",
      "2695       -1      -1     3  \n",
      "2696       -1      -1     1  \n",
      "2697       -1      -1     2  \n",
      "\n",
      "[2698 rows x 9 columns]\n",
      "      Unnamed: 0   sample_id              video_path  label  crush  ego  \\\n",
      "0              0  TRAIN_0000  ./train/TRAIN_0000.mp4      7      1    0   \n",
      "1              1  TRAIN_0001  ./train/TRAIN_0001.mp4      7      1    0   \n",
      "2              2  TRAIN_0002  ./train/TRAIN_0002.mp4      0      0   -1   \n",
      "3              3  TRAIN_0003  ./train/TRAIN_0003.mp4      0      0   -1   \n",
      "4              4  TRAIN_0004  ./train/TRAIN_0004.mp4      1      1    1   \n",
      "...          ...         ...                     ...    ...    ...  ...   \n",
      "2693        2693  TRAIN_2693  ./train/TRAIN_2693.mp4      3      1    1   \n",
      "2694        2694  TRAIN_2694  ./train/TRAIN_2694.mp4      5      1    1   \n",
      "2695        2695  TRAIN_2695  ./train/TRAIN_2695.mp4      0      0   -1   \n",
      "2696        2696  TRAIN_2696  ./train/TRAIN_2696.mp4      0      0   -1   \n",
      "2697        2697  TRAIN_2697  ./train/TRAIN_2697.mp4      0      0   -1   \n",
      "\n",
      "      weather  timing  fold  \n",
      "0           0       0    -1  \n",
      "1           0       0     5  \n",
      "2          -1      -1     0  \n",
      "3          -1      -1     4  \n",
      "4           0       0    -1  \n",
      "...       ...     ...   ...  \n",
      "2693        1       0     0  \n",
      "2694        2       0    -1  \n",
      "2695       -1      -1     3  \n",
      "2696       -1      -1     1  \n",
      "2697       -1      -1     2  \n",
      "\n",
      "[2698 rows x 9 columns]\n",
      "      Unnamed: 0   sample_id              video_path  label  crush  ego  \\\n",
      "0              0  TRAIN_0000  ./train/TRAIN_0000.mp4      7      1    0   \n",
      "1              1  TRAIN_0001  ./train/TRAIN_0001.mp4      7      1    0   \n",
      "2              2  TRAIN_0002  ./train/TRAIN_0002.mp4      0      0   -1   \n",
      "3              3  TRAIN_0003  ./train/TRAIN_0003.mp4      0      0   -1   \n",
      "4              4  TRAIN_0004  ./train/TRAIN_0004.mp4      1      1    1   \n",
      "...          ...         ...                     ...    ...    ...  ...   \n",
      "2693        2693  TRAIN_2693  ./train/TRAIN_2693.mp4      3      1    1   \n",
      "2694        2694  TRAIN_2694  ./train/TRAIN_2694.mp4      5      1    1   \n",
      "2695        2695  TRAIN_2695  ./train/TRAIN_2695.mp4      0      0   -1   \n",
      "2696        2696  TRAIN_2696  ./train/TRAIN_2696.mp4      0      0   -1   \n",
      "2697        2697  TRAIN_2697  ./train/TRAIN_2697.mp4      0      0   -1   \n",
      "\n",
      "      weather  timing  fold  \n",
      "0           0       0    -1  \n",
      "1           0       0     5  \n",
      "2          -1      -1     0  \n",
      "3          -1      -1     4  \n",
      "4           0       0    -1  \n",
      "...       ...     ...   ...  \n",
      "2693        1       0     0  \n",
      "2694        2       0    -1  \n",
      "2695       -1      -1     3  \n",
      "2696       -1      -1     1  \n",
      "2697       -1      -1     2  \n",
      "\n",
      "[2698 rows x 9 columns]\n",
      "      Unnamed: 0   sample_id              video_path  label  crush  ego  \\\n",
      "0              0  TRAIN_0000  ./train/TRAIN_0000.mp4      7      1    0   \n",
      "1              1  TRAIN_0001  ./train/TRAIN_0001.mp4      7      1    0   \n",
      "2              2  TRAIN_0002  ./train/TRAIN_0002.mp4      0      0   -1   \n",
      "3              3  TRAIN_0003  ./train/TRAIN_0003.mp4      0      0   -1   \n",
      "4              4  TRAIN_0004  ./train/TRAIN_0004.mp4      1      1    1   \n",
      "...          ...         ...                     ...    ...    ...  ...   \n",
      "2693        2693  TRAIN_2693  ./train/TRAIN_2693.mp4      3      1    1   \n",
      "2694        2694  TRAIN_2694  ./train/TRAIN_2694.mp4      5      1    1   \n",
      "2695        2695  TRAIN_2695  ./train/TRAIN_2695.mp4      0      0   -1   \n",
      "2696        2696  TRAIN_2696  ./train/TRAIN_2696.mp4      0      0   -1   \n",
      "2697        2697  TRAIN_2697  ./train/TRAIN_2697.mp4      0      0   -1   \n",
      "\n",
      "      weather  timing  fold  \n",
      "0           0       0    -1  \n",
      "1           0       0     5  \n",
      "2          -1      -1     0  \n",
      "3          -1      -1     4  \n",
      "4           0       0    -1  \n",
      "...       ...     ...   ...  \n",
      "2693        1       0     0  \n",
      "2694        2       0    -1  \n",
      "2695       -1      -1     3  \n",
      "2696       -1      -1     1  \n",
      "2697       -1      -1     2  \n",
      "\n",
      "[2698 rows x 9 columns]\n",
      "      Unnamed: 0   sample_id              video_path  label  crush  ego  \\\n",
      "0              0  TRAIN_0000  ./train/TRAIN_0000.mp4      7      1    0   \n",
      "1              1  TRAIN_0001  ./train/TRAIN_0001.mp4      7      1    0   \n",
      "2              2  TRAIN_0002  ./train/TRAIN_0002.mp4      0      0   -1   \n",
      "3              3  TRAIN_0003  ./train/TRAIN_0003.mp4      0      0   -1   \n",
      "4              4  TRAIN_0004  ./train/TRAIN_0004.mp4      1      1    1   \n",
      "...          ...         ...                     ...    ...    ...  ...   \n",
      "2693        2693  TRAIN_2693  ./train/TRAIN_2693.mp4      3      1    1   \n",
      "2694        2694  TRAIN_2694  ./train/TRAIN_2694.mp4      5      1    1   \n",
      "2695        2695  TRAIN_2695  ./train/TRAIN_2695.mp4      0      0   -1   \n",
      "2696        2696  TRAIN_2696  ./train/TRAIN_2696.mp4      0      0   -1   \n",
      "2697        2697  TRAIN_2697  ./train/TRAIN_2697.mp4      0      0   -1   \n",
      "\n",
      "      weather  timing  fold  \n",
      "0           0       0    -1  \n",
      "1           0       0     5  \n",
      "2          -1      -1     0  \n",
      "3          -1      -1     4  \n",
      "4           0       0    -1  \n",
      "...       ...     ...   ...  \n",
      "2693        1       0     0  \n",
      "2694        2       0    -1  \n",
      "2695       -1      -1     3  \n",
      "2696       -1      -1     1  \n",
      "2697       -1      -1     2  \n",
      "\n",
      "[2698 rows x 9 columns]\n",
      "      Unnamed: 0   sample_id              video_path  label  crush  ego  \\\n",
      "0              0  TRAIN_0000  ./train/TRAIN_0000.mp4      7      1    0   \n",
      "1              1  TRAIN_0001  ./train/TRAIN_0001.mp4      7      1    0   \n",
      "2              2  TRAIN_0002  ./train/TRAIN_0002.mp4      0      0   -1   \n",
      "3              3  TRAIN_0003  ./train/TRAIN_0003.mp4      0      0   -1   \n",
      "4              4  TRAIN_0004  ./train/TRAIN_0004.mp4      1      1    1   \n",
      "...          ...         ...                     ...    ...    ...  ...   \n",
      "2693        2693  TRAIN_2693  ./train/TRAIN_2693.mp4      3      1    1   \n",
      "2694        2694  TRAIN_2694  ./train/TRAIN_2694.mp4      5      1    1   \n",
      "2695        2695  TRAIN_2695  ./train/TRAIN_2695.mp4      0      0   -1   \n",
      "2696        2696  TRAIN_2696  ./train/TRAIN_2696.mp4      0      0   -1   \n",
      "2697        2697  TRAIN_2697  ./train/TRAIN_2697.mp4      0      0   -1   \n",
      "\n",
      "      weather  timing  fold  \n",
      "0           0       0     9  \n",
      "1           0       0     5  \n",
      "2          -1      -1     0  \n",
      "3          -1      -1     4  \n",
      "4           0       0     9  \n",
      "...       ...     ...   ...  \n",
      "2693        1       0     0  \n",
      "2694        2       0     9  \n",
      "2695       -1      -1     3  \n",
      "2696       -1      -1     1  \n",
      "2697       -1      -1     2  \n",
      "\n",
      "[2698 rows x 9 columns]\n"
     ]
    },
    {
     "ename": "KeyError",
     "evalue": "'[42, 68, 82, 84, 101, 116, 133, 135, 148, 163, 171, 181, 193, 202, 203, 209, 210, 214, 269, 275, 291, 303, 345, 362, 370, 379, 381, 386, 387, 414, 421, 422, 427, 429, 443, 453, 459, 464, 498, 504, 522, 534, 562, 593, 605, 612, 641, 654, 673, 675, 676, 681, 687, 698, 723, 726, 731, 772, 794, 821, 822, 836, 849, 891] not in index'",
     "output_type": "error",
     "traceback": [
      "\u001b[0;31m---------------------------------------------------------------------------\u001b[0m",
      "\u001b[0;31mKeyError\u001b[0m                                  Traceback (most recent call last)",
      "\u001b[0;32m/tmp/ipykernel_14496/522125046.py\u001b[0m in \u001b[0;36m<module>\u001b[0;34m\u001b[0m\n\u001b[1;32m      5\u001b[0m     \u001b[0;32mfor\u001b[0m \u001b[0mk\u001b[0m\u001b[0;34m,\u001b[0m \u001b[0;34m(\u001b[0m\u001b[0mtrain_idx\u001b[0m\u001b[0;34m,\u001b[0m \u001b[0mval_idx\u001b[0m\u001b[0;34m)\u001b[0m \u001b[0;32min\u001b[0m \u001b[0menumerate\u001b[0m\u001b[0;34m(\u001b[0m\u001b[0mskf\u001b[0m\u001b[0;34m.\u001b[0m\u001b[0msplit\u001b[0m\u001b[0;34m(\u001b[0m\u001b[0;34m*\u001b[0m\u001b[0mdata\u001b[0m\u001b[0;34m)\u001b[0m\u001b[0;34m)\u001b[0m\u001b[0;34m:\u001b[0m\u001b[0;34m\u001b[0m\u001b[0;34m\u001b[0m\u001b[0m\n\u001b[1;32m      6\u001b[0m         \u001b[0;31m#print(data[0])\u001b[0m\u001b[0;34m\u001b[0m\u001b[0;34m\u001b[0m\u001b[0;34m\u001b[0m\u001b[0m\n\u001b[0;32m----> 7\u001b[0;31m         \u001b[0mdata\u001b[0m\u001b[0;34m[\u001b[0m\u001b[0;36m0\u001b[0m\u001b[0;34m]\u001b[0m\u001b[0;34m.\u001b[0m\u001b[0mloc\u001b[0m\u001b[0;34m[\u001b[0m\u001b[0mval_idx\u001b[0m\u001b[0;34m,\u001b[0m \u001b[0;34m'fold'\u001b[0m\u001b[0;34m]\u001b[0m\u001b[0;34m=\u001b[0m\u001b[0mk\u001b[0m\u001b[0;34m\u001b[0m\u001b[0;34m\u001b[0m\u001b[0m\n\u001b[0m\u001b[1;32m      8\u001b[0m         \u001b[0mprint\u001b[0m\u001b[0;34m(\u001b[0m\u001b[0mdata\u001b[0m\u001b[0;34m[\u001b[0m\u001b[0;36m0\u001b[0m\u001b[0;34m]\u001b[0m\u001b[0;34m)\u001b[0m\u001b[0;34m\u001b[0m\u001b[0;34m\u001b[0m\u001b[0m\n",
      "\u001b[0;32m/opt/conda/lib/python3.7/site-packages/pandas/core/indexing.py\u001b[0m in \u001b[0;36m__setitem__\u001b[0;34m(self, key, value)\u001b[0m\n\u001b[1;32m    717\u001b[0m         \u001b[0;32melse\u001b[0m\u001b[0;34m:\u001b[0m\u001b[0;34m\u001b[0m\u001b[0;34m\u001b[0m\u001b[0m\n\u001b[1;32m    718\u001b[0m             \u001b[0mkey\u001b[0m \u001b[0;34m=\u001b[0m \u001b[0mcom\u001b[0m\u001b[0;34m.\u001b[0m\u001b[0mapply_if_callable\u001b[0m\u001b[0;34m(\u001b[0m\u001b[0mkey\u001b[0m\u001b[0;34m,\u001b[0m \u001b[0mself\u001b[0m\u001b[0;34m.\u001b[0m\u001b[0mobj\u001b[0m\u001b[0;34m)\u001b[0m\u001b[0;34m\u001b[0m\u001b[0;34m\u001b[0m\u001b[0m\n\u001b[0;32m--> 719\u001b[0;31m         \u001b[0mindexer\u001b[0m \u001b[0;34m=\u001b[0m \u001b[0mself\u001b[0m\u001b[0;34m.\u001b[0m\u001b[0m_get_setitem_indexer\u001b[0m\u001b[0;34m(\u001b[0m\u001b[0mkey\u001b[0m\u001b[0;34m)\u001b[0m\u001b[0;34m\u001b[0m\u001b[0;34m\u001b[0m\u001b[0m\n\u001b[0m\u001b[1;32m    720\u001b[0m         \u001b[0mself\u001b[0m\u001b[0;34m.\u001b[0m\u001b[0m_has_valid_setitem_indexer\u001b[0m\u001b[0;34m(\u001b[0m\u001b[0mkey\u001b[0m\u001b[0;34m)\u001b[0m\u001b[0;34m\u001b[0m\u001b[0;34m\u001b[0m\u001b[0m\n\u001b[1;32m    721\u001b[0m \u001b[0;34m\u001b[0m\u001b[0m\n",
      "\u001b[0;32m/opt/conda/lib/python3.7/site-packages/pandas/core/indexing.py\u001b[0m in \u001b[0;36m_get_setitem_indexer\u001b[0;34m(self, key)\u001b[0m\n\u001b[1;32m    658\u001b[0m         \u001b[0;32mif\u001b[0m \u001b[0misinstance\u001b[0m\u001b[0;34m(\u001b[0m\u001b[0mkey\u001b[0m\u001b[0;34m,\u001b[0m \u001b[0mtuple\u001b[0m\u001b[0;34m)\u001b[0m\u001b[0;34m:\u001b[0m\u001b[0;34m\u001b[0m\u001b[0;34m\u001b[0m\u001b[0m\n\u001b[1;32m    659\u001b[0m             \u001b[0;32mwith\u001b[0m \u001b[0msuppress\u001b[0m\u001b[0;34m(\u001b[0m\u001b[0mIndexingError\u001b[0m\u001b[0;34m)\u001b[0m\u001b[0;34m:\u001b[0m\u001b[0;34m\u001b[0m\u001b[0;34m\u001b[0m\u001b[0m\n\u001b[0;32m--> 660\u001b[0;31m                 \u001b[0;32mreturn\u001b[0m \u001b[0mself\u001b[0m\u001b[0;34m.\u001b[0m\u001b[0m_convert_tuple\u001b[0m\u001b[0;34m(\u001b[0m\u001b[0mkey\u001b[0m\u001b[0;34m,\u001b[0m \u001b[0mis_setter\u001b[0m\u001b[0;34m=\u001b[0m\u001b[0;32mTrue\u001b[0m\u001b[0;34m)\u001b[0m\u001b[0;34m\u001b[0m\u001b[0;34m\u001b[0m\u001b[0m\n\u001b[0m\u001b[1;32m    661\u001b[0m \u001b[0;34m\u001b[0m\u001b[0m\n\u001b[1;32m    662\u001b[0m         \u001b[0;32mif\u001b[0m \u001b[0misinstance\u001b[0m\u001b[0;34m(\u001b[0m\u001b[0mkey\u001b[0m\u001b[0;34m,\u001b[0m \u001b[0mrange\u001b[0m\u001b[0;34m)\u001b[0m\u001b[0;34m:\u001b[0m\u001b[0;34m\u001b[0m\u001b[0;34m\u001b[0m\u001b[0m\n",
      "\u001b[0;32m/opt/conda/lib/python3.7/site-packages/pandas/core/indexing.py\u001b[0m in \u001b[0;36m_convert_tuple\u001b[0;34m(self, key, is_setter)\u001b[0m\n\u001b[1;32m    783\u001b[0m             \u001b[0mself\u001b[0m\u001b[0;34m.\u001b[0m\u001b[0m_validate_key_length\u001b[0m\u001b[0;34m(\u001b[0m\u001b[0mkey\u001b[0m\u001b[0;34m)\u001b[0m\u001b[0;34m\u001b[0m\u001b[0;34m\u001b[0m\u001b[0m\n\u001b[1;32m    784\u001b[0m             \u001b[0;32mfor\u001b[0m \u001b[0mi\u001b[0m\u001b[0;34m,\u001b[0m \u001b[0mk\u001b[0m \u001b[0;32min\u001b[0m \u001b[0menumerate\u001b[0m\u001b[0;34m(\u001b[0m\u001b[0mkey\u001b[0m\u001b[0;34m)\u001b[0m\u001b[0;34m:\u001b[0m\u001b[0;34m\u001b[0m\u001b[0;34m\u001b[0m\u001b[0m\n\u001b[0;32m--> 785\u001b[0;31m                 \u001b[0midx\u001b[0m \u001b[0;34m=\u001b[0m \u001b[0mself\u001b[0m\u001b[0;34m.\u001b[0m\u001b[0m_convert_to_indexer\u001b[0m\u001b[0;34m(\u001b[0m\u001b[0mk\u001b[0m\u001b[0;34m,\u001b[0m \u001b[0maxis\u001b[0m\u001b[0;34m=\u001b[0m\u001b[0mi\u001b[0m\u001b[0;34m,\u001b[0m \u001b[0mis_setter\u001b[0m\u001b[0;34m=\u001b[0m\u001b[0mis_setter\u001b[0m\u001b[0;34m)\u001b[0m\u001b[0;34m\u001b[0m\u001b[0;34m\u001b[0m\u001b[0m\n\u001b[0m\u001b[1;32m    786\u001b[0m                 \u001b[0mkeyidx\u001b[0m\u001b[0;34m.\u001b[0m\u001b[0mappend\u001b[0m\u001b[0;34m(\u001b[0m\u001b[0midx\u001b[0m\u001b[0;34m)\u001b[0m\u001b[0;34m\u001b[0m\u001b[0;34m\u001b[0m\u001b[0m\n\u001b[1;32m    787\u001b[0m \u001b[0;34m\u001b[0m\u001b[0m\n",
      "\u001b[0;32m/opt/conda/lib/python3.7/site-packages/pandas/core/indexing.py\u001b[0m in \u001b[0;36m_convert_to_indexer\u001b[0;34m(self, key, axis, is_setter)\u001b[0m\n\u001b[1;32m   1255\u001b[0m                 \u001b[0;32mreturn\u001b[0m \u001b[0minds\u001b[0m\u001b[0;34m\u001b[0m\u001b[0;34m\u001b[0m\u001b[0m\n\u001b[1;32m   1256\u001b[0m             \u001b[0;32melse\u001b[0m\u001b[0;34m:\u001b[0m\u001b[0;34m\u001b[0m\u001b[0;34m\u001b[0m\u001b[0m\n\u001b[0;32m-> 1257\u001b[0;31m                 \u001b[0;32mreturn\u001b[0m \u001b[0mself\u001b[0m\u001b[0;34m.\u001b[0m\u001b[0m_get_listlike_indexer\u001b[0m\u001b[0;34m(\u001b[0m\u001b[0mkey\u001b[0m\u001b[0;34m,\u001b[0m \u001b[0maxis\u001b[0m\u001b[0;34m)\u001b[0m\u001b[0;34m[\u001b[0m\u001b[0;36m1\u001b[0m\u001b[0;34m]\u001b[0m\u001b[0;34m\u001b[0m\u001b[0;34m\u001b[0m\u001b[0m\n\u001b[0m\u001b[1;32m   1258\u001b[0m         \u001b[0;32melse\u001b[0m\u001b[0;34m:\u001b[0m\u001b[0;34m\u001b[0m\u001b[0;34m\u001b[0m\u001b[0m\n\u001b[1;32m   1259\u001b[0m             \u001b[0;32mtry\u001b[0m\u001b[0;34m:\u001b[0m\u001b[0;34m\u001b[0m\u001b[0;34m\u001b[0m\u001b[0m\n",
      "\u001b[0;32m/opt/conda/lib/python3.7/site-packages/pandas/core/indexing.py\u001b[0m in \u001b[0;36m_get_listlike_indexer\u001b[0;34m(self, key, axis)\u001b[0m\n\u001b[1;32m   1312\u001b[0m             \u001b[0mkeyarr\u001b[0m\u001b[0;34m,\u001b[0m \u001b[0mindexer\u001b[0m\u001b[0;34m,\u001b[0m \u001b[0mnew_indexer\u001b[0m \u001b[0;34m=\u001b[0m \u001b[0max\u001b[0m\u001b[0;34m.\u001b[0m\u001b[0m_reindex_non_unique\u001b[0m\u001b[0;34m(\u001b[0m\u001b[0mkeyarr\u001b[0m\u001b[0;34m)\u001b[0m\u001b[0;34m\u001b[0m\u001b[0;34m\u001b[0m\u001b[0m\n\u001b[1;32m   1313\u001b[0m \u001b[0;34m\u001b[0m\u001b[0m\n\u001b[0;32m-> 1314\u001b[0;31m         \u001b[0mself\u001b[0m\u001b[0;34m.\u001b[0m\u001b[0m_validate_read_indexer\u001b[0m\u001b[0;34m(\u001b[0m\u001b[0mkeyarr\u001b[0m\u001b[0;34m,\u001b[0m \u001b[0mindexer\u001b[0m\u001b[0;34m,\u001b[0m \u001b[0maxis\u001b[0m\u001b[0;34m)\u001b[0m\u001b[0;34m\u001b[0m\u001b[0;34m\u001b[0m\u001b[0m\n\u001b[0m\u001b[1;32m   1315\u001b[0m \u001b[0;34m\u001b[0m\u001b[0m\n\u001b[1;32m   1316\u001b[0m         if needs_i8_conversion(ax.dtype) or isinstance(\n",
      "\u001b[0;32m/opt/conda/lib/python3.7/site-packages/pandas/core/indexing.py\u001b[0m in \u001b[0;36m_validate_read_indexer\u001b[0;34m(self, key, indexer, axis)\u001b[0m\n\u001b[1;32m   1375\u001b[0m \u001b[0;34m\u001b[0m\u001b[0m\n\u001b[1;32m   1376\u001b[0m             \u001b[0mnot_found\u001b[0m \u001b[0;34m=\u001b[0m \u001b[0mlist\u001b[0m\u001b[0;34m(\u001b[0m\u001b[0mensure_index\u001b[0m\u001b[0;34m(\u001b[0m\u001b[0mkey\u001b[0m\u001b[0;34m)\u001b[0m\u001b[0;34m[\u001b[0m\u001b[0mmissing_mask\u001b[0m\u001b[0;34m.\u001b[0m\u001b[0mnonzero\u001b[0m\u001b[0;34m(\u001b[0m\u001b[0;34m)\u001b[0m\u001b[0;34m[\u001b[0m\u001b[0;36m0\u001b[0m\u001b[0;34m]\u001b[0m\u001b[0;34m]\u001b[0m\u001b[0;34m.\u001b[0m\u001b[0munique\u001b[0m\u001b[0;34m(\u001b[0m\u001b[0;34m)\u001b[0m\u001b[0;34m)\u001b[0m\u001b[0;34m\u001b[0m\u001b[0;34m\u001b[0m\u001b[0m\n\u001b[0;32m-> 1377\u001b[0;31m             \u001b[0;32mraise\u001b[0m \u001b[0mKeyError\u001b[0m\u001b[0;34m(\u001b[0m\u001b[0;34mf\"{not_found} not in index\"\u001b[0m\u001b[0;34m)\u001b[0m\u001b[0;34m\u001b[0m\u001b[0;34m\u001b[0m\u001b[0m\n\u001b[0m\u001b[1;32m   1378\u001b[0m \u001b[0;34m\u001b[0m\u001b[0m\n\u001b[1;32m   1379\u001b[0m \u001b[0;34m\u001b[0m\u001b[0m\n",
      "\u001b[0;31mKeyError\u001b[0m: '[42, 68, 82, 84, 101, 116, 133, 135, 148, 163, 171, 181, 193, 202, 203, 209, 210, 214, 269, 275, 291, 303, 345, 362, 370, 379, 381, 386, 387, 414, 421, 422, 427, 429, 443, 453, 459, 464, 498, 504, 522, 534, 562, 593, 605, 612, 641, 654, 673, 675, 676, 681, 687, 698, 723, 726, 731, 772, 794, 821, 822, 836, 849, 891] not in index'"
     ]
    }
   ],
   "source": [
    "skf = sklearn.model_selection.StratifiedKFold(n_splits=10, shuffle=True, random_state=CFG.seed)\n",
    "#라벨 분포에 맞춰서 fold, val 정보 넣기\n",
    "for data in dfs:\n",
    "    data[0][\"fold\"]=-1\n",
    "    for k, (train_idx, val_idx) in enumerate(skf.split(*data)):\n",
    "        #print(data[0])\n",
    "        data[0].loc[val_idx, 'fold']=k\n",
    "        print(data[0])"
   ]
  },
  {
   "cell_type": "code",
   "execution_count": 95,
   "id": "02133bde",
   "metadata": {},
   "outputs": [],
   "source": [
    "train_crush, val_crush, _, _ = train_test_split(df, df['crush'], test_size=0.2, random_state=CFG.seed)\n",
    "train_ego, val_ego, _,_=train_test_split(df_ego, df_ego['ego'], test_size=0.2, random_state=CFG.seed)\n",
    "train_weather, val_weather, _,_=train_test_split(df_weather, df_weather['weather'], test_size=0.2, random_state=CFG.seed)\n",
    "train_timing, val_timing,_,_=train_test_split(df_timing, df_timing['timing'], test_size=0.2, random_state=CFG.seed)"
   ]
  },
  {
   "cell_type": "markdown",
   "id": "ac27ed36-8031-47a7-bd0d-a913513f2e8e",
   "metadata": {},
   "source": [
    "## CustomDataset"
   ]
  },
  {
   "cell_type": "code",
   "execution_count": 9,
   "id": "2378d4ed",
   "metadata": {},
   "outputs": [],
   "source": [
    "#https://dacon.io/en/competitions/official/236064/codeshare/7572?page=1&dtype=recent#\n",
    "class CustomDataset(Dataset):\n",
    "    def __init__(self, img_path_list, label_list, transforms=None):\n",
    "        self.label_list = label_list\n",
    "        self.transforms = transforms\n",
    "        self.img_path_list = img_path_list\n",
    "        \n",
    "    def __getitem__(self, index):        \n",
    "        images = self.get_frames(self.img_path_list[index])\n",
    "                        \n",
    "        if self.transforms is not None:\n",
    "            res = self.transforms(**images)\n",
    "            #print(images)\n",
    "            images = torch.zeros((len(images), 3, CFG.img_size, CFG.img_size))\n",
    "            #print(images.shape)\n",
    "            images[0, :, :, :] = torch.Tensor(res[\"image\"])\n",
    "            for i in range(1, len(images)):\n",
    "                images[i, :, :, :] = res[f\"image{i}\"]\n",
    "        \n",
    "        images=images.permute(1,0,2,3)\n",
    "        \n",
    "        if self.label_list is not None:\n",
    "            label = self.label_list[index]\n",
    "        \n",
    "            return images, label\n",
    "        else:\n",
    "            return images\n",
    "\n",
    "    def __len__(self):\n",
    "        return len(self.img_path_list) \n",
    "    \n",
    "    def get_frames(self, path):\n",
    "        cap = cv2.VideoCapture(path)\n",
    "        frames = int(cap.get(cv2.CAP_PROP_FRAME_COUNT))\n",
    "        imgs = []        \n",
    "        for fidx in range(frames):\n",
    "            _, img = cap.read()            \n",
    "            img = cv2.cvtColor(img, cv2.COLOR_BGR2RGB)\n",
    "            imgs.append(img)\n",
    "        \n",
    "        ret = {f\"image{i}\":imgs[i] for i in range(1, len(imgs))}\n",
    "        ret['image'] = imgs[0]\n",
    "\n",
    "        return ret"
   ]
  },
  {
   "cell_type": "code",
   "execution_count": 10,
   "id": "22e084e6",
   "metadata": {},
   "outputs": [],
   "source": [
    "weather_transforms = A.Compose([\n",
    "    A.CenterCrop(480,854,p=1.0),\n",
    "    A.Resize(height=128, width=128),\n",
    "    A.Superpixels(p=0.3),\n",
    "    A.HorizontalFlip(0.5),\n",
    "    ToTensorV2()\n",
    "], p=1, additional_targets={f\"image{i}\":\"image\" for i in range(1, 50)})\n",
    "\n",
    "other_transforms = A.Compose([\n",
    "    A.CenterCrop(480,854,p=1.0),\n",
    "    A.Resize(height=128, width=128),\n",
    "    A.HorizontalFlip(0.5),\n",
    "    ToTensorV2()\n",
    "], p=1, additional_targets={f\"image{i}\":\"image\" for i in range(1, 50)})\n",
    "\n",
    "test_transforms= A.Compose([\n",
    "    A.CenterCrop(480,854,p=1.0),\n",
    "    A.Resize(height=128, width=128),\n",
    "    A.HorizontalFlip(0.5),\n",
    "    ToTensorV2()\n",
    "], p=1, additional_targets={f\"image{i}\":\"image\" for i in range(1, 50)})\n"
   ]
  },
  {
   "cell_type": "code",
   "execution_count": 11,
   "id": "9d880481-1965-499d-9caa-fdfa8526f789",
   "metadata": {},
   "outputs": [],
   "source": [
    "train_crush_dataset = CustomDataset(train_crush['video_path'].values, train_crush['crush'].values,transforms=other_transforms)\n",
    "train_crush_loader = DataLoader(train_crush_dataset, batch_size = CFG.batch_size, shuffle=True, num_workers=2)\n",
    "\n",
    "val_crush_dataset = CustomDataset(val_crush['video_path'].values, val_crush['crush'].values,transforms=test_transforms)\n",
    "val_crush_loader = DataLoader(val_crush_dataset, batch_size = CFG.batch_size, shuffle=False, num_workers=2)\n"
   ]
  },
  {
   "cell_type": "code",
   "execution_count": 50,
   "id": "a07eb654",
   "metadata": {},
   "outputs": [
    {
     "data": {
      "text/plain": [
       "tensor([[[[1., 1., 4.,  ..., 1., 3., 3.],\n",
       "          [1., 1., 4.,  ..., 1., 3., 3.],\n",
       "          [4., 4., 4.,  ..., 0., 0., 0.],\n",
       "          ...,\n",
       "          [4., 4., 4.,  ..., 2., 2., 2.],\n",
       "          [4., 4., 4.,  ..., 2., 1., 1.],\n",
       "          [4., 4., 4.,  ..., 2., 1., 1.]],\n",
       "\n",
       "         [[1., 1., 4.,  ..., 1., 3., 3.],\n",
       "          [1., 1., 4.,  ..., 1., 3., 3.],\n",
       "          [4., 4., 4.,  ..., 3., 0., 0.],\n",
       "          ...,\n",
       "          [4., 4., 4.,  ..., 2., 1., 1.],\n",
       "          [4., 4., 4.,  ..., 1., 1., 1.],\n",
       "          [4., 4., 4.,  ..., 1., 1., 1.]],\n",
       "\n",
       "         [[1., 1., 4.,  ..., 0., 0., 0.],\n",
       "          [1., 1., 4.,  ..., 0., 0., 0.],\n",
       "          [4., 4., 4.,  ..., 2., 0., 0.],\n",
       "          ...,\n",
       "          [4., 4., 4.,  ..., 2., 1., 1.],\n",
       "          [4., 4., 4.,  ..., 1., 1., 1.],\n",
       "          [4., 4., 4.,  ..., 1., 1., 1.]],\n",
       "\n",
       "         ...,\n",
       "\n",
       "         [[2., 2., 2.,  ..., 1., 2., 2.],\n",
       "          [2., 2., 2.,  ..., 1., 2., 2.],\n",
       "          [1., 1., 2.,  ..., 2., 2., 2.],\n",
       "          ...,\n",
       "          [1., 1., 4.,  ..., 1., 1., 1.],\n",
       "          [4., 4., 4.,  ..., 1., 0., 0.],\n",
       "          [4., 4., 4.,  ..., 1., 0., 0.]],\n",
       "\n",
       "         [[2., 2., 1.,  ..., 1., 2., 2.],\n",
       "          [2., 2., 1.,  ..., 1., 2., 2.],\n",
       "          [2., 2., 3.,  ..., 1., 2., 2.],\n",
       "          ...,\n",
       "          [4., 4., 4.,  ..., 1., 1., 1.],\n",
       "          [4., 4., 4.,  ..., 0., 1., 1.],\n",
       "          [4., 4., 4.,  ..., 0., 1., 1.]],\n",
       "\n",
       "         [[2., 2., 0.,  ..., 1., 1., 1.],\n",
       "          [2., 2., 0.,  ..., 1., 1., 1.],\n",
       "          [0., 0., 2.,  ..., 1., 2., 2.],\n",
       "          ...,\n",
       "          [4., 4., 6.,  ..., 1., 1., 1.],\n",
       "          [4., 4., 4.,  ..., 0., 1., 1.],\n",
       "          [4., 4., 4.,  ..., 0., 1., 1.]]],\n",
       "\n",
       "\n",
       "        [[[1., 1., 0.,  ..., 3., 3., 3.],\n",
       "          [1., 1., 0.,  ..., 3., 3., 3.],\n",
       "          [0., 0., 0.,  ..., 2., 2., 2.],\n",
       "          ...,\n",
       "          [0., 0., 0.,  ..., 2., 2., 2.],\n",
       "          [0., 0., 0.,  ..., 2., 1., 1.],\n",
       "          [0., 0., 0.,  ..., 2., 1., 1.]],\n",
       "\n",
       "         [[1., 1., 0.,  ..., 3., 3., 3.],\n",
       "          [1., 1., 0.,  ..., 3., 3., 3.],\n",
       "          [0., 0., 0.,  ..., 3., 2., 2.],\n",
       "          ...,\n",
       "          [0., 0., 0.,  ..., 2., 1., 1.],\n",
       "          [0., 0., 0.,  ..., 1., 1., 1.],\n",
       "          [0., 0., 0.,  ..., 1., 1., 1.]],\n",
       "\n",
       "         [[1., 1., 0.,  ..., 2., 2., 2.],\n",
       "          [1., 1., 0.,  ..., 2., 2., 2.],\n",
       "          [0., 0., 0.,  ..., 2., 2., 2.],\n",
       "          ...,\n",
       "          [0., 0., 0.,  ..., 2., 1., 1.],\n",
       "          [0., 0., 0.,  ..., 1., 1., 1.],\n",
       "          [0., 0., 0.,  ..., 1., 1., 1.]],\n",
       "\n",
       "         ...,\n",
       "\n",
       "         [[2., 2., 2.,  ..., 1., 2., 2.],\n",
       "          [2., 2., 2.,  ..., 1., 2., 2.],\n",
       "          [1., 1., 2.,  ..., 2., 2., 2.],\n",
       "          ...,\n",
       "          [1., 1., 0.,  ..., 1., 1., 1.],\n",
       "          [0., 0., 0.,  ..., 1., 1., 1.],\n",
       "          [0., 0., 0.,  ..., 1., 1., 1.]],\n",
       "\n",
       "         [[2., 2., 3.,  ..., 1., 2., 2.],\n",
       "          [2., 2., 3.,  ..., 1., 2., 2.],\n",
       "          [2., 2., 1.,  ..., 1., 2., 2.],\n",
       "          ...,\n",
       "          [0., 0., 0.,  ..., 1., 1., 1.],\n",
       "          [0., 0., 0.,  ..., 0., 1., 1.],\n",
       "          [0., 0., 0.,  ..., 0., 1., 1.]],\n",
       "\n",
       "         [[2., 2., 2.,  ..., 1., 1., 1.],\n",
       "          [2., 2., 2.,  ..., 1., 1., 1.],\n",
       "          [2., 2., 2.,  ..., 1., 2., 2.],\n",
       "          ...,\n",
       "          [0., 0., 0.,  ..., 1., 1., 1.],\n",
       "          [0., 0., 0.,  ..., 0., 1., 1.],\n",
       "          [0., 0., 0.,  ..., 0., 1., 1.]]],\n",
       "\n",
       "\n",
       "        [[[0., 0., 0.,  ..., 0., 0., 0.],\n",
       "          [0., 0., 0.,  ..., 0., 0., 0.],\n",
       "          [0., 0., 0.,  ..., 0., 0., 0.],\n",
       "          ...,\n",
       "          [0., 0., 0.,  ..., 0., 0., 0.],\n",
       "          [0., 0., 0.,  ..., 0., 0., 0.],\n",
       "          [0., 0., 0.,  ..., 0., 0., 0.]],\n",
       "\n",
       "         [[0., 0., 0.,  ..., 0., 0., 0.],\n",
       "          [0., 0., 0.,  ..., 0., 0., 0.],\n",
       "          [0., 0., 0.,  ..., 0., 0., 0.],\n",
       "          ...,\n",
       "          [0., 0., 0.,  ..., 0., 0., 0.],\n",
       "          [0., 0., 0.,  ..., 0., 0., 0.],\n",
       "          [0., 0., 0.,  ..., 0., 0., 0.]],\n",
       "\n",
       "         [[0., 0., 0.,  ..., 0., 0., 0.],\n",
       "          [0., 0., 0.,  ..., 0., 0., 0.],\n",
       "          [0., 0., 0.,  ..., 0., 0., 0.],\n",
       "          ...,\n",
       "          [0., 0., 0.,  ..., 0., 0., 0.],\n",
       "          [0., 0., 0.,  ..., 0., 0., 0.],\n",
       "          [0., 0., 0.,  ..., 0., 0., 0.]],\n",
       "\n",
       "         ...,\n",
       "\n",
       "         [[0., 0., 0.,  ..., 0., 0., 0.],\n",
       "          [0., 0., 0.,  ..., 0., 0., 0.],\n",
       "          [0., 0., 0.,  ..., 0., 0., 0.],\n",
       "          ...,\n",
       "          [0., 0., 0.,  ..., 0., 0., 0.],\n",
       "          [0., 0., 0.,  ..., 0., 0., 0.],\n",
       "          [0., 0., 0.,  ..., 0., 0., 0.]],\n",
       "\n",
       "         [[0., 0., 0.,  ..., 0., 0., 0.],\n",
       "          [0., 0., 0.,  ..., 0., 0., 0.],\n",
       "          [0., 0., 0.,  ..., 0., 0., 0.],\n",
       "          ...,\n",
       "          [0., 0., 0.,  ..., 0., 0., 0.],\n",
       "          [0., 0., 0.,  ..., 0., 0., 0.],\n",
       "          [0., 0., 0.,  ..., 0., 0., 0.]],\n",
       "\n",
       "         [[0., 0., 0.,  ..., 0., 0., 0.],\n",
       "          [0., 0., 0.,  ..., 0., 0., 0.],\n",
       "          [0., 0., 0.,  ..., 0., 0., 0.],\n",
       "          ...,\n",
       "          [0., 0., 0.,  ..., 0., 0., 0.],\n",
       "          [0., 0., 0.,  ..., 0., 0., 0.],\n",
       "          [0., 0., 0.,  ..., 0., 0., 0.]]]])"
      ]
     },
     "execution_count": 50,
     "metadata": {},
     "output_type": "execute_result"
    }
   ],
   "source": [
    "train_crush_dataset[0][0]"
   ]
  },
  {
   "cell_type": "code",
   "execution_count": 13,
   "id": "339176af",
   "metadata": {},
   "outputs": [],
   "source": [
    "train_ego_dataset = CustomDataset(train_ego['video_path'].values, train_ego['ego'].values,transforms=other_transforms)\n",
    "train_ego_loader = DataLoader(train_ego_dataset, batch_size = CFG.batch_size, shuffle=True, num_workers=2)\n",
    "\n",
    "val_ego_dataset = CustomDataset(val_ego['video_path'].values, val_ego['ego'].values,transforms=test_transforms)\n",
    "val_ego_loader = DataLoader(val_ego_dataset, batch_size = CFG.batch_size, shuffle=False, num_workers=2)"
   ]
  },
  {
   "cell_type": "code",
   "execution_count": 14,
   "id": "f4e87824",
   "metadata": {},
   "outputs": [],
   "source": [
    "train_weather_dataset = CustomDataset(train_weather['video_path'].values, train_weather['weather'].values,transforms=weather_transforms)\n",
    "train_weather_loader = DataLoader(train_weather_dataset, batch_size = CFG.batch_size, shuffle=True, num_workers=2)\n",
    "\n",
    "val_weather_dataset = CustomDataset(val_weather['video_path'].values, val_weather['weather'].values,transforms=test_transforms)\n",
    "val_weather_loader = DataLoader(val_weather_dataset, batch_size = CFG.batch_size, shuffle=False, num_workers=2)"
   ]
  },
  {
   "cell_type": "code",
   "execution_count": 15,
   "id": "1636539f",
   "metadata": {},
   "outputs": [],
   "source": [
    "train_timing_dataset = CustomDataset(train_timing['video_path'].values, train_timing['timing'].values,transforms=other_transforms)\n",
    "train_timing_loader = DataLoader(train_timing_dataset, batch_size = CFG.batch_size, shuffle=True, num_workers=2)\n",
    "\n",
    "val_timing_dataset = CustomDataset(val_timing['video_path'].values, val_timing['timing'].values,transforms=test_transforms)\n",
    "val_timing_loader = DataLoader(val_timing_dataset, batch_size = CFG.batch_size, shuffle=False, num_workers=2)"
   ]
  },
  {
   "cell_type": "code",
   "execution_count": 16,
   "id": "009c8c60",
   "metadata": {},
   "outputs": [],
   "source": [
    "#시각화\n",
    "# def get_frames(path):\n",
    "#     cap = cv2.VideoCapture(path)\n",
    "#     frames = int(cap.get(cv2.CAP_PROP_FRAME_COUNT))\n",
    "#     imgs = []        \n",
    "#     for fidx in range(frames):\n",
    "#         _, img = cap.read()            \n",
    "#         img = cv2.cvtColor(img, cv2.COLOR_BGR2RGB)\n",
    "#         imgs.append(img)\n",
    "    \n",
    "#     return np.array(imgs)\n",
    "\n",
    "# frames = get_frames(\"./train/TRAIN_0001.mp4\")\n",
    "# frames,res = aug(transforms, frames)\n",
    "\n",
    "# @interact(frame=(0, len(frames)-1))\n",
    "# def show_frame(frame=0):\n",
    "#     plt.imshow(frames[frame,:,:,:])"
   ]
  },
  {
   "cell_type": "code",
   "execution_count": 17,
   "id": "f332408d",
   "metadata": {},
   "outputs": [],
   "source": [
    "#각 문항 별 로더 모으기\n",
    "\n",
    "train_loaders=[train_crush_loader,train_ego_loader,train_weather_loader,train_timing_loader]\n",
    "val_loaders=[val_crush_loader,val_ego_loader,val_weather_loader,val_timing_loader]"
   ]
  },
  {
   "cell_type": "markdown",
   "id": "39962463-032f-490a-a76d-c03991795f38",
   "metadata": {},
   "source": [
    "## Model Define\n",
    "- 동일 모델로 순서대로 4개 사용"
   ]
  },
  {
   "cell_type": "code",
   "execution_count": 18,
   "id": "903fe81e",
   "metadata": {},
   "outputs": [],
   "source": [
    "class BaseModel(nn.Module):\n",
    "    def __init__(self, num_classes=CFG.n_classes, fc_type='shallow', binary=True):\n",
    "        super(BaseModel, self).__init__()\n",
    "        self.fc_type=fc_type\n",
    "        self.num_classes=num_classes\n",
    "        \n",
    "        #get backbone\n",
    "        #self.backbone = r2plus1d_18(pretrained=True)\n",
    "        self.backbone=getattr(torchvision.models.video,CFG.model_name)(pretrained=True)\n",
    "        self.backbone.fc=self.get_fc()\n",
    "        self.binary=binary\n",
    "        \n",
    "    def get_fc(self):\n",
    "        if self.fc_type == 'deep':\n",
    "            fc = nn.Sequential(nn.Linear(self.backbone.fc.in_features, self.backbone.fc.in_features//2),\n",
    "                                        nn.BatchNorm1d(self.backbone.fc.in_features//2,  momentum=0.1),\n",
    "                                        nn.ReLU(),\n",
    "                                        nn.Linear(self.backbone.fc.in_features//2, self.num_classes)\n",
    "                                        )\n",
    "    \n",
    "        elif self.fc_type == 'shallow':\n",
    "            fc = nn.Linear(self.backbone.fc.in_features, self.num_classes)\n",
    "        else:\n",
    "            raise ValueError(f\"Wrong fc-type input {self.fc_type}\")\n",
    "        return fc\n",
    "    \n",
    "    def forward(self, x):\n",
    "        x = self.backbone(x)\n",
    "            \n",
    "        return x"
   ]
  },
  {
   "cell_type": "markdown",
   "id": "27df6305",
   "metadata": {},
   "source": [
    "### check model in-out"
   ]
  },
  {
   "cell_type": "code",
   "execution_count": 19,
   "id": "ecd88a87",
   "metadata": {},
   "outputs": [],
   "source": [
    "#from torchsummary import summary\n",
    "#model=BaseModel(fc_type='deep')\n",
    "#model=model.to(device)\n",
    "#summary(model, (3,50,720,1280))"
   ]
  },
  {
   "cell_type": "markdown",
   "id": "122af0aa-a1fd-4595-9488-35761e3cb596",
   "metadata": {},
   "source": [
    "## Train"
   ]
  },
  {
   "cell_type": "code",
   "execution_count": 20,
   "id": "a17df6b3-16c9-44dd-b0fd-ffb501fee749",
   "metadata": {},
   "outputs": [],
   "source": [
    "def train(model, criterion, optimizer, train_loader, val_loader, scheduler, device):\n",
    "    model.to(device)\n",
    "    \n",
    "    if torch.cuda.device_count() > 1:\n",
    "        print(\"Let's use\", torch.cuda.device_count(), \"GPUs!\")\n",
    "        model = nn.DataParallel(model)\n",
    "    \n",
    "    #criterion = nn.CrossEntropyLoss().to(device)\n",
    "    criterion=criterion().to(device)\n",
    "    best_val_score = 0\n",
    "    best_model = None\n",
    "    cnt=0\n",
    "    for epoch in range(1, CFG.epochs+1):\n",
    "        model.train()\n",
    "        train_loss = []\n",
    "        for videos, labels in tqdm(iter(train_loader)):\n",
    "            videos = videos.to(device)\n",
    "            labels = labels.to(device)\n",
    "            \n",
    "            optimizer.zero_grad()\n",
    "            \n",
    "            output = model(videos)\n",
    "            \n",
    "            #print(\"target: \", labels)\n",
    "            #print(\"output: \", output)\n",
    "            #if model.module.binary==True: #because of DataParallel \n",
    "            #    labels=labels.float()\n",
    "                \n",
    "            #loss = criterion(output, labels.reshape(-1,1))\n",
    "            loss = criterion(output, labels)\n",
    "            loss.backward()\n",
    "            optimizer.step()\n",
    "            \n",
    "            train_loss.append(loss.item())\n",
    "                    \n",
    "        _val_loss, _val_score = validation(model, criterion, val_loader, device)\n",
    "        _train_loss = np.mean(train_loss)\n",
    "        print(f'Epoch [{epoch}], Train Loss : [{_train_loss:.5f}] Val Loss : [{_val_loss:.5f}] Val F1 : [{_val_score:.5f}]')\n",
    "        \n",
    "        if scheduler is not None:\n",
    "            scheduler.step(_val_score)\n",
    "            \n",
    "        if best_val_score < _val_score:\n",
    "            best_val_score = _val_score\n",
    "            best_model = model\n",
    "            \n",
    "            cnt=0\n",
    "        else:\n",
    "            print(\"early stopping count : {}\".format(cnt))\n",
    "            cnt+=1\n",
    "        \n",
    "        if cnt==CFG.earlystop:\n",
    "            print(\"early stopping done\")\n",
    "            break\n",
    "            \n",
    "    return best_model"
   ]
  },
  {
   "cell_type": "code",
   "execution_count": 21,
   "id": "24a0bf01-27cd-4faf-93b1-3aa8a37be01c",
   "metadata": {},
   "outputs": [],
   "source": [
    "def validation(model, criterion, val_loader, device):\n",
    "    model.eval()\n",
    "    val_loss = []\n",
    "    preds, trues = [], []\n",
    "    \n",
    "    with torch.no_grad():\n",
    "        for videos, labels in tqdm(iter(val_loader)):\n",
    "            videos = videos.to(device)\n",
    "            labels = labels.to(device)\n",
    "            \n",
    "            #if model.module.binary==True: #because of DataParallel \n",
    "            #    labels=labels.float()\n",
    "                \n",
    "            logit = model(videos)\n",
    "            \n",
    "            #loss = criterion(logit, labels.reshape(-1,1))\n",
    "            loss = criterion(logit, labels)\n",
    "            val_loss.append(loss.item())\n",
    "            \n",
    "            preds += logit.argmax(1).detach().cpu().numpy().tolist() \n",
    "\n",
    "            trues += labels.detach().cpu().numpy().tolist()\n",
    "        \n",
    "        _val_loss = np.mean(val_loss)\n",
    "    \n",
    "    _val_score = f1_score(trues, preds, average='macro')\n",
    "    return _val_loss, _val_score"
   ]
  },
  {
   "cell_type": "markdown",
   "id": "51da39f9-904f-4abd-a7d2-cdf29c4a6c24",
   "metadata": {},
   "source": [
    "## Run!!"
   ]
  },
  {
   "cell_type": "code",
   "execution_count": 22,
   "id": "86142d9a-68b7-4d04-8423-49d28025411d",
   "metadata": {
    "tags": []
   },
   "outputs": [
    {
     "name": "stdout",
     "output_type": "stream",
     "text": [
      "binary-classification\n",
      "0th model run\n",
      "____________________________________________________________________________________________________\n",
      "Let's use 2 GPUs!\n"
     ]
    },
    {
     "data": {
      "application/vnd.jupyter.widget-view+json": {
       "model_id": "4b5d452b943e44db81cc9b8a3cb24170",
       "version_major": 2,
       "version_minor": 0
      },
      "text/plain": [
       "  0%|          | 0/135 [00:00<?, ?it/s]"
      ]
     },
     "metadata": {},
     "output_type": "display_data"
    },
    {
     "data": {
      "application/vnd.jupyter.widget-view+json": {
       "model_id": "d4bf0bfd060c455ea114235e55e0cc2a",
       "version_major": 2,
       "version_minor": 0
      },
      "text/plain": [
       "  0%|          | 0/34 [00:00<?, ?it/s]"
      ]
     },
     "metadata": {},
     "output_type": "display_data"
    },
    {
     "name": "stdout",
     "output_type": "stream",
     "text": [
      "Epoch [1], Train Loss : [0.22186] Val Loss : [0.15318] Val F1 : [0.93824]\n"
     ]
    },
    {
     "data": {
      "application/vnd.jupyter.widget-view+json": {
       "model_id": "ee11f3cbf4b1434fa82d5d8219341455",
       "version_major": 2,
       "version_minor": 0
      },
      "text/plain": [
       "  0%|          | 0/135 [00:00<?, ?it/s]"
      ]
     },
     "metadata": {},
     "output_type": "display_data"
    },
    {
     "data": {
      "application/vnd.jupyter.widget-view+json": {
       "model_id": "2212549c59d642cf80c30424fa9aea00",
       "version_major": 2,
       "version_minor": 0
      },
      "text/plain": [
       "  0%|          | 0/34 [00:00<?, ?it/s]"
      ]
     },
     "metadata": {},
     "output_type": "display_data"
    },
    {
     "name": "stdout",
     "output_type": "stream",
     "text": [
      "Epoch [2], Train Loss : [0.09334] Val Loss : [0.03107] Val F1 : [1.00000]\n"
     ]
    },
    {
     "data": {
      "application/vnd.jupyter.widget-view+json": {
       "model_id": "5b30a7398d7a4568b971e4cee5d5ea96",
       "version_major": 2,
       "version_minor": 0
      },
      "text/plain": [
       "  0%|          | 0/135 [00:00<?, ?it/s]"
      ]
     },
     "metadata": {},
     "output_type": "display_data"
    },
    {
     "data": {
      "application/vnd.jupyter.widget-view+json": {
       "model_id": "73b016b5ee984588b29139ce3a003209",
       "version_major": 2,
       "version_minor": 0
      },
      "text/plain": [
       "  0%|          | 0/34 [00:00<?, ?it/s]"
      ]
     },
     "metadata": {},
     "output_type": "display_data"
    },
    {
     "name": "stdout",
     "output_type": "stream",
     "text": [
      "Epoch [3], Train Loss : [0.05825] Val Loss : [0.02449] Val F1 : [0.99589]\n",
      "early stopping count : 0\n"
     ]
    },
    {
     "data": {
      "application/vnd.jupyter.widget-view+json": {
       "model_id": "8ce96009ca584408b5eaf2b3f4a24e73",
       "version_major": 2,
       "version_minor": 0
      },
      "text/plain": [
       "  0%|          | 0/135 [00:00<?, ?it/s]"
      ]
     },
     "metadata": {},
     "output_type": "display_data"
    },
    {
     "data": {
      "application/vnd.jupyter.widget-view+json": {
       "model_id": "9c1113f9b2de4611938dce0a9caee9b7",
       "version_major": 2,
       "version_minor": 0
      },
      "text/plain": [
       "  0%|          | 0/34 [00:00<?, ?it/s]"
      ]
     },
     "metadata": {},
     "output_type": "display_data"
    },
    {
     "name": "stdout",
     "output_type": "stream",
     "text": [
      "Epoch [4], Train Loss : [0.06304] Val Loss : [0.07761] Val F1 : [0.97083]\n",
      "early stopping count : 1\n"
     ]
    },
    {
     "data": {
      "application/vnd.jupyter.widget-view+json": {
       "model_id": "580ace5a040f453eb6d2e9fac0f803b0",
       "version_major": 2,
       "version_minor": 0
      },
      "text/plain": [
       "  0%|          | 0/135 [00:00<?, ?it/s]"
      ]
     },
     "metadata": {},
     "output_type": "display_data"
    },
    {
     "data": {
      "application/vnd.jupyter.widget-view+json": {
       "model_id": "1532ada28b294f289fd12a0517c6b01a",
       "version_major": 2,
       "version_minor": 0
      },
      "text/plain": [
       "  0%|          | 0/34 [00:00<?, ?it/s]"
      ]
     },
     "metadata": {},
     "output_type": "display_data"
    },
    {
     "name": "stdout",
     "output_type": "stream",
     "text": [
      "Epoch [5], Train Loss : [0.02833] Val Loss : [0.02445] Val F1 : [0.99590]\n",
      "early stopping count : 2\n"
     ]
    },
    {
     "data": {
      "application/vnd.jupyter.widget-view+json": {
       "model_id": "86a893bcd58f486db8eaf86f916a8a1c",
       "version_major": 2,
       "version_minor": 0
      },
      "text/plain": [
       "  0%|          | 0/135 [00:00<?, ?it/s]"
      ]
     },
     "metadata": {},
     "output_type": "display_data"
    },
    {
     "data": {
      "application/vnd.jupyter.widget-view+json": {
       "model_id": "74750cba80db4ce6a6f5f491fa9250d4",
       "version_major": 2,
       "version_minor": 0
      },
      "text/plain": [
       "  0%|          | 0/34 [00:00<?, ?it/s]"
      ]
     },
     "metadata": {},
     "output_type": "display_data"
    },
    {
     "name": "stdout",
     "output_type": "stream",
     "text": [
      "Epoch [6], Train Loss : [0.02862] Val Loss : [0.00373] Val F1 : [1.00000]\n",
      "early stopping count : 3\n"
     ]
    },
    {
     "data": {
      "application/vnd.jupyter.widget-view+json": {
       "model_id": "69779ef50f354a008e3749a20ad1a541",
       "version_major": 2,
       "version_minor": 0
      },
      "text/plain": [
       "  0%|          | 0/135 [00:00<?, ?it/s]"
      ]
     },
     "metadata": {},
     "output_type": "display_data"
    },
    {
     "data": {
      "application/vnd.jupyter.widget-view+json": {
       "model_id": "1a690c06b4864de5b47cc73deef510cd",
       "version_major": 2,
       "version_minor": 0
      },
      "text/plain": [
       "  0%|          | 0/34 [00:00<?, ?it/s]"
      ]
     },
     "metadata": {},
     "output_type": "display_data"
    },
    {
     "name": "stdout",
     "output_type": "stream",
     "text": [
      "Epoch [7], Train Loss : [0.01188] Val Loss : [0.00226] Val F1 : [1.00000]\n",
      "early stopping count : 4\n"
     ]
    },
    {
     "data": {
      "application/vnd.jupyter.widget-view+json": {
       "model_id": "1d58793ddcfc45ebbfe2d6a94985b694",
       "version_major": 2,
       "version_minor": 0
      },
      "text/plain": [
       "  0%|          | 0/135 [00:00<?, ?it/s]"
      ]
     },
     "metadata": {},
     "output_type": "display_data"
    },
    {
     "data": {
      "application/vnd.jupyter.widget-view+json": {
       "model_id": "1361805788124b8093f0b16a55f1d34a",
       "version_major": 2,
       "version_minor": 0
      },
      "text/plain": [
       "  0%|          | 0/34 [00:00<?, ?it/s]"
      ]
     },
     "metadata": {},
     "output_type": "display_data"
    },
    {
     "name": "stdout",
     "output_type": "stream",
     "text": [
      "Epoch [8], Train Loss : [0.00222] Val Loss : [0.00137] Val F1 : [1.00000]\n",
      "early stopping count : 5\n"
     ]
    },
    {
     "data": {
      "application/vnd.jupyter.widget-view+json": {
       "model_id": "120775551db14997a489b185c597447e",
       "version_major": 2,
       "version_minor": 0
      },
      "text/plain": [
       "  0%|          | 0/135 [00:00<?, ?it/s]"
      ]
     },
     "metadata": {},
     "output_type": "display_data"
    },
    {
     "data": {
      "application/vnd.jupyter.widget-view+json": {
       "model_id": "a6fdf25c0e20411b9b444cf9c0bc82a0",
       "version_major": 2,
       "version_minor": 0
      },
      "text/plain": [
       "  0%|          | 0/34 [00:00<?, ?it/s]"
      ]
     },
     "metadata": {},
     "output_type": "display_data"
    },
    {
     "name": "stdout",
     "output_type": "stream",
     "text": [
      "Epoch [9], Train Loss : [0.00151] Val Loss : [0.00197] Val F1 : [1.00000]\n",
      "early stopping count : 6\n"
     ]
    },
    {
     "data": {
      "application/vnd.jupyter.widget-view+json": {
       "model_id": "0558a212ee3e4798856c385b9781ceb4",
       "version_major": 2,
       "version_minor": 0
      },
      "text/plain": [
       "  0%|          | 0/135 [00:00<?, ?it/s]"
      ]
     },
     "metadata": {},
     "output_type": "display_data"
    },
    {
     "data": {
      "application/vnd.jupyter.widget-view+json": {
       "model_id": "7615aeb752234ca0bc8f2cb319c6e62e",
       "version_major": 2,
       "version_minor": 0
      },
      "text/plain": [
       "  0%|          | 0/34 [00:00<?, ?it/s]"
      ]
     },
     "metadata": {},
     "output_type": "display_data"
    },
    {
     "name": "stdout",
     "output_type": "stream",
     "text": [
      "Epoch [10], Train Loss : [0.00063] Val Loss : [0.00155] Val F1 : [1.00000]\n",
      "early stopping count : 7\n"
     ]
    },
    {
     "data": {
      "application/vnd.jupyter.widget-view+json": {
       "model_id": "1be433dabd374aaaa2e7d90b0987d73e",
       "version_major": 2,
       "version_minor": 0
      },
      "text/plain": [
       "  0%|          | 0/135 [00:00<?, ?it/s]"
      ]
     },
     "metadata": {},
     "output_type": "display_data"
    },
    {
     "data": {
      "application/vnd.jupyter.widget-view+json": {
       "model_id": "b85cbe21e50a4a9aa9ff9d5e49e1e164",
       "version_major": 2,
       "version_minor": 0
      },
      "text/plain": [
       "  0%|          | 0/34 [00:00<?, ?it/s]"
      ]
     },
     "metadata": {},
     "output_type": "display_data"
    },
    {
     "name": "stdout",
     "output_type": "stream",
     "text": [
      "Epoch [11], Train Loss : [0.04324] Val Loss : [0.39539] Val F1 : [0.84857]\n",
      "early stopping count : 8\n"
     ]
    },
    {
     "data": {
      "application/vnd.jupyter.widget-view+json": {
       "model_id": "c44ec70871484ecb97f612e7752a7b5c",
       "version_major": 2,
       "version_minor": 0
      },
      "text/plain": [
       "  0%|          | 0/135 [00:00<?, ?it/s]"
      ]
     },
     "metadata": {},
     "output_type": "display_data"
    },
    {
     "data": {
      "application/vnd.jupyter.widget-view+json": {
       "model_id": "bc020ce0b0814a3b9d365015324c2892",
       "version_major": 2,
       "version_minor": 0
      },
      "text/plain": [
       "  0%|          | 0/34 [00:00<?, ?it/s]"
      ]
     },
     "metadata": {},
     "output_type": "display_data"
    },
    {
     "name": "stdout",
     "output_type": "stream",
     "text": [
      "Epoch [12], Train Loss : [0.14845] Val Loss : [0.00787] Val F1 : [0.99795]\n",
      "early stopping count : 9\n",
      "early stopping done\n",
      "binary-classification\n",
      "1th model run\n",
      "____________________________________________________________________________________________________\n",
      "Let's use 2 GPUs!\n"
     ]
    },
    {
     "data": {
      "application/vnd.jupyter.widget-view+json": {
       "model_id": "7c4d9303df604baf803acb8aeb744a78",
       "version_major": 2,
       "version_minor": 0
      },
      "text/plain": [
       "  0%|          | 0/46 [00:00<?, ?it/s]"
      ]
     },
     "metadata": {},
     "output_type": "display_data"
    },
    {
     "data": {
      "application/vnd.jupyter.widget-view+json": {
       "model_id": "f2bfae0159f049e9a109d625a1121b3f",
       "version_major": 2,
       "version_minor": 0
      },
      "text/plain": [
       "  0%|          | 0/12 [00:00<?, ?it/s]"
      ]
     },
     "metadata": {},
     "output_type": "display_data"
    },
    {
     "name": "stdout",
     "output_type": "stream",
     "text": [
      "Epoch [1], Train Loss : [0.50779] Val Loss : [0.24675] Val F1 : [0.91212]\n"
     ]
    },
    {
     "data": {
      "application/vnd.jupyter.widget-view+json": {
       "model_id": "55f8f9aa283b4c3ebc35c2b23be3543c",
       "version_major": 2,
       "version_minor": 0
      },
      "text/plain": [
       "  0%|          | 0/46 [00:00<?, ?it/s]"
      ]
     },
     "metadata": {},
     "output_type": "display_data"
    },
    {
     "data": {
      "application/vnd.jupyter.widget-view+json": {
       "model_id": "130f1d8de94340d8896d649fe1dc024c",
       "version_major": 2,
       "version_minor": 0
      },
      "text/plain": [
       "  0%|          | 0/12 [00:00<?, ?it/s]"
      ]
     },
     "metadata": {},
     "output_type": "display_data"
    },
    {
     "name": "stdout",
     "output_type": "stream",
     "text": [
      "Epoch [2], Train Loss : [0.29652] Val Loss : [0.46844] Val F1 : [0.76966]\n",
      "early stopping count : 0\n"
     ]
    },
    {
     "data": {
      "application/vnd.jupyter.widget-view+json": {
       "model_id": "e9b201f037cc4fca84beff3e5f0040e2",
       "version_major": 2,
       "version_minor": 0
      },
      "text/plain": [
       "  0%|          | 0/46 [00:00<?, ?it/s]"
      ]
     },
     "metadata": {},
     "output_type": "display_data"
    },
    {
     "data": {
      "application/vnd.jupyter.widget-view+json": {
       "model_id": "2203753582ec469bafaf75026b4b214a",
       "version_major": 2,
       "version_minor": 0
      },
      "text/plain": [
       "  0%|          | 0/12 [00:00<?, ?it/s]"
      ]
     },
     "metadata": {},
     "output_type": "display_data"
    },
    {
     "name": "stdout",
     "output_type": "stream",
     "text": [
      "Epoch [3], Train Loss : [0.21904] Val Loss : [0.33439] Val F1 : [0.89369]\n",
      "early stopping count : 1\n"
     ]
    },
    {
     "data": {
      "application/vnd.jupyter.widget-view+json": {
       "model_id": "092e897e36f24851b3b2ae6c32ca27eb",
       "version_major": 2,
       "version_minor": 0
      },
      "text/plain": [
       "  0%|          | 0/46 [00:00<?, ?it/s]"
      ]
     },
     "metadata": {},
     "output_type": "display_data"
    },
    {
     "data": {
      "application/vnd.jupyter.widget-view+json": {
       "model_id": "9e41c63b95344e78b03f4f2015ce3b98",
       "version_major": 2,
       "version_minor": 0
      },
      "text/plain": [
       "  0%|          | 0/12 [00:00<?, ?it/s]"
      ]
     },
     "metadata": {},
     "output_type": "display_data"
    },
    {
     "name": "stdout",
     "output_type": "stream",
     "text": [
      "Epoch [4], Train Loss : [0.18304] Val Loss : [0.42852] Val F1 : [0.86332]\n",
      "early stopping count : 2\n"
     ]
    },
    {
     "data": {
      "application/vnd.jupyter.widget-view+json": {
       "model_id": "6fdd5a8270fe474eae2fa34d2aac1936",
       "version_major": 2,
       "version_minor": 0
      },
      "text/plain": [
       "  0%|          | 0/46 [00:00<?, ?it/s]"
      ]
     },
     "metadata": {},
     "output_type": "display_data"
    },
    {
     "data": {
      "application/vnd.jupyter.widget-view+json": {
       "model_id": "59d402c5fd29493f87ad8f16bcd01794",
       "version_major": 2,
       "version_minor": 0
      },
      "text/plain": [
       "  0%|          | 0/12 [00:00<?, ?it/s]"
      ]
     },
     "metadata": {},
     "output_type": "display_data"
    },
    {
     "name": "stdout",
     "output_type": "stream",
     "text": [
      "Epoch [5], Train Loss : [0.13889] Val Loss : [1.01881] Val F1 : [0.56440]\n",
      "early stopping count : 3\n"
     ]
    },
    {
     "data": {
      "application/vnd.jupyter.widget-view+json": {
       "model_id": "ffe5ba779f0145a9ad60083a5d4c4773",
       "version_major": 2,
       "version_minor": 0
      },
      "text/plain": [
       "  0%|          | 0/46 [00:00<?, ?it/s]"
      ]
     },
     "metadata": {},
     "output_type": "display_data"
    },
    {
     "data": {
      "application/vnd.jupyter.widget-view+json": {
       "model_id": "f841ed0fb68b4d44a63cefbc333fc6a7",
       "version_major": 2,
       "version_minor": 0
      },
      "text/plain": [
       "  0%|          | 0/12 [00:00<?, ?it/s]"
      ]
     },
     "metadata": {},
     "output_type": "display_data"
    },
    {
     "name": "stdout",
     "output_type": "stream",
     "text": [
      "Epoch [6], Train Loss : [0.12702] Val Loss : [0.29047] Val F1 : [0.88925]\n",
      "early stopping count : 4\n"
     ]
    },
    {
     "data": {
      "application/vnd.jupyter.widget-view+json": {
       "model_id": "8e00af97cb484e94b6e24181e053ae51",
       "version_major": 2,
       "version_minor": 0
      },
      "text/plain": [
       "  0%|          | 0/46 [00:00<?, ?it/s]"
      ]
     },
     "metadata": {},
     "output_type": "display_data"
    },
    {
     "data": {
      "application/vnd.jupyter.widget-view+json": {
       "model_id": "7016bb9a7df9456e9fd6d378a2ac3645",
       "version_major": 2,
       "version_minor": 0
      },
      "text/plain": [
       "  0%|          | 0/12 [00:00<?, ?it/s]"
      ]
     },
     "metadata": {},
     "output_type": "display_data"
    },
    {
     "name": "stdout",
     "output_type": "stream",
     "text": [
      "Epoch [7], Train Loss : [0.10693] Val Loss : [0.28536] Val F1 : [0.89290]\n",
      "early stopping count : 5\n"
     ]
    },
    {
     "data": {
      "application/vnd.jupyter.widget-view+json": {
       "model_id": "dde1428a100e4c8abb406a72972ef397",
       "version_major": 2,
       "version_minor": 0
      },
      "text/plain": [
       "  0%|          | 0/46 [00:00<?, ?it/s]"
      ]
     },
     "metadata": {},
     "output_type": "display_data"
    },
    {
     "data": {
      "application/vnd.jupyter.widget-view+json": {
       "model_id": "0b31c2f6e29f4629a456ececadbf437a",
       "version_major": 2,
       "version_minor": 0
      },
      "text/plain": [
       "  0%|          | 0/12 [00:00<?, ?it/s]"
      ]
     },
     "metadata": {},
     "output_type": "display_data"
    },
    {
     "name": "stdout",
     "output_type": "stream",
     "text": [
      "Epoch [8], Train Loss : [0.06723] Val Loss : [0.35275] Val F1 : [0.88976]\n",
      "early stopping count : 6\n"
     ]
    },
    {
     "data": {
      "application/vnd.jupyter.widget-view+json": {
       "model_id": "338a383017a2427c9180c260db122918",
       "version_major": 2,
       "version_minor": 0
      },
      "text/plain": [
       "  0%|          | 0/46 [00:00<?, ?it/s]"
      ]
     },
     "metadata": {},
     "output_type": "display_data"
    },
    {
     "data": {
      "application/vnd.jupyter.widget-view+json": {
       "model_id": "078b3057850b432a827bbcdf315a1c60",
       "version_major": 2,
       "version_minor": 0
      },
      "text/plain": [
       "  0%|          | 0/12 [00:00<?, ?it/s]"
      ]
     },
     "metadata": {},
     "output_type": "display_data"
    },
    {
     "name": "stdout",
     "output_type": "stream",
     "text": [
      "Epoch [9], Train Loss : [0.12211] Val Loss : [0.33518] Val F1 : [0.90140]\n",
      "early stopping count : 7\n"
     ]
    },
    {
     "data": {
      "application/vnd.jupyter.widget-view+json": {
       "model_id": "4f40f44fcdb84e23aa3a4fbf0d26352f",
       "version_major": 2,
       "version_minor": 0
      },
      "text/plain": [
       "  0%|          | 0/46 [00:00<?, ?it/s]"
      ]
     },
     "metadata": {},
     "output_type": "display_data"
    },
    {
     "data": {
      "application/vnd.jupyter.widget-view+json": {
       "model_id": "b25746f5d29b45838c9b8ff8b46bbbfb",
       "version_major": 2,
       "version_minor": 0
      },
      "text/plain": [
       "  0%|          | 0/12 [00:00<?, ?it/s]"
      ]
     },
     "metadata": {},
     "output_type": "display_data"
    },
    {
     "name": "stdout",
     "output_type": "stream",
     "text": [
      "Epoch [10], Train Loss : [0.10390] Val Loss : [0.27790] Val F1 : [0.91723]\n"
     ]
    },
    {
     "data": {
      "application/vnd.jupyter.widget-view+json": {
       "model_id": "fe64acc102314fdbba44668e2b23e501",
       "version_major": 2,
       "version_minor": 0
      },
      "text/plain": [
       "  0%|          | 0/46 [00:00<?, ?it/s]"
      ]
     },
     "metadata": {},
     "output_type": "display_data"
    },
    {
     "data": {
      "application/vnd.jupyter.widget-view+json": {
       "model_id": "1b62186a26ce444391c6233d1f0d0d3e",
       "version_major": 2,
       "version_minor": 0
      },
      "text/plain": [
       "  0%|          | 0/12 [00:00<?, ?it/s]"
      ]
     },
     "metadata": {},
     "output_type": "display_data"
    },
    {
     "name": "stdout",
     "output_type": "stream",
     "text": [
      "Epoch [11], Train Loss : [0.10012] Val Loss : [0.28145] Val F1 : [0.87358]\n",
      "early stopping count : 0\n"
     ]
    },
    {
     "data": {
      "application/vnd.jupyter.widget-view+json": {
       "model_id": "2921ce09a3084651a3727919d6ecfd45",
       "version_major": 2,
       "version_minor": 0
      },
      "text/plain": [
       "  0%|          | 0/46 [00:00<?, ?it/s]"
      ]
     },
     "metadata": {},
     "output_type": "display_data"
    },
    {
     "data": {
      "application/vnd.jupyter.widget-view+json": {
       "model_id": "be6a3bdad6b145bfa5e30accee110034",
       "version_major": 2,
       "version_minor": 0
      },
      "text/plain": [
       "  0%|          | 0/12 [00:00<?, ?it/s]"
      ]
     },
     "metadata": {},
     "output_type": "display_data"
    },
    {
     "name": "stdout",
     "output_type": "stream",
     "text": [
      "Epoch [12], Train Loss : [0.05684] Val Loss : [0.24936] Val F1 : [0.90114]\n",
      "early stopping count : 1\n"
     ]
    },
    {
     "data": {
      "application/vnd.jupyter.widget-view+json": {
       "model_id": "26f25d9c957b401d8ef9e42c2b0b7bae",
       "version_major": 2,
       "version_minor": 0
      },
      "text/plain": [
       "  0%|          | 0/46 [00:00<?, ?it/s]"
      ]
     },
     "metadata": {},
     "output_type": "display_data"
    },
    {
     "data": {
      "application/vnd.jupyter.widget-view+json": {
       "model_id": "ac14b1f212714cedbb921bc0cf569e14",
       "version_major": 2,
       "version_minor": 0
      },
      "text/plain": [
       "  0%|          | 0/12 [00:00<?, ?it/s]"
      ]
     },
     "metadata": {},
     "output_type": "display_data"
    },
    {
     "name": "stdout",
     "output_type": "stream",
     "text": [
      "Epoch [13], Train Loss : [0.06591] Val Loss : [0.25295] Val F1 : [0.92750]\n"
     ]
    },
    {
     "data": {
      "application/vnd.jupyter.widget-view+json": {
       "model_id": "fbdd8c6523684cfcb4a67e2691dc61bf",
       "version_major": 2,
       "version_minor": 0
      },
      "text/plain": [
       "  0%|          | 0/46 [00:00<?, ?it/s]"
      ]
     },
     "metadata": {},
     "output_type": "display_data"
    },
    {
     "data": {
      "application/vnd.jupyter.widget-view+json": {
       "model_id": "f440fb9cad5242f0a4c118c9ae8ea4a4",
       "version_major": 2,
       "version_minor": 0
      },
      "text/plain": [
       "  0%|          | 0/12 [00:00<?, ?it/s]"
      ]
     },
     "metadata": {},
     "output_type": "display_data"
    },
    {
     "name": "stdout",
     "output_type": "stream",
     "text": [
      "Epoch [14], Train Loss : [0.08830] Val Loss : [0.30597] Val F1 : [0.89465]\n",
      "early stopping count : 0\n"
     ]
    },
    {
     "data": {
      "application/vnd.jupyter.widget-view+json": {
       "model_id": "363e938001ea4da5acfa4ccfe85f93db",
       "version_major": 2,
       "version_minor": 0
      },
      "text/plain": [
       "  0%|          | 0/46 [00:00<?, ?it/s]"
      ]
     },
     "metadata": {},
     "output_type": "display_data"
    },
    {
     "data": {
      "application/vnd.jupyter.widget-view+json": {
       "model_id": "2e21d44dc01b4cbe93d52e0c39568442",
       "version_major": 2,
       "version_minor": 0
      },
      "text/plain": [
       "  0%|          | 0/12 [00:00<?, ?it/s]"
      ]
     },
     "metadata": {},
     "output_type": "display_data"
    },
    {
     "name": "stdout",
     "output_type": "stream",
     "text": [
      "Epoch [15], Train Loss : [0.05152] Val Loss : [0.29800] Val F1 : [0.87917]\n",
      "early stopping count : 1\n"
     ]
    },
    {
     "data": {
      "application/vnd.jupyter.widget-view+json": {
       "model_id": "ce10019467114ef89504370277305452",
       "version_major": 2,
       "version_minor": 0
      },
      "text/plain": [
       "  0%|          | 0/46 [00:00<?, ?it/s]"
      ]
     },
     "metadata": {},
     "output_type": "display_data"
    },
    {
     "data": {
      "application/vnd.jupyter.widget-view+json": {
       "model_id": "e931fe0a946a48939eca05f498284189",
       "version_major": 2,
       "version_minor": 0
      },
      "text/plain": [
       "  0%|          | 0/12 [00:00<?, ?it/s]"
      ]
     },
     "metadata": {},
     "output_type": "display_data"
    },
    {
     "name": "stdout",
     "output_type": "stream",
     "text": [
      "Epoch [16], Train Loss : [0.04970] Val Loss : [0.25692] Val F1 : [0.91212]\n",
      "early stopping count : 2\n"
     ]
    },
    {
     "data": {
      "application/vnd.jupyter.widget-view+json": {
       "model_id": "88070141f6ab4fa4984f5d96c208c02f",
       "version_major": 2,
       "version_minor": 0
      },
      "text/plain": [
       "  0%|          | 0/46 [00:00<?, ?it/s]"
      ]
     },
     "metadata": {},
     "output_type": "display_data"
    },
    {
     "data": {
      "application/vnd.jupyter.widget-view+json": {
       "model_id": "d62e5b4d31fe4a87a2524f3fa18b382e",
       "version_major": 2,
       "version_minor": 0
      },
      "text/plain": [
       "  0%|          | 0/12 [00:00<?, ?it/s]"
      ]
     },
     "metadata": {},
     "output_type": "display_data"
    },
    {
     "name": "stdout",
     "output_type": "stream",
     "text": [
      "Epoch [17], Train Loss : [0.05694] Val Loss : [0.30034] Val F1 : [0.87309]\n",
      "early stopping count : 3\n"
     ]
    },
    {
     "data": {
      "application/vnd.jupyter.widget-view+json": {
       "model_id": "f960f3b6c49b456e8cff36b8d680d82c",
       "version_major": 2,
       "version_minor": 0
      },
      "text/plain": [
       "  0%|          | 0/46 [00:00<?, ?it/s]"
      ]
     },
     "metadata": {},
     "output_type": "display_data"
    },
    {
     "data": {
      "application/vnd.jupyter.widget-view+json": {
       "model_id": "5b6920f416814a86be955199d3c69fb8",
       "version_major": 2,
       "version_minor": 0
      },
      "text/plain": [
       "  0%|          | 0/12 [00:00<?, ?it/s]"
      ]
     },
     "metadata": {},
     "output_type": "display_data"
    },
    {
     "name": "stdout",
     "output_type": "stream",
     "text": [
      "Epoch [18], Train Loss : [0.01515] Val Loss : [0.25095] Val F1 : [0.91683]\n",
      "early stopping count : 4\n"
     ]
    },
    {
     "data": {
      "application/vnd.jupyter.widget-view+json": {
       "model_id": "419f5ddfd28643fd8d5d68717fff4e8e",
       "version_major": 2,
       "version_minor": 0
      },
      "text/plain": [
       "  0%|          | 0/46 [00:00<?, ?it/s]"
      ]
     },
     "metadata": {},
     "output_type": "display_data"
    },
    {
     "data": {
      "application/vnd.jupyter.widget-view+json": {
       "model_id": "41595f24993247cb9904eeb98b0208c4",
       "version_major": 2,
       "version_minor": 0
      },
      "text/plain": [
       "  0%|          | 0/12 [00:00<?, ?it/s]"
      ]
     },
     "metadata": {},
     "output_type": "display_data"
    },
    {
     "name": "stdout",
     "output_type": "stream",
     "text": [
      "Epoch [19], Train Loss : [0.01683] Val Loss : [0.32374] Val F1 : [0.90639]\n",
      "early stopping count : 5\n"
     ]
    },
    {
     "data": {
      "application/vnd.jupyter.widget-view+json": {
       "model_id": "b1c8bf6698d146d398b15b4f2605d29f",
       "version_major": 2,
       "version_minor": 0
      },
      "text/plain": [
       "  0%|          | 0/46 [00:00<?, ?it/s]"
      ]
     },
     "metadata": {},
     "output_type": "display_data"
    },
    {
     "data": {
      "application/vnd.jupyter.widget-view+json": {
       "model_id": "a67ad9605ebf4eafa6e6c8cd33ce75de",
       "version_major": 2,
       "version_minor": 0
      },
      "text/plain": [
       "  0%|          | 0/12 [00:00<?, ?it/s]"
      ]
     },
     "metadata": {},
     "output_type": "display_data"
    },
    {
     "name": "stdout",
     "output_type": "stream",
     "text": [
      "Epoch [20], Train Loss : [0.05893] Val Loss : [0.35502] Val F1 : [0.88490]\n",
      "early stopping count : 6\n"
     ]
    },
    {
     "data": {
      "application/vnd.jupyter.widget-view+json": {
       "model_id": "9f0a3bc4c178455a97c0830ef21805d9",
       "version_major": 2,
       "version_minor": 0
      },
      "text/plain": [
       "  0%|          | 0/46 [00:00<?, ?it/s]"
      ]
     },
     "metadata": {},
     "output_type": "display_data"
    },
    {
     "data": {
      "application/vnd.jupyter.widget-view+json": {
       "model_id": "304ca612ced24c8f83d90a093545bd35",
       "version_major": 2,
       "version_minor": 0
      },
      "text/plain": [
       "  0%|          | 0/12 [00:00<?, ?it/s]"
      ]
     },
     "metadata": {},
     "output_type": "display_data"
    },
    {
     "name": "stdout",
     "output_type": "stream",
     "text": [
      "Epoch [21], Train Loss : [0.05157] Val Loss : [0.28651] Val F1 : [0.91198]\n",
      "early stopping count : 7\n"
     ]
    },
    {
     "data": {
      "application/vnd.jupyter.widget-view+json": {
       "model_id": "2e1288b867014fe3adae251701929d37",
       "version_major": 2,
       "version_minor": 0
      },
      "text/plain": [
       "  0%|          | 0/46 [00:00<?, ?it/s]"
      ]
     },
     "metadata": {},
     "output_type": "display_data"
    },
    {
     "data": {
      "application/vnd.jupyter.widget-view+json": {
       "model_id": "bc5b3293dfdf420bbee7e93f0d7e98e3",
       "version_major": 2,
       "version_minor": 0
      },
      "text/plain": [
       "  0%|          | 0/12 [00:00<?, ?it/s]"
      ]
     },
     "metadata": {},
     "output_type": "display_data"
    },
    {
     "name": "stdout",
     "output_type": "stream",
     "text": [
      "Epoch [22], Train Loss : [0.01529] Val Loss : [0.28061] Val F1 : [0.91212]\n",
      "early stopping count : 8\n"
     ]
    },
    {
     "data": {
      "application/vnd.jupyter.widget-view+json": {
       "model_id": "d8c27cd680b648a6884627f63a767333",
       "version_major": 2,
       "version_minor": 0
      },
      "text/plain": [
       "  0%|          | 0/46 [00:00<?, ?it/s]"
      ]
     },
     "metadata": {},
     "output_type": "display_data"
    },
    {
     "data": {
      "application/vnd.jupyter.widget-view+json": {
       "model_id": "77070bc8ab5b455e99935972c65ba9f7",
       "version_major": 2,
       "version_minor": 0
      },
      "text/plain": [
       "  0%|          | 0/12 [00:00<?, ?it/s]"
      ]
     },
     "metadata": {},
     "output_type": "display_data"
    },
    {
     "name": "stdout",
     "output_type": "stream",
     "text": [
      "Epoch [23], Train Loss : [0.01837] Val Loss : [0.27124] Val F1 : [0.90598]\n",
      "early stopping count : 9\n",
      "early stopping done\n",
      "mutli-classification\n",
      "2th model run\n",
      "____________________________________________________________________________________________________\n",
      "Let's use 2 GPUs!\n"
     ]
    },
    {
     "data": {
      "application/vnd.jupyter.widget-view+json": {
       "model_id": "afe5f1b9688d453a941ddeae3399a59e",
       "version_major": 2,
       "version_minor": 0
      },
      "text/plain": [
       "  0%|          | 0/46 [00:00<?, ?it/s]"
      ]
     },
     "metadata": {},
     "output_type": "display_data"
    },
    {
     "data": {
      "application/vnd.jupyter.widget-view+json": {
       "model_id": "936d586278f54799b4a2c14beca1bcb4",
       "version_major": 2,
       "version_minor": 0
      },
      "text/plain": [
       "  0%|          | 0/12 [00:00<?, ?it/s]"
      ]
     },
     "metadata": {},
     "output_type": "display_data"
    },
    {
     "name": "stdout",
     "output_type": "stream",
     "text": [
      "Epoch [1], Train Loss : [0.61953] Val Loss : [0.35588] Val F1 : [0.79452]\n"
     ]
    },
    {
     "data": {
      "application/vnd.jupyter.widget-view+json": {
       "model_id": "9e13696dcaad4669bf2adf21c9d74334",
       "version_major": 2,
       "version_minor": 0
      },
      "text/plain": [
       "  0%|          | 0/46 [00:00<?, ?it/s]"
      ]
     },
     "metadata": {},
     "output_type": "display_data"
    },
    {
     "data": {
      "application/vnd.jupyter.widget-view+json": {
       "model_id": "c89361332869457ba0253f0ec8fd6d76",
       "version_major": 2,
       "version_minor": 0
      },
      "text/plain": [
       "  0%|          | 0/12 [00:00<?, ?it/s]"
      ]
     },
     "metadata": {},
     "output_type": "display_data"
    },
    {
     "name": "stdout",
     "output_type": "stream",
     "text": [
      "Epoch [2], Train Loss : [0.39679] Val Loss : [0.34232] Val F1 : [0.75228]\n",
      "early stopping count : 0\n"
     ]
    },
    {
     "data": {
      "application/vnd.jupyter.widget-view+json": {
       "model_id": "da2f1a25f8d047b6af3ff3b81b3037e0",
       "version_major": 2,
       "version_minor": 0
      },
      "text/plain": [
       "  0%|          | 0/46 [00:00<?, ?it/s]"
      ]
     },
     "metadata": {},
     "output_type": "display_data"
    },
    {
     "data": {
      "application/vnd.jupyter.widget-view+json": {
       "model_id": "47ca8b0162304e868e9c6bb965f063e6",
       "version_major": 2,
       "version_minor": 0
      },
      "text/plain": [
       "  0%|          | 0/12 [00:00<?, ?it/s]"
      ]
     },
     "metadata": {},
     "output_type": "display_data"
    },
    {
     "name": "stdout",
     "output_type": "stream",
     "text": [
      "Epoch [3], Train Loss : [0.27712] Val Loss : [0.35208] Val F1 : [0.69452]\n",
      "early stopping count : 1\n"
     ]
    },
    {
     "data": {
      "application/vnd.jupyter.widget-view+json": {
       "model_id": "d4671a797bbc4c72a8ff9fd2b2b9fa43",
       "version_major": 2,
       "version_minor": 0
      },
      "text/plain": [
       "  0%|          | 0/46 [00:00<?, ?it/s]"
      ]
     },
     "metadata": {},
     "output_type": "display_data"
    },
    {
     "data": {
      "application/vnd.jupyter.widget-view+json": {
       "model_id": "b00baeb7c7d14076a38f1b8773a9f165",
       "version_major": 2,
       "version_minor": 0
      },
      "text/plain": [
       "  0%|          | 0/12 [00:00<?, ?it/s]"
      ]
     },
     "metadata": {},
     "output_type": "display_data"
    },
    {
     "name": "stdout",
     "output_type": "stream",
     "text": [
      "Epoch [4], Train Loss : [0.19290] Val Loss : [0.47444] Val F1 : [0.68106]\n",
      "early stopping count : 2\n"
     ]
    },
    {
     "data": {
      "application/vnd.jupyter.widget-view+json": {
       "model_id": "46addec1981541b1b045f53dd89b3134",
       "version_major": 2,
       "version_minor": 0
      },
      "text/plain": [
       "  0%|          | 0/46 [00:00<?, ?it/s]"
      ]
     },
     "metadata": {},
     "output_type": "display_data"
    },
    {
     "data": {
      "application/vnd.jupyter.widget-view+json": {
       "model_id": "fd4ab62a38934629a0197e473cc0c238",
       "version_major": 2,
       "version_minor": 0
      },
      "text/plain": [
       "  0%|          | 0/12 [00:00<?, ?it/s]"
      ]
     },
     "metadata": {},
     "output_type": "display_data"
    },
    {
     "name": "stdout",
     "output_type": "stream",
     "text": [
      "Epoch [5], Train Loss : [0.19372] Val Loss : [0.47587] Val F1 : [0.57406]\n",
      "early stopping count : 3\n"
     ]
    },
    {
     "data": {
      "application/vnd.jupyter.widget-view+json": {
       "model_id": "d8f58f67f4e24a7e9b3b2420793213eb",
       "version_major": 2,
       "version_minor": 0
      },
      "text/plain": [
       "  0%|          | 0/46 [00:00<?, ?it/s]"
      ]
     },
     "metadata": {},
     "output_type": "display_data"
    },
    {
     "data": {
      "application/vnd.jupyter.widget-view+json": {
       "model_id": "eb72aa573b4441bbb03e9a7a97f2df95",
       "version_major": 2,
       "version_minor": 0
      },
      "text/plain": [
       "  0%|          | 0/12 [00:00<?, ?it/s]"
      ]
     },
     "metadata": {},
     "output_type": "display_data"
    },
    {
     "name": "stdout",
     "output_type": "stream",
     "text": [
      "Epoch [6], Train Loss : [0.17189] Val Loss : [0.35236] Val F1 : [0.76569]\n",
      "early stopping count : 4\n"
     ]
    },
    {
     "data": {
      "application/vnd.jupyter.widget-view+json": {
       "model_id": "f169177d9f6744f99dcf83956611cf85",
       "version_major": 2,
       "version_minor": 0
      },
      "text/plain": [
       "  0%|          | 0/46 [00:00<?, ?it/s]"
      ]
     },
     "metadata": {},
     "output_type": "display_data"
    },
    {
     "data": {
      "application/vnd.jupyter.widget-view+json": {
       "model_id": "57f38c3e014f45528d56b2a6fbad20a4",
       "version_major": 2,
       "version_minor": 0
      },
      "text/plain": [
       "  0%|          | 0/12 [00:00<?, ?it/s]"
      ]
     },
     "metadata": {},
     "output_type": "display_data"
    },
    {
     "name": "stdout",
     "output_type": "stream",
     "text": [
      "Epoch [7], Train Loss : [0.12688] Val Loss : [0.49455] Val F1 : [0.77794]\n",
      "early stopping count : 5\n"
     ]
    },
    {
     "data": {
      "application/vnd.jupyter.widget-view+json": {
       "model_id": "64911238ebd94fb593ccfc54f0f74d3d",
       "version_major": 2,
       "version_minor": 0
      },
      "text/plain": [
       "  0%|          | 0/46 [00:00<?, ?it/s]"
      ]
     },
     "metadata": {},
     "output_type": "display_data"
    },
    {
     "data": {
      "application/vnd.jupyter.widget-view+json": {
       "model_id": "9118e853a307455c9f123192b21c1bbc",
       "version_major": 2,
       "version_minor": 0
      },
      "text/plain": [
       "  0%|          | 0/12 [00:00<?, ?it/s]"
      ]
     },
     "metadata": {},
     "output_type": "display_data"
    },
    {
     "name": "stdout",
     "output_type": "stream",
     "text": [
      "Epoch [8], Train Loss : [0.10185] Val Loss : [0.42837] Val F1 : [0.73036]\n",
      "early stopping count : 6\n"
     ]
    },
    {
     "data": {
      "application/vnd.jupyter.widget-view+json": {
       "model_id": "98ea591e52c640399ad55ce89a088bf0",
       "version_major": 2,
       "version_minor": 0
      },
      "text/plain": [
       "  0%|          | 0/46 [00:00<?, ?it/s]"
      ]
     },
     "metadata": {},
     "output_type": "display_data"
    },
    {
     "data": {
      "application/vnd.jupyter.widget-view+json": {
       "model_id": "bf49dc7d010346a0bf2f2d7b13dc2891",
       "version_major": 2,
       "version_minor": 0
      },
      "text/plain": [
       "  0%|          | 0/12 [00:00<?, ?it/s]"
      ]
     },
     "metadata": {},
     "output_type": "display_data"
    },
    {
     "name": "stdout",
     "output_type": "stream",
     "text": [
      "Epoch [9], Train Loss : [0.07052] Val Loss : [0.41167] Val F1 : [0.72792]\n",
      "early stopping count : 7\n"
     ]
    },
    {
     "data": {
      "application/vnd.jupyter.widget-view+json": {
       "model_id": "967e758254b745e195b194793806bf2c",
       "version_major": 2,
       "version_minor": 0
      },
      "text/plain": [
       "  0%|          | 0/46 [00:00<?, ?it/s]"
      ]
     },
     "metadata": {},
     "output_type": "display_data"
    },
    {
     "data": {
      "application/vnd.jupyter.widget-view+json": {
       "model_id": "cafda312fe964401b9d1d17fb0029f58",
       "version_major": 2,
       "version_minor": 0
      },
      "text/plain": [
       "  0%|          | 0/12 [00:00<?, ?it/s]"
      ]
     },
     "metadata": {},
     "output_type": "display_data"
    },
    {
     "name": "stdout",
     "output_type": "stream",
     "text": [
      "Epoch [10], Train Loss : [0.05297] Val Loss : [0.53720] Val F1 : [0.62521]\n",
      "early stopping count : 8\n"
     ]
    },
    {
     "data": {
      "application/vnd.jupyter.widget-view+json": {
       "model_id": "a7753063bd424984ae6dba193aee3614",
       "version_major": 2,
       "version_minor": 0
      },
      "text/plain": [
       "  0%|          | 0/46 [00:00<?, ?it/s]"
      ]
     },
     "metadata": {},
     "output_type": "display_data"
    },
    {
     "data": {
      "application/vnd.jupyter.widget-view+json": {
       "model_id": "0b488cb4c98c4b46ad4399615d6b80f8",
       "version_major": 2,
       "version_minor": 0
      },
      "text/plain": [
       "  0%|          | 0/12 [00:00<?, ?it/s]"
      ]
     },
     "metadata": {},
     "output_type": "display_data"
    },
    {
     "name": "stdout",
     "output_type": "stream",
     "text": [
      "Epoch [11], Train Loss : [0.06335] Val Loss : [0.46468] Val F1 : [0.73414]\n",
      "early stopping count : 9\n",
      "early stopping done\n",
      "binary-classification\n",
      "3th model run\n",
      "____________________________________________________________________________________________________\n",
      "Let's use 2 GPUs!\n"
     ]
    },
    {
     "data": {
      "application/vnd.jupyter.widget-view+json": {
       "model_id": "0dc2a125e82e490aa1bc152ce3420734",
       "version_major": 2,
       "version_minor": 0
      },
      "text/plain": [
       "  0%|          | 0/46 [00:00<?, ?it/s]"
      ]
     },
     "metadata": {},
     "output_type": "display_data"
    },
    {
     "data": {
      "application/vnd.jupyter.widget-view+json": {
       "model_id": "b4210ddac41748f2934a6e5c2af23e25",
       "version_major": 2,
       "version_minor": 0
      },
      "text/plain": [
       "  0%|          | 0/12 [00:00<?, ?it/s]"
      ]
     },
     "metadata": {},
     "output_type": "display_data"
    },
    {
     "name": "stdout",
     "output_type": "stream",
     "text": [
      "Epoch [1], Train Loss : [0.16643] Val Loss : [0.39224] Val F1 : [0.81346]\n"
     ]
    },
    {
     "data": {
      "application/vnd.jupyter.widget-view+json": {
       "model_id": "94321d6f7aad46689dcd46f2af94193d",
       "version_major": 2,
       "version_minor": 0
      },
      "text/plain": [
       "  0%|          | 0/46 [00:00<?, ?it/s]"
      ]
     },
     "metadata": {},
     "output_type": "display_data"
    },
    {
     "data": {
      "application/vnd.jupyter.widget-view+json": {
       "model_id": "6d519251a59047f3a037c043e6094ce5",
       "version_major": 2,
       "version_minor": 0
      },
      "text/plain": [
       "  0%|          | 0/12 [00:00<?, ?it/s]"
      ]
     },
     "metadata": {},
     "output_type": "display_data"
    },
    {
     "name": "stdout",
     "output_type": "stream",
     "text": [
      "Epoch [2], Train Loss : [0.12529] Val Loss : [0.28805] Val F1 : [0.86552]\n"
     ]
    },
    {
     "data": {
      "application/vnd.jupyter.widget-view+json": {
       "model_id": "6b756199dd364e11a99b8716fc9fdb89",
       "version_major": 2,
       "version_minor": 0
      },
      "text/plain": [
       "  0%|          | 0/46 [00:00<?, ?it/s]"
      ]
     },
     "metadata": {},
     "output_type": "display_data"
    },
    {
     "data": {
      "application/vnd.jupyter.widget-view+json": {
       "model_id": "893d9a3fabe04308992dab80edb9a07a",
       "version_major": 2,
       "version_minor": 0
      },
      "text/plain": [
       "  0%|          | 0/12 [00:00<?, ?it/s]"
      ]
     },
     "metadata": {},
     "output_type": "display_data"
    },
    {
     "name": "stdout",
     "output_type": "stream",
     "text": [
      "Epoch [3], Train Loss : [0.08117] Val Loss : [0.16352] Val F1 : [0.90371]\n"
     ]
    },
    {
     "data": {
      "application/vnd.jupyter.widget-view+json": {
       "model_id": "70e7183f04bb4ac8bbfd5aa1fdc15102",
       "version_major": 2,
       "version_minor": 0
      },
      "text/plain": [
       "  0%|          | 0/46 [00:00<?, ?it/s]"
      ]
     },
     "metadata": {},
     "output_type": "display_data"
    },
    {
     "data": {
      "application/vnd.jupyter.widget-view+json": {
       "model_id": "c5b9a56738c649919c86ef0da514516f",
       "version_major": 2,
       "version_minor": 0
      },
      "text/plain": [
       "  0%|          | 0/12 [00:00<?, ?it/s]"
      ]
     },
     "metadata": {},
     "output_type": "display_data"
    },
    {
     "name": "stdout",
     "output_type": "stream",
     "text": [
      "Epoch [4], Train Loss : [0.05518] Val Loss : [0.16105] Val F1 : [0.90409]\n"
     ]
    },
    {
     "data": {
      "application/vnd.jupyter.widget-view+json": {
       "model_id": "2a7fbff0002e4a30b6d34089a21f6a36",
       "version_major": 2,
       "version_minor": 0
      },
      "text/plain": [
       "  0%|          | 0/46 [00:00<?, ?it/s]"
      ]
     },
     "metadata": {},
     "output_type": "display_data"
    },
    {
     "data": {
      "application/vnd.jupyter.widget-view+json": {
       "model_id": "d49e22bf59cb49569805a1472be6688b",
       "version_major": 2,
       "version_minor": 0
      },
      "text/plain": [
       "  0%|          | 0/12 [00:00<?, ?it/s]"
      ]
     },
     "metadata": {},
     "output_type": "display_data"
    },
    {
     "name": "stdout",
     "output_type": "stream",
     "text": [
      "Epoch [5], Train Loss : [0.03581] Val Loss : [0.22678] Val F1 : [0.93051]\n"
     ]
    },
    {
     "data": {
      "application/vnd.jupyter.widget-view+json": {
       "model_id": "49c4581d152b46c286f117d7e911cafe",
       "version_major": 2,
       "version_minor": 0
      },
      "text/plain": [
       "  0%|          | 0/46 [00:00<?, ?it/s]"
      ]
     },
     "metadata": {},
     "output_type": "display_data"
    },
    {
     "data": {
      "application/vnd.jupyter.widget-view+json": {
       "model_id": "9a823197da3749b3ab724265a64edab4",
       "version_major": 2,
       "version_minor": 0
      },
      "text/plain": [
       "  0%|          | 0/12 [00:00<?, ?it/s]"
      ]
     },
     "metadata": {},
     "output_type": "display_data"
    },
    {
     "name": "stdout",
     "output_type": "stream",
     "text": [
      "Epoch [6], Train Loss : [0.03723] Val Loss : [0.19630] Val F1 : [0.90734]\n",
      "early stopping count : 0\n"
     ]
    },
    {
     "data": {
      "application/vnd.jupyter.widget-view+json": {
       "model_id": "738743fe70894357af970f4070e74df4",
       "version_major": 2,
       "version_minor": 0
      },
      "text/plain": [
       "  0%|          | 0/46 [00:00<?, ?it/s]"
      ]
     },
     "metadata": {},
     "output_type": "display_data"
    },
    {
     "data": {
      "application/vnd.jupyter.widget-view+json": {
       "model_id": "fecc15fd14ac4593a9a8fbc5278b5a3e",
       "version_major": 2,
       "version_minor": 0
      },
      "text/plain": [
       "  0%|          | 0/12 [00:00<?, ?it/s]"
      ]
     },
     "metadata": {},
     "output_type": "display_data"
    },
    {
     "name": "stdout",
     "output_type": "stream",
     "text": [
      "Epoch [7], Train Loss : [0.02644] Val Loss : [0.20640] Val F1 : [0.89138]\n",
      "early stopping count : 1\n"
     ]
    },
    {
     "data": {
      "application/vnd.jupyter.widget-view+json": {
       "model_id": "ed6c89e30873458987b68f4c0283088f",
       "version_major": 2,
       "version_minor": 0
      },
      "text/plain": [
       "  0%|          | 0/46 [00:00<?, ?it/s]"
      ]
     },
     "metadata": {},
     "output_type": "display_data"
    },
    {
     "data": {
      "application/vnd.jupyter.widget-view+json": {
       "model_id": "67170e1e6b284afa8207d667f735d27b",
       "version_major": 2,
       "version_minor": 0
      },
      "text/plain": [
       "  0%|          | 0/12 [00:00<?, ?it/s]"
      ]
     },
     "metadata": {},
     "output_type": "display_data"
    },
    {
     "name": "stdout",
     "output_type": "stream",
     "text": [
      "Epoch [8], Train Loss : [0.03952] Val Loss : [0.23069] Val F1 : [0.88418]\n",
      "early stopping count : 2\n"
     ]
    },
    {
     "data": {
      "application/vnd.jupyter.widget-view+json": {
       "model_id": "ee8bce52033f42639e295a39644068e3",
       "version_major": 2,
       "version_minor": 0
      },
      "text/plain": [
       "  0%|          | 0/46 [00:00<?, ?it/s]"
      ]
     },
     "metadata": {},
     "output_type": "display_data"
    },
    {
     "data": {
      "application/vnd.jupyter.widget-view+json": {
       "model_id": "2a26c4f00c1d4fabb20b0360c2441f48",
       "version_major": 2,
       "version_minor": 0
      },
      "text/plain": [
       "  0%|          | 0/12 [00:00<?, ?it/s]"
      ]
     },
     "metadata": {},
     "output_type": "display_data"
    },
    {
     "name": "stdout",
     "output_type": "stream",
     "text": [
      "Epoch [9], Train Loss : [0.03727] Val Loss : [0.17233] Val F1 : [0.92278]\n",
      "early stopping count : 3\n"
     ]
    },
    {
     "data": {
      "application/vnd.jupyter.widget-view+json": {
       "model_id": "58a847a569df4a97851995ecc288d6ab",
       "version_major": 2,
       "version_minor": 0
      },
      "text/plain": [
       "  0%|          | 0/46 [00:00<?, ?it/s]"
      ]
     },
     "metadata": {},
     "output_type": "display_data"
    },
    {
     "data": {
      "application/vnd.jupyter.widget-view+json": {
       "model_id": "569d8bd59d38449d97bb6a087949d78c",
       "version_major": 2,
       "version_minor": 0
      },
      "text/plain": [
       "  0%|          | 0/12 [00:00<?, ?it/s]"
      ]
     },
     "metadata": {},
     "output_type": "display_data"
    },
    {
     "name": "stdout",
     "output_type": "stream",
     "text": [
      "Epoch [10], Train Loss : [0.01641] Val Loss : [0.33616] Val F1 : [0.84851]\n",
      "early stopping count : 4\n"
     ]
    },
    {
     "data": {
      "application/vnd.jupyter.widget-view+json": {
       "model_id": "29f037e710ba43e2897718dc216756c8",
       "version_major": 2,
       "version_minor": 0
      },
      "text/plain": [
       "  0%|          | 0/46 [00:00<?, ?it/s]"
      ]
     },
     "metadata": {},
     "output_type": "display_data"
    },
    {
     "data": {
      "application/vnd.jupyter.widget-view+json": {
       "model_id": "af9412d2c5de4796bfd051ff529c2d41",
       "version_major": 2,
       "version_minor": 0
      },
      "text/plain": [
       "  0%|          | 0/12 [00:00<?, ?it/s]"
      ]
     },
     "metadata": {},
     "output_type": "display_data"
    },
    {
     "name": "stdout",
     "output_type": "stream",
     "text": [
      "Epoch [11], Train Loss : [0.03121] Val Loss : [0.35439] Val F1 : [0.65756]\n",
      "early stopping count : 5\n"
     ]
    },
    {
     "data": {
      "application/vnd.jupyter.widget-view+json": {
       "model_id": "ae393c8eb27e4229bb582b87562ce060",
       "version_major": 2,
       "version_minor": 0
      },
      "text/plain": [
       "  0%|          | 0/46 [00:00<?, ?it/s]"
      ]
     },
     "metadata": {},
     "output_type": "display_data"
    },
    {
     "data": {
      "application/vnd.jupyter.widget-view+json": {
       "model_id": "112f46fc02c649fb90a429f2cf778368",
       "version_major": 2,
       "version_minor": 0
      },
      "text/plain": [
       "  0%|          | 0/12 [00:00<?, ?it/s]"
      ]
     },
     "metadata": {},
     "output_type": "display_data"
    },
    {
     "name": "stdout",
     "output_type": "stream",
     "text": [
      "Epoch [12], Train Loss : [0.05334] Val Loss : [0.14358] Val F1 : [0.94109]\n"
     ]
    },
    {
     "data": {
      "application/vnd.jupyter.widget-view+json": {
       "model_id": "0d01c63e74f2463d99a53172cb12f2fd",
       "version_major": 2,
       "version_minor": 0
      },
      "text/plain": [
       "  0%|          | 0/46 [00:00<?, ?it/s]"
      ]
     },
     "metadata": {},
     "output_type": "display_data"
    },
    {
     "data": {
      "application/vnd.jupyter.widget-view+json": {
       "model_id": "f71f9faa6a6c433abad0e28c18ff7f03",
       "version_major": 2,
       "version_minor": 0
      },
      "text/plain": [
       "  0%|          | 0/12 [00:00<?, ?it/s]"
      ]
     },
     "metadata": {},
     "output_type": "display_data"
    },
    {
     "name": "stdout",
     "output_type": "stream",
     "text": [
      "Epoch [13], Train Loss : [0.01485] Val Loss : [0.16036] Val F1 : [0.91034]\n",
      "early stopping count : 0\n"
     ]
    },
    {
     "data": {
      "application/vnd.jupyter.widget-view+json": {
       "model_id": "8e23fed98e434a5781dd4859ffd2c0df",
       "version_major": 2,
       "version_minor": 0
      },
      "text/plain": [
       "  0%|          | 0/46 [00:00<?, ?it/s]"
      ]
     },
     "metadata": {},
     "output_type": "display_data"
    },
    {
     "data": {
      "application/vnd.jupyter.widget-view+json": {
       "model_id": "571f855f71d845a1859081abf2cc456d",
       "version_major": 2,
       "version_minor": 0
      },
      "text/plain": [
       "  0%|          | 0/12 [00:00<?, ?it/s]"
      ]
     },
     "metadata": {},
     "output_type": "display_data"
    },
    {
     "name": "stdout",
     "output_type": "stream",
     "text": [
      "Epoch [14], Train Loss : [0.01164] Val Loss : [0.22674] Val F1 : [0.91753]\n",
      "early stopping count : 1\n"
     ]
    },
    {
     "data": {
      "application/vnd.jupyter.widget-view+json": {
       "model_id": "2aa2afc66b0b4edaa24230915090fedf",
       "version_major": 2,
       "version_minor": 0
      },
      "text/plain": [
       "  0%|          | 0/46 [00:00<?, ?it/s]"
      ]
     },
     "metadata": {},
     "output_type": "display_data"
    },
    {
     "data": {
      "application/vnd.jupyter.widget-view+json": {
       "model_id": "b6c63d5b73444a429233eb607b576188",
       "version_major": 2,
       "version_minor": 0
      },
      "text/plain": [
       "  0%|          | 0/12 [00:00<?, ?it/s]"
      ]
     },
     "metadata": {},
     "output_type": "display_data"
    },
    {
     "name": "stdout",
     "output_type": "stream",
     "text": [
      "Epoch [15], Train Loss : [0.00290] Val Loss : [0.20531] Val F1 : [0.91753]\n",
      "early stopping count : 2\n"
     ]
    },
    {
     "data": {
      "application/vnd.jupyter.widget-view+json": {
       "model_id": "a3b288145797467c984d4cf24921cb3e",
       "version_major": 2,
       "version_minor": 0
      },
      "text/plain": [
       "  0%|          | 0/46 [00:00<?, ?it/s]"
      ]
     },
     "metadata": {},
     "output_type": "display_data"
    },
    {
     "data": {
      "application/vnd.jupyter.widget-view+json": {
       "model_id": "bc5b7aeaa68b4059aacc7a8f6c0ab7c7",
       "version_major": 2,
       "version_minor": 0
      },
      "text/plain": [
       "  0%|          | 0/12 [00:00<?, ?it/s]"
      ]
     },
     "metadata": {},
     "output_type": "display_data"
    },
    {
     "name": "stdout",
     "output_type": "stream",
     "text": [
      "Epoch [16], Train Loss : [0.00148] Val Loss : [0.19840] Val F1 : [0.91753]\n",
      "early stopping count : 3\n"
     ]
    },
    {
     "data": {
      "application/vnd.jupyter.widget-view+json": {
       "model_id": "0482c76ec52a40b88b77c9bcaf5bd92b",
       "version_major": 2,
       "version_minor": 0
      },
      "text/plain": [
       "  0%|          | 0/46 [00:00<?, ?it/s]"
      ]
     },
     "metadata": {},
     "output_type": "display_data"
    },
    {
     "data": {
      "application/vnd.jupyter.widget-view+json": {
       "model_id": "d72533ec56f741d98e11aada9a5e3c80",
       "version_major": 2,
       "version_minor": 0
      },
      "text/plain": [
       "  0%|          | 0/12 [00:00<?, ?it/s]"
      ]
     },
     "metadata": {},
     "output_type": "display_data"
    },
    {
     "name": "stdout",
     "output_type": "stream",
     "text": [
      "Epoch [17], Train Loss : [0.00110] Val Loss : [0.21999] Val F1 : [0.91753]\n",
      "early stopping count : 4\n"
     ]
    },
    {
     "data": {
      "application/vnd.jupyter.widget-view+json": {
       "model_id": "c47d97f30c1c4932956fc0356d6bd7ef",
       "version_major": 2,
       "version_minor": 0
      },
      "text/plain": [
       "  0%|          | 0/46 [00:00<?, ?it/s]"
      ]
     },
     "metadata": {},
     "output_type": "display_data"
    },
    {
     "data": {
      "application/vnd.jupyter.widget-view+json": {
       "model_id": "b4d7b1509140491db2258df4fa733ec2",
       "version_major": 2,
       "version_minor": 0
      },
      "text/plain": [
       "  0%|          | 0/12 [00:00<?, ?it/s]"
      ]
     },
     "metadata": {},
     "output_type": "display_data"
    },
    {
     "name": "stdout",
     "output_type": "stream",
     "text": [
      "Epoch [18], Train Loss : [0.00082] Val Loss : [0.20652] Val F1 : [0.91753]\n",
      "early stopping count : 5\n"
     ]
    },
    {
     "data": {
      "application/vnd.jupyter.widget-view+json": {
       "model_id": "9420010fd8b94b3bb5e1accb8550aabe",
       "version_major": 2,
       "version_minor": 0
      },
      "text/plain": [
       "  0%|          | 0/46 [00:00<?, ?it/s]"
      ]
     },
     "metadata": {},
     "output_type": "display_data"
    },
    {
     "data": {
      "application/vnd.jupyter.widget-view+json": {
       "model_id": "3a082a651c944628bb396fa124332863",
       "version_major": 2,
       "version_minor": 0
      },
      "text/plain": [
       "  0%|          | 0/12 [00:00<?, ?it/s]"
      ]
     },
     "metadata": {},
     "output_type": "display_data"
    },
    {
     "name": "stdout",
     "output_type": "stream",
     "text": [
      "Epoch [19], Train Loss : [0.00092] Val Loss : [0.22992] Val F1 : [0.91753]\n",
      "early stopping count : 6\n"
     ]
    },
    {
     "data": {
      "application/vnd.jupyter.widget-view+json": {
       "model_id": "9fc0a97271524559a9692fa6cff19d0f",
       "version_major": 2,
       "version_minor": 0
      },
      "text/plain": [
       "  0%|          | 0/46 [00:00<?, ?it/s]"
      ]
     },
     "metadata": {},
     "output_type": "display_data"
    },
    {
     "data": {
      "application/vnd.jupyter.widget-view+json": {
       "model_id": "b0e9499391154d68879f6a3b336f16c8",
       "version_major": 2,
       "version_minor": 0
      },
      "text/plain": [
       "  0%|          | 0/12 [00:00<?, ?it/s]"
      ]
     },
     "metadata": {},
     "output_type": "display_data"
    },
    {
     "name": "stdout",
     "output_type": "stream",
     "text": [
      "Epoch [20], Train Loss : [0.00044] Val Loss : [0.22145] Val F1 : [0.91753]\n",
      "early stopping count : 7\n"
     ]
    },
    {
     "data": {
      "application/vnd.jupyter.widget-view+json": {
       "model_id": "ec693a474ec74f8eb9f6c01b5d63b566",
       "version_major": 2,
       "version_minor": 0
      },
      "text/plain": [
       "  0%|          | 0/46 [00:00<?, ?it/s]"
      ]
     },
     "metadata": {},
     "output_type": "display_data"
    },
    {
     "data": {
      "application/vnd.jupyter.widget-view+json": {
       "model_id": "4e5ab9ddd06545d68a81e652ae7d3142",
       "version_major": 2,
       "version_minor": 0
      },
      "text/plain": [
       "  0%|          | 0/12 [00:00<?, ?it/s]"
      ]
     },
     "metadata": {},
     "output_type": "display_data"
    },
    {
     "name": "stdout",
     "output_type": "stream",
     "text": [
      "Epoch [21], Train Loss : [0.00050] Val Loss : [0.23150] Val F1 : [0.91753]\n",
      "early stopping count : 8\n"
     ]
    },
    {
     "data": {
      "application/vnd.jupyter.widget-view+json": {
       "model_id": "6f6a5605a6d34b47b3d45836f211820f",
       "version_major": 2,
       "version_minor": 0
      },
      "text/plain": [
       "  0%|          | 0/46 [00:00<?, ?it/s]"
      ]
     },
     "metadata": {},
     "output_type": "display_data"
    },
    {
     "data": {
      "application/vnd.jupyter.widget-view+json": {
       "model_id": "4c0f4edd014445fb9178bc84575b11d5",
       "version_major": 2,
       "version_minor": 0
      },
      "text/plain": [
       "  0%|          | 0/12 [00:00<?, ?it/s]"
      ]
     },
     "metadata": {},
     "output_type": "display_data"
    },
    {
     "name": "stdout",
     "output_type": "stream",
     "text": [
      "Epoch [22], Train Loss : [0.00029] Val Loss : [0.22866] Val F1 : [0.91753]\n",
      "early stopping count : 9\n",
      "early stopping done\n"
     ]
    }
   ],
   "source": [
    "model_crush = BaseModel(num_classes=2, fc_type='shallow')\n",
    "model_ego = BaseModel(num_classes=2, fc_type='shallow')\n",
    "model_weather = BaseModel(num_classes=3, fc_type='shallow', binary=False)\n",
    "model_timing = BaseModel(num_classes=2, fc_type='shallow')\n",
    "models=[model_crush, model_ego, model_weather, model_timing]\n",
    "name=[\"crush\", \"ego\", \"weather\", \"timing\"]\n",
    "#i=0\n",
    "for i in range(4):\n",
    "    model=models[i]\n",
    "    model.eval()\n",
    "    optimizer = torch.optim.Adam(params = model.parameters(), lr = CFG.lr)\n",
    "    scheduler = torch.optim.lr_scheduler.CosineAnnealingWarmRestarts(optimizer, T_0=10, T_mult=2, eta_min=0.00001)\n",
    "    if i == 2: #weather\n",
    "        criterion=nn.CrossEntropyLoss\n",
    "        print(\"mutli-classification\")\n",
    "    else:\n",
    "        criterion=nn.CrossEntropyLoss #여기 튜닝 고민 해봐야 할듯\n",
    "        print(\"binary-classification\")\n",
    "    print(\"{}th model run\".format(i))\n",
    "    print(\"_\"*100)\n",
    "    infer_model = train(model, criterion, optimizer, train_loaders[i], val_loaders[i], scheduler, device)\n",
    "    torch.save(infer_model.state_dict(), './weights/r3d_per_label_{}_Transform.pt'.format(name[i]))\n",
    "\n",
    "    del infer_model"
   ]
  },
  {
   "cell_type": "markdown",
   "id": "d32efed9-ec88-40fc-83d2-e995e48c372a",
   "metadata": {},
   "source": [
    "## Inference"
   ]
  },
  {
   "cell_type": "code",
   "execution_count": 39,
   "id": "0498feef-9ca7-42ea-b73a-51a06dd4c684",
   "metadata": {},
   "outputs": [],
   "source": [
    "test = pd.read_csv('./test.csv')"
   ]
  },
  {
   "cell_type": "code",
   "execution_count": 40,
   "id": "a1bc676a-5216-4e1a-ac2c-3e940e8a3909",
   "metadata": {},
   "outputs": [],
   "source": [
    "test_dataset = CustomDataset(test['video_path'].values, None, transforms=test_transforms)\n",
    "test_loader = DataLoader(test_dataset, batch_size = CFG.batch_size, shuffle=False, num_workers=0)"
   ]
  },
  {
   "cell_type": "code",
   "execution_count": 41,
   "id": "acc072b1-3749-4a0a-8c3b-80ef39a2fd56",
   "metadata": {},
   "outputs": [],
   "source": [
    "def inference(model, test_loader, device):\n",
    "    model.to(device)\n",
    "    model.eval()\n",
    "    preds = []\n",
    "    with torch.no_grad():\n",
    "        for videos in tqdm(iter(test_loader)):\n",
    "            videos = videos.to(device)\n",
    "            \n",
    "            logit = model(videos)\n",
    "\n",
    "            preds += logit.argmax(1).detach().cpu().numpy().tolist()\n",
    "    return preds"
   ]
  },
  {
   "cell_type": "code",
   "execution_count": 42,
   "id": "9fcce1a1-995c-403b-9229-f4253dd5c702",
   "metadata": {
    "scrolled": true
   },
   "outputs": [
    {
     "data": {
      "application/vnd.jupyter.widget-view+json": {
       "model_id": "689c39a5f5124d9fbfeed66cd3413f2e",
       "version_major": 2,
       "version_minor": 0
      },
      "text/plain": [
       "  0%|          | 0/113 [00:00<?, ?it/s]"
      ]
     },
     "metadata": {},
     "output_type": "display_data"
    },
    {
     "data": {
      "application/vnd.jupyter.widget-view+json": {
       "model_id": "4287941f987a461c93813a339d2d943c",
       "version_major": 2,
       "version_minor": 0
      },
      "text/plain": [
       "  0%|          | 0/113 [00:00<?, ?it/s]"
      ]
     },
     "metadata": {},
     "output_type": "display_data"
    },
    {
     "data": {
      "application/vnd.jupyter.widget-view+json": {
       "model_id": "9898e9f6103948c79fe998a8f294086b",
       "version_major": 2,
       "version_minor": 0
      },
      "text/plain": [
       "  0%|          | 0/113 [00:00<?, ?it/s]"
      ]
     },
     "metadata": {},
     "output_type": "display_data"
    },
    {
     "data": {
      "application/vnd.jupyter.widget-view+json": {
       "model_id": "9f1a4b1136a945b3935cb0ff73c79f1a",
       "version_major": 2,
       "version_minor": 0
      },
      "text/plain": [
       "  0%|          | 0/113 [00:00<?, ?it/s]"
      ]
     },
     "metadata": {},
     "output_type": "display_data"
    }
   ],
   "source": [
    "i=0\n",
    "from collections import OrderedDict\n",
    "\n",
    "model_crush = BaseModel(num_classes=2, fc_type='shallow')\n",
    "model_ego = BaseModel(num_classes=2, fc_type='shallow')\n",
    "model_weather = BaseModel(num_classes=3, fc_type='shallow')\n",
    "model_timing = BaseModel(num_classes=2, fc_type='shallow')\n",
    "models=[model_crush, model_ego, model_weather, model_timing]\n",
    "pred_tot=[]\n",
    "\n",
    "for model in models:\n",
    "    path='./weights/r3d_per_label_{}_Transform.pt'.format(name[i])\n",
    "    state_dict=torch.load(path)\n",
    "    keys = state_dict.keys()\n",
    "\n",
    "    values = state_dict.values()\n",
    "    \n",
    "    new_keys = []\n",
    "    \n",
    "    for key in keys:\n",
    "        new_key = key[7:]    # remove the 'module.'\n",
    "        new_keys.append(new_key)\n",
    "    \n",
    "    new_dict = OrderedDict(list(zip(new_keys, values)))\n",
    "    \n",
    "    model.load_state_dict(new_dict)\n",
    "    preds = inference(model, test_loader, device)\n",
    "    pred_tot.append(preds)\n",
    "    i+=1\n",
    "    del model"
   ]
  },
  {
   "cell_type": "markdown",
   "id": "370e5a18-de28-4c3d-a33b-77d4797911eb",
   "metadata": {},
   "source": [
    "## Submission"
   ]
  },
  {
   "cell_type": "code",
   "execution_count": 52,
   "id": "95107b25-7d4b-423f-90ce-849c6f4a46c0",
   "metadata": {},
   "outputs": [],
   "source": [
    "submit = pd.read_csv('./sample_submission.csv')"
   ]
  },
  {
   "cell_type": "code",
   "execution_count": 53,
   "id": "c7d82083-af35-4ba5-957d-1c7451404eab",
   "metadata": {
    "scrolled": true
   },
   "outputs": [
    {
     "data": {
      "text/html": [
       "<div>\n",
       "<style scoped>\n",
       "    .dataframe tbody tr th:only-of-type {\n",
       "        vertical-align: middle;\n",
       "    }\n",
       "\n",
       "    .dataframe tbody tr th {\n",
       "        vertical-align: top;\n",
       "    }\n",
       "\n",
       "    .dataframe thead th {\n",
       "        text-align: right;\n",
       "    }\n",
       "</style>\n",
       "<table border=\"1\" class=\"dataframe\">\n",
       "  <thead>\n",
       "    <tr style=\"text-align: right;\">\n",
       "      <th></th>\n",
       "      <th>sample_id</th>\n",
       "      <th>label</th>\n",
       "      <th>crush</th>\n",
       "      <th>ego</th>\n",
       "      <th>weather</th>\n",
       "      <th>timing</th>\n",
       "    </tr>\n",
       "  </thead>\n",
       "  <tbody>\n",
       "    <tr>\n",
       "      <th>0</th>\n",
       "      <td>TEST_0000</td>\n",
       "      <td>-1</td>\n",
       "      <td>0</td>\n",
       "      <td>0</td>\n",
       "      <td>0</td>\n",
       "      <td>1</td>\n",
       "    </tr>\n",
       "    <tr>\n",
       "      <th>1</th>\n",
       "      <td>TEST_0001</td>\n",
       "      <td>-1</td>\n",
       "      <td>0</td>\n",
       "      <td>0</td>\n",
       "      <td>0</td>\n",
       "      <td>1</td>\n",
       "    </tr>\n",
       "    <tr>\n",
       "      <th>2</th>\n",
       "      <td>TEST_0002</td>\n",
       "      <td>-1</td>\n",
       "      <td>0</td>\n",
       "      <td>0</td>\n",
       "      <td>0</td>\n",
       "      <td>0</td>\n",
       "    </tr>\n",
       "    <tr>\n",
       "      <th>3</th>\n",
       "      <td>TEST_0003</td>\n",
       "      <td>-1</td>\n",
       "      <td>0</td>\n",
       "      <td>1</td>\n",
       "      <td>0</td>\n",
       "      <td>1</td>\n",
       "    </tr>\n",
       "    <tr>\n",
       "      <th>4</th>\n",
       "      <td>TEST_0004</td>\n",
       "      <td>-1</td>\n",
       "      <td>0</td>\n",
       "      <td>0</td>\n",
       "      <td>0</td>\n",
       "      <td>0</td>\n",
       "    </tr>\n",
       "  </tbody>\n",
       "</table>\n",
       "</div>"
      ],
      "text/plain": [
       "   sample_id  label  crush  ego  weather  timing\n",
       "0  TEST_0000     -1      0    0        0       1\n",
       "1  TEST_0001     -1      0    0        0       1\n",
       "2  TEST_0002     -1      0    0        0       0\n",
       "3  TEST_0003     -1      0    1        0       1\n",
       "4  TEST_0004     -1      0    0        0       0"
      ]
     },
     "execution_count": 53,
     "metadata": {},
     "output_type": "execute_result"
    }
   ],
   "source": [
    "submit['crush'] = pred_tot[0]\n",
    "submit['ego'] = pred_tot[1]\n",
    "submit['weather'] = pred_tot[2]\n",
    "submit['timing'] = pred_tot[3]\n",
    "submit['label']=-1\n",
    "submit.head()"
   ]
  },
  {
   "cell_type": "code",
   "execution_count": 54,
   "id": "d0b61179",
   "metadata": {},
   "outputs": [
    {
     "data": {
      "text/plain": [
       "0    1226\n",
       "1     574\n",
       "Name: crush, dtype: int64"
      ]
     },
     "execution_count": 54,
     "metadata": {},
     "output_type": "execute_result"
    }
   ],
   "source": [
    "submit[\"crush\"].value_counts(dropna=False).sort_index()"
   ]
  },
  {
   "cell_type": "code",
   "execution_count": 55,
   "id": "2aac5232",
   "metadata": {},
   "outputs": [
    {
     "data": {
      "text/plain": [
       "0    1360\n",
       "1     440\n",
       "Name: ego, dtype: int64"
      ]
     },
     "execution_count": 55,
     "metadata": {},
     "output_type": "execute_result"
    }
   ],
   "source": [
    "submit[\"ego\"].value_counts(dropna=False).sort_index()"
   ]
  },
  {
   "cell_type": "code",
   "execution_count": 56,
   "id": "6e9fb62b",
   "metadata": {},
   "outputs": [
    {
     "data": {
      "text/plain": [
       "0    1408\n",
       "1     262\n",
       "2     130\n",
       "Name: weather, dtype: int64"
      ]
     },
     "execution_count": 56,
     "metadata": {},
     "output_type": "execute_result"
    }
   ],
   "source": [
    "submit[\"weather\"].value_counts(dropna=False).sort_index()"
   ]
  },
  {
   "cell_type": "code",
   "execution_count": 57,
   "id": "7c20a930",
   "metadata": {},
   "outputs": [
    {
     "data": {
      "text/plain": [
       "0    1163\n",
       "1     637\n",
       "Name: timing, dtype: int64"
      ]
     },
     "execution_count": 57,
     "metadata": {},
     "output_type": "execute_result"
    }
   ],
   "source": [
    "submit[\"timing\"].value_counts(dropna=False).sort_index()"
   ]
  },
  {
   "cell_type": "code",
   "execution_count": 58,
   "id": "cfca19a6",
   "metadata": {},
   "outputs": [],
   "source": [
    "#label ensemble\n",
    "for i, row in submit.iterrows():\n",
    "    #print(i)\n",
    "    if row['crush']==0: # 0\n",
    "        submit['label'][i]=0 \n",
    "    else:\n",
    "        if row['ego']==1: # 1~6\n",
    "            if row['weather']==0: #1,2\n",
    "                if row['timing']==0:\n",
    "                    submit['label'][i]=1\n",
    "                else:\n",
    "                    submit['label'][i]=2\n",
    "                    \n",
    "            elif row['weather']==1:# 3,4\n",
    "                if row['timing']==0:\n",
    "                    submit['label'][i]=3\n",
    "                else:\n",
    "                    submit['label'][i]=4\n",
    "            else:\n",
    "                if row['timing']==0:# 5,6\n",
    "                    submit['label'][i]=5\n",
    "                else:\n",
    "                    submit['label'][i]=6\n",
    "\n",
    "        else: # 7~12\n",
    "            if row['weather']==0: #7,8\n",
    "                if row['timing']==0:\n",
    "                    submit['label'][i]=7\n",
    "                else:\n",
    "                    submit['label'][i]=8\n",
    "                    \n",
    "            elif row['weather']==1:# 9,10\n",
    "                if row['timing']==0:\n",
    "                    submit['label'][i]=9\n",
    "                else:\n",
    "                    submit['label'][i]=10\n",
    "            else:\n",
    "                if row['timing']==0:# 11,12\n",
    "                    submit['label'][i]=11\n",
    "                else:\n",
    "                    submit['label'][i]=12\n",
    "    if submit['label'][i]==-1:\n",
    "        print(row['crush'], row['ego'], row['weather'], row['timing'])\n",
    "#라벨 추가했으니 필요없는 열 이제 삭제\n",
    "submit = submit.drop(['crush'],axis=1)\n",
    "submit = submit.drop(['ego'],axis=1)\n",
    "submit = submit.drop(['weather'],axis=1)\n",
    "submit = submit.drop(['timing'],axis=1)"
   ]
  },
  {
   "cell_type": "code",
   "execution_count": 59,
   "id": "dd24b98d-1ac7-46df-a833-16d4cb57ac04",
   "metadata": {},
   "outputs": [],
   "source": [
    "submit.to_csv('./r3d_labelEnsemble_withTr_submit.csv', index=False)"
   ]
  },
  {
   "cell_type": "code",
   "execution_count": 60,
   "id": "4ea43715",
   "metadata": {
    "scrolled": false
   },
   "outputs": [
    {
     "data": {
      "text/plain": [
       "0     1226\n",
       "1      171\n",
       "2       26\n",
       "3       86\n",
       "4        5\n",
       "5        7\n",
       "7      184\n",
       "8       22\n",
       "9       47\n",
       "11      25\n",
       "12       1\n",
       "Name: label, dtype: int64"
      ]
     },
     "execution_count": 60,
     "metadata": {},
     "output_type": "execute_result"
    }
   ],
   "source": [
    "submit[\"label\"].value_counts(dropna=False).sort_index()"
   ]
  },
  {
   "cell_type": "code",
   "execution_count": 37,
   "id": "c55f9d5f",
   "metadata": {},
   "outputs": [],
   "source": [
    "#2 7 8 없다"
   ]
  }
 ],
 "metadata": {
  "kernelspec": {
   "display_name": "Python 3 (ipykernel)",
   "language": "python",
   "name": "python3"
  },
  "language_info": {
   "codemirror_mode": {
    "name": "ipython",
    "version": 3
   },
   "file_extension": ".py",
   "mimetype": "text/x-python",
   "name": "python",
   "nbconvert_exporter": "python",
   "pygments_lexer": "ipython3",
   "version": "3.7.11"
  },
  "vscode": {
   "interpreter": {
    "hash": "d4d1e4263499bec80672ea0156c357c1ee493ec2b1c70f0acce89fc37c4a6abe"
   }
  }
 },
 "nbformat": 4,
 "nbformat_minor": 5
}
