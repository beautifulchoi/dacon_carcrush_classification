{
 "cells": [
  {
   "cell_type": "markdown",
   "id": "a2bcba5f-002e-4f49-9622-ada6117faf0a",
   "metadata": {},
   "source": [
    "## Import"
   ]
  },
  {
   "cell_type": "code",
   "execution_count": 2,
   "id": "2b0d9b68-7102-4eca-9543-3b9b8acafc6e",
   "metadata": {},
   "outputs": [],
   "source": [
    "import random\n",
    "import pandas as pd\n",
    "import numpy as np\n",
    "import os\n",
    "import cv2\n",
    "\n",
    "import torch\n",
    "import torch.nn as nn\n",
    "import torch.optim as optim\n",
    "import torch.nn.functional as F\n",
    "from torch.utils.data import Dataset, DataLoader\n",
    "\n",
    "import albumentations as A\n",
    "from albumentations.pytorch.transforms import ToTensorV2\n",
    "import torchvision.models as models\n",
    "\n",
    "from tqdm.auto import tqdm\n",
    "from sklearn.model_selection import train_test_split\n",
    "from sklearn.metrics import f1_score\n",
    "\n",
    "import timm\n",
    "from torchvision.models import video\n",
    "import time\n",
    "\n",
    "import warnings\n",
    "warnings.filterwarnings(action='ignore') "
   ]
  },
  {
   "cell_type": "code",
   "execution_count": 3,
   "id": "d13862e3-bb27-47af-9b58-a9fbf804df71",
   "metadata": {},
   "outputs": [],
   "source": [
    "device = torch.device('cuda') if torch.cuda.is_available() else torch.device('cpu')"
   ]
  },
  {
   "cell_type": "markdown",
   "id": "fc7df3f2-62d0-4499-a46e-47d01699def0",
   "metadata": {},
   "source": [
    "## Hyperparameter Setting"
   ]
  },
  {
   "cell_type": "code",
   "execution_count": 4,
   "id": "c3367399-9798-4e38-967b-fd2320b9a2b2",
   "metadata": {},
   "outputs": [],
   "source": [
    "class CFG:\n",
    "    model_name= \"s3d\"\n",
    "    n_folds = 5\n",
    "    n_classes = 13\n",
    "    video_length=50\n",
    "    img_size=256\n",
    "    epochs=50\n",
    "    lr=3e-4\n",
    "    batch_size=16\n",
    "    seed=41\n",
    "        "
   ]
  },
  {
   "cell_type": "markdown",
   "id": "4254e860-ff82-43ba-bfa3-fcee4eb3ddbd",
   "metadata": {},
   "source": [
    "## Fixed RandomSeed"
   ]
  },
  {
   "cell_type": "code",
   "execution_count": 5,
   "id": "101a714b-71b6-4475-a4ce-fa5f98bc2731",
   "metadata": {},
   "outputs": [],
   "source": [
    "def seed_everything(seed):\n",
    "    random.seed(seed)\n",
    "    os.environ['PYTHONHASHSEED'] = str(seed)\n",
    "    np.random.seed(seed)\n",
    "    torch.manual_seed(seed)\n",
    "    torch.cuda.manual_seed(seed)\n",
    "    torch.backends.cudnn.deterministic = True\n",
    "    torch.backends.cudnn.benchmark = True\n",
    "\n",
    "seed_everything(CFG.seed) # Seed 고정"
   ]
  },
  {
   "cell_type": "markdown",
   "id": "05a4172e-5791-446f-9616-35c09d8bf25a",
   "metadata": {},
   "source": [
    "## Data Load"
   ]
  },
  {
   "cell_type": "code",
   "execution_count": 6,
   "id": "a62c78cd-4f40-4e98-b8a6-1b6f1d906b4d",
   "metadata": {},
   "outputs": [],
   "source": [
    "df = pd.read_csv('./train.csv')"
   ]
  },
  {
   "cell_type": "markdown",
   "id": "0380b40a-f540-4225-8ffc-50059fd28a2c",
   "metadata": {},
   "source": [
    "## Train / Validation Split"
   ]
  },
  {
   "cell_type": "code",
   "execution_count": 7,
   "id": "e6264d0c-597c-42ac-9f3a-7189a5883028",
   "metadata": {},
   "outputs": [],
   "source": [
    "train, val, _, _ = train_test_split(df, df['label'], test_size=0.2, random_state=CFG.seed)"
   ]
  },
  {
   "cell_type": "markdown",
   "id": "ac27ed36-8031-47a7-bd0d-a913513f2e8e",
   "metadata": {},
   "source": [
    "## CustomDataset"
   ]
  },
  {
   "cell_type": "code",
   "execution_count": 8,
   "id": "16fd60a5-24e2-4539-bfd0-1c374a641699",
   "metadata": {},
   "outputs": [],
   "source": [
    "class CustomDataset(Dataset):\n",
    "    def __init__(self, video_path_list, label_list):\n",
    "        self.video_path_list = video_path_list\n",
    "        self.label_list = label_list\n",
    "        \n",
    "    def __getitem__(self, index):\n",
    "        frames = self.get_video(self.video_path_list[index])\n",
    "        \n",
    "        if self.label_list is not None:\n",
    "            label = self.label_list[index]\n",
    "            return frames, label\n",
    "        else:\n",
    "            return frames\n",
    "        \n",
    "    def __len__(self):\n",
    "        return len(self.video_path_list)\n",
    "    \n",
    "    def get_video(self, path):\n",
    "        frames = []\n",
    "        cap = cv2.VideoCapture(path)\n",
    "        for _ in range(CFG.video_length):\n",
    "            _, img = cap.read()\n",
    "            img = cv2.resize(img, (CFG.img_size, CFG.img_size))\n",
    "            img = img / 255.\n",
    "            frames.append(img)\n",
    "        return torch.FloatTensor(np.array(frames)).permute(3, 0, 1, 2)"
   ]
  },
  {
   "cell_type": "code",
   "execution_count": 9,
   "id": "9d880481-1965-499d-9caa-fdfa8526f789",
   "metadata": {},
   "outputs": [],
   "source": [
    "train_dataset = CustomDataset(train['video_path'].values, train['label'].values)\n",
    "train_loader = DataLoader(train_dataset, batch_size = CFG.batch_size, shuffle=True, num_workers=0)\n",
    "\n",
    "val_dataset = CustomDataset(val['video_path'].values, val['label'].values)\n",
    "val_loader = DataLoader(val_dataset, batch_size = CFG.batch_size, shuffle=False, num_workers=0)"
   ]
  },
  {
   "cell_type": "markdown",
   "id": "39962463-032f-490a-a76d-c03991795f38",
   "metadata": {},
   "source": [
    "## Model Define"
   ]
  },
  {
   "cell_type": "code",
   "execution_count": 30,
   "id": "903fe81e",
   "metadata": {},
   "outputs": [],
   "source": [
    "class BaseModel(nn.Module):\n",
    "    def __init__(self, num_classes=CFG.n_classes, fc_type='shallow'):\n",
    "        super(BaseModel, self).__init__()\n",
    "        self.fc_type=fc_type\n",
    "        self.num_classes=num_classes\n",
    "        \n",
    "        #get backbone\n",
    "        self.backbone=getattr(video,CFG.model_name)(pretrained=True)\n",
    "        #self.fc=self.get_fc()\n",
    "        \n",
    "        self.backbone.classifier[1]=nn.Conv3d(1024, 13, kernel_size=(1, 1, 1), stride=(1, 1, 1))\n",
    "        \n",
    "    def get_fc(self):\n",
    "        \n",
    "        if self.fc_type == 'shallow':\n",
    "            fc = nn.Linear(400, self.num_classes)\n",
    "            \n",
    "        else:\n",
    "            raise ValueError(f\"Wrong fc-type input {self.fc_type}\")\n",
    "        return fc\n",
    "    \n",
    "    def forward(self, x):\n",
    "        x = self.backbone(x)\n",
    "        #x= self.fc(x)\n",
    "        \n",
    "        return x"
   ]
  },
  {
   "cell_type": "code",
   "execution_count": 29,
   "id": "e4a0f76c",
   "metadata": {
    "scrolled": true
   },
   "outputs": [
    {
     "name": "stdout",
     "output_type": "stream",
     "text": [
      "----------------------------------------------------------------\n",
      "        Layer (type)               Output Shape         Param #\n",
      "================================================================\n",
      "            Conv3d-1     [-1, 64, 50, 128, 128]           9,408\n",
      "       BatchNorm3d-2     [-1, 64, 50, 128, 128]             128\n",
      "              ReLU-3     [-1, 64, 50, 128, 128]               0\n",
      "            Conv3d-4     [-1, 64, 25, 128, 128]          28,672\n",
      "       BatchNorm3d-5     [-1, 64, 25, 128, 128]             128\n",
      "              ReLU-6     [-1, 64, 25, 128, 128]               0\n",
      "         MaxPool3d-7       [-1, 64, 25, 64, 64]               0\n",
      "            Conv3d-8       [-1, 64, 25, 64, 64]           4,096\n",
      "       BatchNorm3d-9       [-1, 64, 25, 64, 64]             128\n",
      "             ReLU-10       [-1, 64, 25, 64, 64]               0\n",
      "           Conv3d-11      [-1, 192, 25, 64, 64]         110,592\n",
      "      BatchNorm3d-12      [-1, 192, 25, 64, 64]             384\n",
      "             ReLU-13      [-1, 192, 25, 64, 64]               0\n",
      "           Conv3d-14      [-1, 192, 25, 64, 64]         110,592\n",
      "      BatchNorm3d-15      [-1, 192, 25, 64, 64]             384\n",
      "             ReLU-16      [-1, 192, 25, 64, 64]               0\n",
      "        MaxPool3d-17      [-1, 192, 25, 32, 32]               0\n",
      "           Conv3d-18       [-1, 64, 25, 32, 32]          12,288\n",
      "      BatchNorm3d-19       [-1, 64, 25, 32, 32]             128\n",
      "             ReLU-20       [-1, 64, 25, 32, 32]               0\n",
      "           Conv3d-21       [-1, 96, 25, 32, 32]          18,432\n",
      "      BatchNorm3d-22       [-1, 96, 25, 32, 32]             192\n",
      "             ReLU-23       [-1, 96, 25, 32, 32]               0\n",
      "           Conv3d-24      [-1, 128, 25, 32, 32]         110,592\n",
      "      BatchNorm3d-25      [-1, 128, 25, 32, 32]             256\n",
      "             ReLU-26      [-1, 128, 25, 32, 32]               0\n",
      "           Conv3d-27      [-1, 128, 25, 32, 32]          49,152\n",
      "      BatchNorm3d-28      [-1, 128, 25, 32, 32]             256\n",
      "             ReLU-29      [-1, 128, 25, 32, 32]               0\n",
      "           Conv3d-30       [-1, 16, 25, 32, 32]           3,072\n",
      "      BatchNorm3d-31       [-1, 16, 25, 32, 32]              32\n",
      "             ReLU-32       [-1, 16, 25, 32, 32]               0\n",
      "           Conv3d-33       [-1, 32, 25, 32, 32]           4,608\n",
      "      BatchNorm3d-34       [-1, 32, 25, 32, 32]              64\n",
      "             ReLU-35       [-1, 32, 25, 32, 32]               0\n",
      "           Conv3d-36       [-1, 32, 25, 32, 32]           3,072\n",
      "      BatchNorm3d-37       [-1, 32, 25, 32, 32]              64\n",
      "             ReLU-38       [-1, 32, 25, 32, 32]               0\n",
      "        MaxPool3d-39      [-1, 192, 25, 32, 32]               0\n",
      "           Conv3d-40       [-1, 32, 25, 32, 32]           6,144\n",
      "      BatchNorm3d-41       [-1, 32, 25, 32, 32]              64\n",
      "             ReLU-42       [-1, 32, 25, 32, 32]               0\n",
      "SepInceptionBlock3D-43      [-1, 256, 25, 32, 32]               0\n",
      "           Conv3d-44      [-1, 128, 25, 32, 32]          32,768\n",
      "      BatchNorm3d-45      [-1, 128, 25, 32, 32]             256\n",
      "             ReLU-46      [-1, 128, 25, 32, 32]               0\n",
      "           Conv3d-47      [-1, 128, 25, 32, 32]          32,768\n",
      "      BatchNorm3d-48      [-1, 128, 25, 32, 32]             256\n",
      "             ReLU-49      [-1, 128, 25, 32, 32]               0\n",
      "           Conv3d-50      [-1, 192, 25, 32, 32]         221,184\n",
      "      BatchNorm3d-51      [-1, 192, 25, 32, 32]             384\n",
      "             ReLU-52      [-1, 192, 25, 32, 32]               0\n",
      "           Conv3d-53      [-1, 192, 25, 32, 32]         110,592\n",
      "      BatchNorm3d-54      [-1, 192, 25, 32, 32]             384\n",
      "             ReLU-55      [-1, 192, 25, 32, 32]               0\n",
      "           Conv3d-56       [-1, 32, 25, 32, 32]           8,192\n",
      "      BatchNorm3d-57       [-1, 32, 25, 32, 32]              64\n",
      "             ReLU-58       [-1, 32, 25, 32, 32]               0\n",
      "           Conv3d-59       [-1, 96, 25, 32, 32]          27,648\n",
      "      BatchNorm3d-60       [-1, 96, 25, 32, 32]             192\n",
      "             ReLU-61       [-1, 96, 25, 32, 32]               0\n",
      "           Conv3d-62       [-1, 96, 25, 32, 32]          27,648\n",
      "      BatchNorm3d-63       [-1, 96, 25, 32, 32]             192\n",
      "             ReLU-64       [-1, 96, 25, 32, 32]               0\n",
      "        MaxPool3d-65      [-1, 256, 25, 32, 32]               0\n",
      "           Conv3d-66       [-1, 64, 25, 32, 32]          16,384\n",
      "      BatchNorm3d-67       [-1, 64, 25, 32, 32]             128\n",
      "             ReLU-68       [-1, 64, 25, 32, 32]               0\n",
      "SepInceptionBlock3D-69      [-1, 480, 25, 32, 32]               0\n",
      "        MaxPool3d-70      [-1, 480, 13, 16, 16]               0\n",
      "           Conv3d-71      [-1, 192, 13, 16, 16]          92,160\n",
      "      BatchNorm3d-72      [-1, 192, 13, 16, 16]             384\n",
      "             ReLU-73      [-1, 192, 13, 16, 16]               0\n",
      "           Conv3d-74       [-1, 96, 13, 16, 16]          46,080\n",
      "      BatchNorm3d-75       [-1, 96, 13, 16, 16]             192\n",
      "             ReLU-76       [-1, 96, 13, 16, 16]               0\n",
      "           Conv3d-77      [-1, 208, 13, 16, 16]         179,712\n",
      "      BatchNorm3d-78      [-1, 208, 13, 16, 16]             416\n",
      "             ReLU-79      [-1, 208, 13, 16, 16]               0\n",
      "           Conv3d-80      [-1, 208, 13, 16, 16]         129,792\n",
      "      BatchNorm3d-81      [-1, 208, 13, 16, 16]             416\n",
      "             ReLU-82      [-1, 208, 13, 16, 16]               0\n",
      "           Conv3d-83       [-1, 16, 13, 16, 16]           7,680\n",
      "      BatchNorm3d-84       [-1, 16, 13, 16, 16]              32\n",
      "             ReLU-85       [-1, 16, 13, 16, 16]               0\n",
      "           Conv3d-86       [-1, 48, 13, 16, 16]           6,912\n",
      "      BatchNorm3d-87       [-1, 48, 13, 16, 16]              96\n",
      "             ReLU-88       [-1, 48, 13, 16, 16]               0\n",
      "           Conv3d-89       [-1, 48, 13, 16, 16]           6,912\n",
      "      BatchNorm3d-90       [-1, 48, 13, 16, 16]              96\n",
      "             ReLU-91       [-1, 48, 13, 16, 16]               0\n",
      "        MaxPool3d-92      [-1, 480, 13, 16, 16]               0\n",
      "           Conv3d-93       [-1, 64, 13, 16, 16]          30,720\n",
      "      BatchNorm3d-94       [-1, 64, 13, 16, 16]             128\n",
      "             ReLU-95       [-1, 64, 13, 16, 16]               0\n",
      "SepInceptionBlock3D-96      [-1, 512, 13, 16, 16]               0\n",
      "           Conv3d-97      [-1, 160, 13, 16, 16]          81,920\n",
      "      BatchNorm3d-98      [-1, 160, 13, 16, 16]             320\n",
      "             ReLU-99      [-1, 160, 13, 16, 16]               0\n",
      "          Conv3d-100      [-1, 112, 13, 16, 16]          57,344\n",
      "     BatchNorm3d-101      [-1, 112, 13, 16, 16]             224\n",
      "            ReLU-102      [-1, 112, 13, 16, 16]               0\n",
      "          Conv3d-103      [-1, 224, 13, 16, 16]         225,792\n",
      "     BatchNorm3d-104      [-1, 224, 13, 16, 16]             448\n",
      "            ReLU-105      [-1, 224, 13, 16, 16]               0\n",
      "          Conv3d-106      [-1, 224, 13, 16, 16]         150,528\n",
      "     BatchNorm3d-107      [-1, 224, 13, 16, 16]             448\n",
      "            ReLU-108      [-1, 224, 13, 16, 16]               0\n",
      "          Conv3d-109       [-1, 24, 13, 16, 16]          12,288\n",
      "     BatchNorm3d-110       [-1, 24, 13, 16, 16]              48\n",
      "            ReLU-111       [-1, 24, 13, 16, 16]               0\n",
      "          Conv3d-112       [-1, 64, 13, 16, 16]          13,824\n",
      "     BatchNorm3d-113       [-1, 64, 13, 16, 16]             128\n",
      "            ReLU-114       [-1, 64, 13, 16, 16]               0\n",
      "          Conv3d-115       [-1, 64, 13, 16, 16]          12,288\n",
      "     BatchNorm3d-116       [-1, 64, 13, 16, 16]             128\n",
      "            ReLU-117       [-1, 64, 13, 16, 16]               0\n",
      "       MaxPool3d-118      [-1, 512, 13, 16, 16]               0\n",
      "          Conv3d-119       [-1, 64, 13, 16, 16]          32,768\n",
      "     BatchNorm3d-120       [-1, 64, 13, 16, 16]             128\n",
      "            ReLU-121       [-1, 64, 13, 16, 16]               0\n",
      "SepInceptionBlock3D-122      [-1, 512, 13, 16, 16]               0\n",
      "          Conv3d-123      [-1, 128, 13, 16, 16]          65,536\n",
      "     BatchNorm3d-124      [-1, 128, 13, 16, 16]             256\n",
      "            ReLU-125      [-1, 128, 13, 16, 16]               0\n",
      "          Conv3d-126      [-1, 128, 13, 16, 16]          65,536\n",
      "     BatchNorm3d-127      [-1, 128, 13, 16, 16]             256\n",
      "            ReLU-128      [-1, 128, 13, 16, 16]               0\n",
      "          Conv3d-129      [-1, 256, 13, 16, 16]         294,912\n",
      "     BatchNorm3d-130      [-1, 256, 13, 16, 16]             512\n",
      "            ReLU-131      [-1, 256, 13, 16, 16]               0\n",
      "          Conv3d-132      [-1, 256, 13, 16, 16]         196,608\n",
      "     BatchNorm3d-133      [-1, 256, 13, 16, 16]             512\n",
      "            ReLU-134      [-1, 256, 13, 16, 16]               0\n",
      "          Conv3d-135       [-1, 24, 13, 16, 16]          12,288\n",
      "     BatchNorm3d-136       [-1, 24, 13, 16, 16]              48\n",
      "            ReLU-137       [-1, 24, 13, 16, 16]               0\n",
      "          Conv3d-138       [-1, 64, 13, 16, 16]          13,824\n",
      "     BatchNorm3d-139       [-1, 64, 13, 16, 16]             128\n",
      "            ReLU-140       [-1, 64, 13, 16, 16]               0\n",
      "          Conv3d-141       [-1, 64, 13, 16, 16]          12,288\n",
      "     BatchNorm3d-142       [-1, 64, 13, 16, 16]             128\n",
      "            ReLU-143       [-1, 64, 13, 16, 16]               0\n",
      "       MaxPool3d-144      [-1, 512, 13, 16, 16]               0\n",
      "          Conv3d-145       [-1, 64, 13, 16, 16]          32,768\n",
      "     BatchNorm3d-146       [-1, 64, 13, 16, 16]             128\n",
      "            ReLU-147       [-1, 64, 13, 16, 16]               0\n",
      "SepInceptionBlock3D-148      [-1, 512, 13, 16, 16]               0\n",
      "          Conv3d-149      [-1, 112, 13, 16, 16]          57,344\n",
      "     BatchNorm3d-150      [-1, 112, 13, 16, 16]             224\n",
      "            ReLU-151      [-1, 112, 13, 16, 16]               0\n",
      "          Conv3d-152      [-1, 144, 13, 16, 16]          73,728\n",
      "     BatchNorm3d-153      [-1, 144, 13, 16, 16]             288\n",
      "            ReLU-154      [-1, 144, 13, 16, 16]               0\n",
      "          Conv3d-155      [-1, 288, 13, 16, 16]         373,248\n",
      "     BatchNorm3d-156      [-1, 288, 13, 16, 16]             576\n",
      "            ReLU-157      [-1, 288, 13, 16, 16]               0\n",
      "          Conv3d-158      [-1, 288, 13, 16, 16]         248,832\n",
      "     BatchNorm3d-159      [-1, 288, 13, 16, 16]             576\n",
      "            ReLU-160      [-1, 288, 13, 16, 16]               0\n",
      "          Conv3d-161       [-1, 32, 13, 16, 16]          16,384\n",
      "     BatchNorm3d-162       [-1, 32, 13, 16, 16]              64\n",
      "            ReLU-163       [-1, 32, 13, 16, 16]               0\n",
      "          Conv3d-164       [-1, 64, 13, 16, 16]          18,432\n",
      "     BatchNorm3d-165       [-1, 64, 13, 16, 16]             128\n",
      "            ReLU-166       [-1, 64, 13, 16, 16]               0\n",
      "          Conv3d-167       [-1, 64, 13, 16, 16]          12,288\n",
      "     BatchNorm3d-168       [-1, 64, 13, 16, 16]             128\n",
      "            ReLU-169       [-1, 64, 13, 16, 16]               0\n",
      "       MaxPool3d-170      [-1, 512, 13, 16, 16]               0\n",
      "          Conv3d-171       [-1, 64, 13, 16, 16]          32,768\n",
      "     BatchNorm3d-172       [-1, 64, 13, 16, 16]             128\n",
      "            ReLU-173       [-1, 64, 13, 16, 16]               0\n",
      "SepInceptionBlock3D-174      [-1, 528, 13, 16, 16]               0\n",
      "          Conv3d-175      [-1, 256, 13, 16, 16]         135,168\n",
      "     BatchNorm3d-176      [-1, 256, 13, 16, 16]             512\n",
      "            ReLU-177      [-1, 256, 13, 16, 16]               0\n",
      "          Conv3d-178      [-1, 160, 13, 16, 16]          84,480\n",
      "     BatchNorm3d-179      [-1, 160, 13, 16, 16]             320\n",
      "            ReLU-180      [-1, 160, 13, 16, 16]               0\n",
      "          Conv3d-181      [-1, 320, 13, 16, 16]         460,800\n",
      "     BatchNorm3d-182      [-1, 320, 13, 16, 16]             640\n",
      "            ReLU-183      [-1, 320, 13, 16, 16]               0\n",
      "          Conv3d-184      [-1, 320, 13, 16, 16]         307,200\n",
      "     BatchNorm3d-185      [-1, 320, 13, 16, 16]             640\n",
      "            ReLU-186      [-1, 320, 13, 16, 16]               0\n",
      "          Conv3d-187       [-1, 32, 13, 16, 16]          16,896\n",
      "     BatchNorm3d-188       [-1, 32, 13, 16, 16]              64\n",
      "            ReLU-189       [-1, 32, 13, 16, 16]               0\n",
      "          Conv3d-190      [-1, 128, 13, 16, 16]          36,864\n",
      "     BatchNorm3d-191      [-1, 128, 13, 16, 16]             256\n",
      "            ReLU-192      [-1, 128, 13, 16, 16]               0\n",
      "          Conv3d-193      [-1, 128, 13, 16, 16]          49,152\n",
      "     BatchNorm3d-194      [-1, 128, 13, 16, 16]             256\n",
      "            ReLU-195      [-1, 128, 13, 16, 16]               0\n",
      "       MaxPool3d-196      [-1, 528, 13, 16, 16]               0\n",
      "          Conv3d-197      [-1, 128, 13, 16, 16]          67,584\n",
      "     BatchNorm3d-198      [-1, 128, 13, 16, 16]             256\n",
      "            ReLU-199      [-1, 128, 13, 16, 16]               0\n",
      "SepInceptionBlock3D-200      [-1, 832, 13, 16, 16]               0\n",
      "       MaxPool3d-201         [-1, 832, 6, 8, 8]               0\n",
      "          Conv3d-202         [-1, 256, 6, 8, 8]         212,992\n",
      "     BatchNorm3d-203         [-1, 256, 6, 8, 8]             512\n",
      "            ReLU-204         [-1, 256, 6, 8, 8]               0\n",
      "          Conv3d-205         [-1, 160, 6, 8, 8]         133,120\n",
      "     BatchNorm3d-206         [-1, 160, 6, 8, 8]             320\n",
      "            ReLU-207         [-1, 160, 6, 8, 8]               0\n",
      "          Conv3d-208         [-1, 320, 6, 8, 8]         460,800\n",
      "     BatchNorm3d-209         [-1, 320, 6, 8, 8]             640\n",
      "            ReLU-210         [-1, 320, 6, 8, 8]               0\n",
      "          Conv3d-211         [-1, 320, 6, 8, 8]         307,200\n",
      "     BatchNorm3d-212         [-1, 320, 6, 8, 8]             640\n",
      "            ReLU-213         [-1, 320, 6, 8, 8]               0\n",
      "          Conv3d-214          [-1, 32, 6, 8, 8]          26,624\n",
      "     BatchNorm3d-215          [-1, 32, 6, 8, 8]              64\n",
      "            ReLU-216          [-1, 32, 6, 8, 8]               0\n",
      "          Conv3d-217         [-1, 128, 6, 8, 8]          36,864\n",
      "     BatchNorm3d-218         [-1, 128, 6, 8, 8]             256\n",
      "            ReLU-219         [-1, 128, 6, 8, 8]               0\n",
      "          Conv3d-220         [-1, 128, 6, 8, 8]          49,152\n",
      "     BatchNorm3d-221         [-1, 128, 6, 8, 8]             256\n",
      "            ReLU-222         [-1, 128, 6, 8, 8]               0\n",
      "       MaxPool3d-223         [-1, 832, 6, 8, 8]               0\n",
      "          Conv3d-224         [-1, 128, 6, 8, 8]         106,496\n",
      "     BatchNorm3d-225         [-1, 128, 6, 8, 8]             256\n",
      "            ReLU-226         [-1, 128, 6, 8, 8]               0\n",
      "SepInceptionBlock3D-227         [-1, 832, 6, 8, 8]               0\n",
      "          Conv3d-228         [-1, 384, 6, 8, 8]         319,488\n",
      "     BatchNorm3d-229         [-1, 384, 6, 8, 8]             768\n",
      "            ReLU-230         [-1, 384, 6, 8, 8]               0\n",
      "          Conv3d-231         [-1, 192, 6, 8, 8]         159,744\n",
      "     BatchNorm3d-232         [-1, 192, 6, 8, 8]             384\n",
      "            ReLU-233         [-1, 192, 6, 8, 8]               0\n",
      "          Conv3d-234         [-1, 384, 6, 8, 8]         663,552\n",
      "     BatchNorm3d-235         [-1, 384, 6, 8, 8]             768\n",
      "            ReLU-236         [-1, 384, 6, 8, 8]               0\n",
      "          Conv3d-237         [-1, 384, 6, 8, 8]         442,368\n",
      "     BatchNorm3d-238         [-1, 384, 6, 8, 8]             768\n",
      "            ReLU-239         [-1, 384, 6, 8, 8]               0\n",
      "          Conv3d-240          [-1, 48, 6, 8, 8]          39,936\n",
      "     BatchNorm3d-241          [-1, 48, 6, 8, 8]              96\n",
      "            ReLU-242          [-1, 48, 6, 8, 8]               0\n",
      "          Conv3d-243         [-1, 128, 6, 8, 8]          55,296\n",
      "     BatchNorm3d-244         [-1, 128, 6, 8, 8]             256\n",
      "            ReLU-245         [-1, 128, 6, 8, 8]               0\n",
      "          Conv3d-246         [-1, 128, 6, 8, 8]          49,152\n",
      "     BatchNorm3d-247         [-1, 128, 6, 8, 8]             256\n",
      "            ReLU-248         [-1, 128, 6, 8, 8]               0\n",
      "       MaxPool3d-249         [-1, 832, 6, 8, 8]               0\n",
      "          Conv3d-250         [-1, 128, 6, 8, 8]         106,496\n",
      "     BatchNorm3d-251         [-1, 128, 6, 8, 8]             256\n",
      "            ReLU-252         [-1, 128, 6, 8, 8]               0\n",
      "SepInceptionBlock3D-253        [-1, 1024, 6, 8, 8]               0\n",
      "       AvgPool3d-254        [-1, 1024, 5, 2, 2]               0\n",
      "         Dropout-255        [-1, 1024, 5, 2, 2]               0\n",
      "          Conv3d-256          [-1, 13, 5, 2, 2]          13,325\n",
      "             S3D-257                   [-1, 13]               0\n",
      "================================================================\n",
      "Total params: 7,923,373\n",
      "Trainable params: 7,923,373\n",
      "Non-trainable params: 0\n",
      "----------------------------------------------------------------\n",
      "Input size (MB): 37.50\n",
      "Forward/backward pass size (MB): 4619.64\n",
      "Params size (MB): 30.23\n",
      "Estimated Total Size (MB): 4687.37\n",
      "----------------------------------------------------------------\n"
     ]
    }
   ],
   "source": [
    "from torchsummary import summary\n",
    "model=BaseModel().to(device)\n",
    "summary(model, (3,50,256,256))"
   ]
  },
  {
   "cell_type": "markdown",
   "id": "122af0aa-a1fd-4595-9488-35761e3cb596",
   "metadata": {},
   "source": [
    "## Train"
   ]
  },
  {
   "cell_type": "code",
   "execution_count": 31,
   "id": "a17df6b3-16c9-44dd-b0fd-ffb501fee749",
   "metadata": {},
   "outputs": [],
   "source": [
    "def train(model, optimizer, train_loader, val_loader, scheduler, device):\n",
    "    model.to(device)\n",
    "    \n",
    "    if torch.cuda.device_count() > 1:\n",
    "        print(\"Let's use\", torch.cuda.device_count(), \"GPUs!\")\n",
    "        model = nn.DataParallel(model)\n",
    "    \n",
    "    criterion = nn.CrossEntropyLoss().to(device)\n",
    "    \n",
    "    best_val_score = 0\n",
    "    best_model = None\n",
    "    cnt=0\n",
    "    for epoch in range(1, CFG.epochs+1):\n",
    "        model.train()\n",
    "        train_loss = []\n",
    "        for videos, labels in tqdm(iter(train_loader)):\n",
    "            videos = videos.to(device)\n",
    "            labels = labels.to(device)\n",
    "            \n",
    "            optimizer.zero_grad()\n",
    "            \n",
    "            output = model(videos)\n",
    "            loss = criterion(output, labels)\n",
    "            \n",
    "            loss.backward()\n",
    "            optimizer.step()\n",
    "            \n",
    "            train_loss.append(loss.item())\n",
    "                    \n",
    "        _val_loss, _val_score = validation(model, criterion, val_loader, device)\n",
    "        _train_loss = np.mean(train_loss)\n",
    "        print(f'Epoch [{epoch}], Train Loss : [{_train_loss:.5f}] Val Loss : [{_val_loss:.5f}] Val F1 : [{_val_score:.5f}]')\n",
    "        \n",
    "        if scheduler is not None:\n",
    "            scheduler.step(_val_score)\n",
    "            \n",
    "        if best_val_score < _val_score:\n",
    "            best_val_score = _val_score\n",
    "            best_model = model\n",
    "            torch.save(model.state_dict(), './weights/s3d.pt')\n",
    "            cnt=0\n",
    "        else:\n",
    "            print(\"early stopping count : {}\".format(cnt))\n",
    "            cnt+=1\n",
    "        \n",
    "        if cnt==5:\n",
    "            print(\"early stopping done\")\n",
    "            break\n",
    "            \n",
    "    return best_model"
   ]
  },
  {
   "cell_type": "code",
   "execution_count": 32,
   "id": "24a0bf01-27cd-4faf-93b1-3aa8a37be01c",
   "metadata": {},
   "outputs": [],
   "source": [
    "def validation(model, criterion, val_loader, device):\n",
    "    model.eval()\n",
    "    val_loss = []\n",
    "    preds, trues = [], []\n",
    "    \n",
    "    with torch.no_grad():\n",
    "        for videos, labels in tqdm(iter(val_loader)):\n",
    "            videos = videos.to(device)\n",
    "            labels = labels.to(device)\n",
    "            \n",
    "            logit = model(videos)\n",
    "            \n",
    "            loss = criterion(logit, labels)\n",
    "            \n",
    "            val_loss.append(loss.item())\n",
    "            \n",
    "            preds += logit.argmax(1).detach().cpu().numpy().tolist()\n",
    "            trues += labels.detach().cpu().numpy().tolist()\n",
    "        \n",
    "        _val_loss = np.mean(val_loss)\n",
    "    \n",
    "    _val_score = f1_score(trues, preds, average='macro')\n",
    "    return _val_loss, _val_score"
   ]
  },
  {
   "cell_type": "markdown",
   "id": "51da39f9-904f-4abd-a7d2-cdf29c4a6c24",
   "metadata": {},
   "source": [
    "## Run!!"
   ]
  },
  {
   "cell_type": "code",
   "execution_count": 33,
   "id": "86142d9a-68b7-4d04-8423-49d28025411d",
   "metadata": {
    "tags": []
   },
   "outputs": [
    {
     "name": "stdout",
     "output_type": "stream",
     "text": [
      "Let's use 2 GPUs!\n"
     ]
    },
    {
     "data": {
      "application/vnd.jupyter.widget-view+json": {
       "model_id": "4321b93b5f4647a8ae5486e2308d15d3",
       "version_major": 2,
       "version_minor": 0
      },
      "text/plain": [
       "  0%|          | 0/135 [00:00<?, ?it/s]"
      ]
     },
     "metadata": {},
     "output_type": "display_data"
    },
    {
     "data": {
      "application/vnd.jupyter.widget-view+json": {
       "model_id": "bbe7c82620744cc18be5fe4c188ce894",
       "version_major": 2,
       "version_minor": 0
      },
      "text/plain": [
       "  0%|          | 0/34 [00:00<?, ?it/s]"
      ]
     },
     "metadata": {},
     "output_type": "display_data"
    },
    {
     "name": "stdout",
     "output_type": "stream",
     "text": [
      "Epoch [1], Train Loss : [0.71333] Val Loss : [2.45726] Val F1 : [0.06607]\n"
     ]
    },
    {
     "data": {
      "application/vnd.jupyter.widget-view+json": {
       "model_id": "e1901035437a4df18def58b30187425c",
       "version_major": 2,
       "version_minor": 0
      },
      "text/plain": [
       "  0%|          | 0/135 [00:00<?, ?it/s]"
      ]
     },
     "metadata": {},
     "output_type": "display_data"
    },
    {
     "data": {
      "application/vnd.jupyter.widget-view+json": {
       "model_id": "fbb5d4e2e2324f2bbf422afaf4e046f2",
       "version_major": 2,
       "version_minor": 0
      },
      "text/plain": [
       "  0%|          | 0/34 [00:00<?, ?it/s]"
      ]
     },
     "metadata": {},
     "output_type": "display_data"
    },
    {
     "name": "stdout",
     "output_type": "stream",
     "text": [
      "Epoch [2], Train Loss : [0.42614] Val Loss : [0.87897] Val F1 : [0.12892]\n"
     ]
    },
    {
     "data": {
      "application/vnd.jupyter.widget-view+json": {
       "model_id": "28ed5f8f418147959e1ceb6adcb4f203",
       "version_major": 2,
       "version_minor": 0
      },
      "text/plain": [
       "  0%|          | 0/135 [00:00<?, ?it/s]"
      ]
     },
     "metadata": {},
     "output_type": "display_data"
    },
    {
     "data": {
      "application/vnd.jupyter.widget-view+json": {
       "model_id": "7b3b18043d204ac9b6801b8bb2f894eb",
       "version_major": 2,
       "version_minor": 0
      },
      "text/plain": [
       "  0%|          | 0/34 [00:00<?, ?it/s]"
      ]
     },
     "metadata": {},
     "output_type": "display_data"
    },
    {
     "name": "stdout",
     "output_type": "stream",
     "text": [
      "Epoch [3], Train Loss : [0.32486] Val Loss : [3.00090] Val F1 : [0.09044]\n",
      "early stopping count : 0\n"
     ]
    },
    {
     "data": {
      "application/vnd.jupyter.widget-view+json": {
       "model_id": "798a1491a63f42e4a415ad5984641427",
       "version_major": 2,
       "version_minor": 0
      },
      "text/plain": [
       "  0%|          | 0/135 [00:00<?, ?it/s]"
      ]
     },
     "metadata": {},
     "output_type": "display_data"
    },
    {
     "data": {
      "application/vnd.jupyter.widget-view+json": {
       "model_id": "76449bc5d90745909ea518921846d20c",
       "version_major": 2,
       "version_minor": 0
      },
      "text/plain": [
       "  0%|          | 0/34 [00:00<?, ?it/s]"
      ]
     },
     "metadata": {},
     "output_type": "display_data"
    },
    {
     "name": "stdout",
     "output_type": "stream",
     "text": [
      "Epoch [4], Train Loss : [0.26466] Val Loss : [1.26753] Val F1 : [0.20245]\n"
     ]
    },
    {
     "data": {
      "application/vnd.jupyter.widget-view+json": {
       "model_id": "f4f6b09a9c2a4a5c9a0e92012f7ff3db",
       "version_major": 2,
       "version_minor": 0
      },
      "text/plain": [
       "  0%|          | 0/135 [00:00<?, ?it/s]"
      ]
     },
     "metadata": {},
     "output_type": "display_data"
    },
    {
     "data": {
      "application/vnd.jupyter.widget-view+json": {
       "model_id": "802fa547cb2e49c39904941bc46c48c1",
       "version_major": 2,
       "version_minor": 0
      },
      "text/plain": [
       "  0%|          | 0/34 [00:00<?, ?it/s]"
      ]
     },
     "metadata": {},
     "output_type": "display_data"
    },
    {
     "name": "stdout",
     "output_type": "stream",
     "text": [
      "Epoch [5], Train Loss : [0.20316] Val Loss : [0.99216] Val F1 : [0.20424]\n"
     ]
    },
    {
     "data": {
      "application/vnd.jupyter.widget-view+json": {
       "model_id": "bfc6e12266334cf8903c513a206caf8d",
       "version_major": 2,
       "version_minor": 0
      },
      "text/plain": [
       "  0%|          | 0/135 [00:00<?, ?it/s]"
      ]
     },
     "metadata": {},
     "output_type": "display_data"
    },
    {
     "data": {
      "application/vnd.jupyter.widget-view+json": {
       "model_id": "d01d3edead414cb9b34617065fde2678",
       "version_major": 2,
       "version_minor": 0
      },
      "text/plain": [
       "  0%|          | 0/34 [00:00<?, ?it/s]"
      ]
     },
     "metadata": {},
     "output_type": "display_data"
    },
    {
     "name": "stdout",
     "output_type": "stream",
     "text": [
      "Epoch [6], Train Loss : [0.14565] Val Loss : [2.05922] Val F1 : [0.18828]\n",
      "early stopping count : 0\n"
     ]
    },
    {
     "data": {
      "application/vnd.jupyter.widget-view+json": {
       "model_id": "8b8dbf15bdbc4befa8add5946a30bbb6",
       "version_major": 2,
       "version_minor": 0
      },
      "text/plain": [
       "  0%|          | 0/135 [00:00<?, ?it/s]"
      ]
     },
     "metadata": {},
     "output_type": "display_data"
    },
    {
     "data": {
      "application/vnd.jupyter.widget-view+json": {
       "model_id": "e7306a1dc1624dfa97df4d91742a0dca",
       "version_major": 2,
       "version_minor": 0
      },
      "text/plain": [
       "  0%|          | 0/34 [00:00<?, ?it/s]"
      ]
     },
     "metadata": {},
     "output_type": "display_data"
    },
    {
     "name": "stdout",
     "output_type": "stream",
     "text": [
      "Epoch [7], Train Loss : [0.11598] Val Loss : [1.12726] Val F1 : [0.24898]\n"
     ]
    },
    {
     "data": {
      "application/vnd.jupyter.widget-view+json": {
       "model_id": "ad50dadb54c54511969b6a0b58acab30",
       "version_major": 2,
       "version_minor": 0
      },
      "text/plain": [
       "  0%|          | 0/135 [00:00<?, ?it/s]"
      ]
     },
     "metadata": {},
     "output_type": "display_data"
    },
    {
     "data": {
      "application/vnd.jupyter.widget-view+json": {
       "model_id": "8b824831125d44bf9006f7c678336bf1",
       "version_major": 2,
       "version_minor": 0
      },
      "text/plain": [
       "  0%|          | 0/34 [00:00<?, ?it/s]"
      ]
     },
     "metadata": {},
     "output_type": "display_data"
    },
    {
     "name": "stdout",
     "output_type": "stream",
     "text": [
      "Epoch [8], Train Loss : [0.09841] Val Loss : [2.93211] Val F1 : [0.13617]\n",
      "early stopping count : 0\n"
     ]
    },
    {
     "data": {
      "application/vnd.jupyter.widget-view+json": {
       "model_id": "6ae8205a20a54cbd933e705120423cc4",
       "version_major": 2,
       "version_minor": 0
      },
      "text/plain": [
       "  0%|          | 0/135 [00:00<?, ?it/s]"
      ]
     },
     "metadata": {},
     "output_type": "display_data"
    },
    {
     "data": {
      "application/vnd.jupyter.widget-view+json": {
       "model_id": "c6c8e07240ec4c5e9787cf979d432b1f",
       "version_major": 2,
       "version_minor": 0
      },
      "text/plain": [
       "  0%|          | 0/34 [00:00<?, ?it/s]"
      ]
     },
     "metadata": {},
     "output_type": "display_data"
    },
    {
     "name": "stdout",
     "output_type": "stream",
     "text": [
      "Epoch [9], Train Loss : [0.12115] Val Loss : [0.95873] Val F1 : [0.36346]\n"
     ]
    },
    {
     "data": {
      "application/vnd.jupyter.widget-view+json": {
       "model_id": "c877e535ef4f412ba712d48e7868d3b6",
       "version_major": 2,
       "version_minor": 0
      },
      "text/plain": [
       "  0%|          | 0/135 [00:00<?, ?it/s]"
      ]
     },
     "metadata": {},
     "output_type": "display_data"
    },
    {
     "data": {
      "application/vnd.jupyter.widget-view+json": {
       "model_id": "90c1877836a945ea88cb357c33492cf0",
       "version_major": 2,
       "version_minor": 0
      },
      "text/plain": [
       "  0%|          | 0/34 [00:00<?, ?it/s]"
      ]
     },
     "metadata": {},
     "output_type": "display_data"
    },
    {
     "name": "stdout",
     "output_type": "stream",
     "text": [
      "Epoch [10], Train Loss : [0.11972] Val Loss : [1.87211] Val F1 : [0.21951]\n",
      "early stopping count : 0\n"
     ]
    },
    {
     "data": {
      "application/vnd.jupyter.widget-view+json": {
       "model_id": "c10eb23e1cfc4a7fa4036803b24b7b10",
       "version_major": 2,
       "version_minor": 0
      },
      "text/plain": [
       "  0%|          | 0/135 [00:00<?, ?it/s]"
      ]
     },
     "metadata": {},
     "output_type": "display_data"
    },
    {
     "data": {
      "application/vnd.jupyter.widget-view+json": {
       "model_id": "270f9420e7a54b42a922b7e965093242",
       "version_major": 2,
       "version_minor": 0
      },
      "text/plain": [
       "  0%|          | 0/34 [00:00<?, ?it/s]"
      ]
     },
     "metadata": {},
     "output_type": "display_data"
    },
    {
     "name": "stdout",
     "output_type": "stream",
     "text": [
      "Epoch [11], Train Loss : [0.07781] Val Loss : [2.36175] Val F1 : [0.18704]\n",
      "early stopping count : 1\n"
     ]
    },
    {
     "data": {
      "application/vnd.jupyter.widget-view+json": {
       "model_id": "70414a9c24ad4790baa5c9df3a2cefdb",
       "version_major": 2,
       "version_minor": 0
      },
      "text/plain": [
       "  0%|          | 0/135 [00:00<?, ?it/s]"
      ]
     },
     "metadata": {},
     "output_type": "display_data"
    },
    {
     "data": {
      "application/vnd.jupyter.widget-view+json": {
       "model_id": "3e73405ccc384e339f3cecaf426d6f65",
       "version_major": 2,
       "version_minor": 0
      },
      "text/plain": [
       "  0%|          | 0/34 [00:00<?, ?it/s]"
      ]
     },
     "metadata": {},
     "output_type": "display_data"
    },
    {
     "name": "stdout",
     "output_type": "stream",
     "text": [
      "Epoch [12], Train Loss : [0.09909] Val Loss : [0.93017] Val F1 : [0.26405]\n",
      "early stopping count : 2\n"
     ]
    },
    {
     "data": {
      "application/vnd.jupyter.widget-view+json": {
       "model_id": "424e7c35ec324edbb7f19bea3bcfa842",
       "version_major": 2,
       "version_minor": 0
      },
      "text/plain": [
       "  0%|          | 0/135 [00:00<?, ?it/s]"
      ]
     },
     "metadata": {},
     "output_type": "display_data"
    },
    {
     "data": {
      "application/vnd.jupyter.widget-view+json": {
       "model_id": "67bcf63d81244bbcae09000ae706e591",
       "version_major": 2,
       "version_minor": 0
      },
      "text/plain": [
       "  0%|          | 0/34 [00:00<?, ?it/s]"
      ]
     },
     "metadata": {},
     "output_type": "display_data"
    },
    {
     "name": "stdout",
     "output_type": "stream",
     "text": [
      "Epoch [13], Train Loss : [0.06283] Val Loss : [1.22572] Val F1 : [0.23137]\n",
      "early stopping count : 3\n"
     ]
    },
    {
     "data": {
      "application/vnd.jupyter.widget-view+json": {
       "model_id": "060f6e8c84de40cfac85f8d58ab62fa9",
       "version_major": 2,
       "version_minor": 0
      },
      "text/plain": [
       "  0%|          | 0/135 [00:00<?, ?it/s]"
      ]
     },
     "metadata": {},
     "output_type": "display_data"
    },
    {
     "data": {
      "application/vnd.jupyter.widget-view+json": {
       "model_id": "72e43c49abcc46f881df62e592510898",
       "version_major": 2,
       "version_minor": 0
      },
      "text/plain": [
       "  0%|          | 0/34 [00:00<?, ?it/s]"
      ]
     },
     "metadata": {},
     "output_type": "display_data"
    },
    {
     "name": "stdout",
     "output_type": "stream",
     "text": [
      "Epoch [14], Train Loss : [0.02511] Val Loss : [0.85209] Val F1 : [0.29892]\n",
      "early stopping count : 4\n",
      "early stopping done\n"
     ]
    }
   ],
   "source": [
    "model = BaseModel(fc_type='shallow')\n",
    "model.eval()\n",
    "optimizer = torch.optim.Adam(params = model.parameters(), lr = CFG.lr)\n",
    "scheduler = torch.optim.lr_scheduler.CosineAnnealingWarmRestarts(optimizer, T_0=10, T_mult=2, eta_min=0.00001)\n",
    "\n",
    "infer_model = train(model, optimizer, train_loader, val_loader, scheduler, device)"
   ]
  },
  {
   "cell_type": "markdown",
   "id": "d32efed9-ec88-40fc-83d2-e995e48c372a",
   "metadata": {},
   "source": [
    "## Inference"
   ]
  },
  {
   "cell_type": "code",
   "execution_count": 34,
   "id": "0498feef-9ca7-42ea-b73a-51a06dd4c684",
   "metadata": {},
   "outputs": [],
   "source": [
    "test = pd.read_csv('./test.csv')"
   ]
  },
  {
   "cell_type": "code",
   "execution_count": 35,
   "id": "a1bc676a-5216-4e1a-ac2c-3e940e8a3909",
   "metadata": {},
   "outputs": [],
   "source": [
    "test_dataset = CustomDataset(test['video_path'].values, None)\n",
    "test_loader = DataLoader(test_dataset, batch_size = CFG.batch_size, shuffle=False, num_workers=0)"
   ]
  },
  {
   "cell_type": "code",
   "execution_count": 36,
   "id": "acc072b1-3749-4a0a-8c3b-80ef39a2fd56",
   "metadata": {},
   "outputs": [],
   "source": [
    "def inference(model, test_loader, device):\n",
    "    model.to(device)\n",
    "    model.eval()\n",
    "    preds = []\n",
    "    with torch.no_grad():\n",
    "        for videos in tqdm(iter(test_loader)):\n",
    "            videos = videos.to(device)\n",
    "            \n",
    "            logit = model(videos)\n",
    "\n",
    "            preds += logit.argmax(1).detach().cpu().numpy().tolist()\n",
    "    return preds"
   ]
  },
  {
   "cell_type": "code",
   "execution_count": 37,
   "id": "9fcce1a1-995c-403b-9229-f4253dd5c702",
   "metadata": {},
   "outputs": [
    {
     "data": {
      "application/vnd.jupyter.widget-view+json": {
       "model_id": "e8ec461917874a10a332b267724adac6",
       "version_major": 2,
       "version_minor": 0
      },
      "text/plain": [
       "  0%|          | 0/113 [00:00<?, ?it/s]"
      ]
     },
     "metadata": {},
     "output_type": "display_data"
    }
   ],
   "source": [
    "preds = inference(model, test_loader, device)"
   ]
  },
  {
   "cell_type": "markdown",
   "id": "370e5a18-de28-4c3d-a33b-77d4797911eb",
   "metadata": {},
   "source": [
    "## Submission"
   ]
  },
  {
   "cell_type": "code",
   "execution_count": 38,
   "id": "95107b25-7d4b-423f-90ce-849c6f4a46c0",
   "metadata": {},
   "outputs": [],
   "source": [
    "submit = pd.read_csv('./sample_submission.csv')"
   ]
  },
  {
   "cell_type": "code",
   "execution_count": 39,
   "id": "c7d82083-af35-4ba5-957d-1c7451404eab",
   "metadata": {},
   "outputs": [
    {
     "data": {
      "text/html": [
       "<div>\n",
       "<style scoped>\n",
       "    .dataframe tbody tr th:only-of-type {\n",
       "        vertical-align: middle;\n",
       "    }\n",
       "\n",
       "    .dataframe tbody tr th {\n",
       "        vertical-align: top;\n",
       "    }\n",
       "\n",
       "    .dataframe thead th {\n",
       "        text-align: right;\n",
       "    }\n",
       "</style>\n",
       "<table border=\"1\" class=\"dataframe\">\n",
       "  <thead>\n",
       "    <tr style=\"text-align: right;\">\n",
       "      <th></th>\n",
       "      <th>sample_id</th>\n",
       "      <th>label</th>\n",
       "    </tr>\n",
       "  </thead>\n",
       "  <tbody>\n",
       "    <tr>\n",
       "      <th>0</th>\n",
       "      <td>TEST_0000</td>\n",
       "      <td>0</td>\n",
       "    </tr>\n",
       "    <tr>\n",
       "      <th>1</th>\n",
       "      <td>TEST_0001</td>\n",
       "      <td>0</td>\n",
       "    </tr>\n",
       "    <tr>\n",
       "      <th>2</th>\n",
       "      <td>TEST_0002</td>\n",
       "      <td>0</td>\n",
       "    </tr>\n",
       "    <tr>\n",
       "      <th>3</th>\n",
       "      <td>TEST_0003</td>\n",
       "      <td>0</td>\n",
       "    </tr>\n",
       "    <tr>\n",
       "      <th>4</th>\n",
       "      <td>TEST_0004</td>\n",
       "      <td>0</td>\n",
       "    </tr>\n",
       "  </tbody>\n",
       "</table>\n",
       "</div>"
      ],
      "text/plain": [
       "   sample_id  label\n",
       "0  TEST_0000      0\n",
       "1  TEST_0001      0\n",
       "2  TEST_0002      0\n",
       "3  TEST_0003      0\n",
       "4  TEST_0004      0"
      ]
     },
     "execution_count": 39,
     "metadata": {},
     "output_type": "execute_result"
    }
   ],
   "source": [
    "submit['label'] = preds\n",
    "submit.head()"
   ]
  },
  {
   "cell_type": "code",
   "execution_count": 40,
   "id": "dd24b98d-1ac7-46df-a833-16d4cb57ac04",
   "metadata": {},
   "outputs": [],
   "source": [
    "submit.to_csv('./s3d_submit.csv', index=False)"
   ]
  },
  {
   "cell_type": "code",
   "execution_count": null,
   "id": "9e44548c",
   "metadata": {},
   "outputs": [],
   "source": []
  }
 ],
 "metadata": {
  "kernelspec": {
   "display_name": "Python 3 (ipykernel)",
   "language": "python",
   "name": "python3"
  },
  "language_info": {
   "codemirror_mode": {
    "name": "ipython",
    "version": 3
   },
   "file_extension": ".py",
   "mimetype": "text/x-python",
   "name": "python",
   "nbconvert_exporter": "python",
   "pygments_lexer": "ipython3",
   "version": "3.7.11"
  },
  "vscode": {
   "interpreter": {
    "hash": "d4d1e4263499bec80672ea0156c357c1ee493ec2b1c70f0acce89fc37c4a6abe"
   }
  }
 },
 "nbformat": 4,
 "nbformat_minor": 5
}
