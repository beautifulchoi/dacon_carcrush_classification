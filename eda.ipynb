{
 "cells": [
  {
   "cell_type": "code",
   "execution_count": 1,
   "metadata": {},
   "outputs": [],
   "source": [
    "import os\n",
    "import cv2\n",
    "import numpy as np\n",
    "import pandas as pd\n",
    "import seaborn as sns\n",
    "import matplotlib.pyplot as plt\n",
    "\n",
    "plt.style.use(\"seaborn\")\n",
    "colors = sns.color_palette(\"muted\", 10)\n",
    "sns.set(font='NanumBarunGothic', font_scale=1.5)\n",
    "\n",
    "import missingno as msno\n",
    "import warnings\n",
    "warnings.filterwarnings(\"ignore\")\n",
    "\n",
    "%matplotlib inline"
   ]
  },
  {
   "cell_type": "code",
   "execution_count": 2,
   "metadata": {
    "scrolled": false
   },
   "outputs": [
    {
     "data": {
      "text/html": [
       "<div>\n",
       "<style scoped>\n",
       "    .dataframe tbody tr th:only-of-type {\n",
       "        vertical-align: middle;\n",
       "    }\n",
       "\n",
       "    .dataframe tbody tr th {\n",
       "        vertical-align: top;\n",
       "    }\n",
       "\n",
       "    .dataframe thead th {\n",
       "        text-align: right;\n",
       "    }\n",
       "</style>\n",
       "<table border=\"1\" class=\"dataframe\">\n",
       "  <thead>\n",
       "    <tr style=\"text-align: right;\">\n",
       "      <th></th>\n",
       "      <th>sample_id</th>\n",
       "      <th>video_path</th>\n",
       "      <th>label</th>\n",
       "    </tr>\n",
       "  </thead>\n",
       "  <tbody>\n",
       "    <tr>\n",
       "      <th>0</th>\n",
       "      <td>TRAIN_0000</td>\n",
       "      <td>./train/TRAIN_0000.mp4</td>\n",
       "      <td>7</td>\n",
       "    </tr>\n",
       "    <tr>\n",
       "      <th>1</th>\n",
       "      <td>TRAIN_0001</td>\n",
       "      <td>./train/TRAIN_0001.mp4</td>\n",
       "      <td>7</td>\n",
       "    </tr>\n",
       "    <tr>\n",
       "      <th>2</th>\n",
       "      <td>TRAIN_0002</td>\n",
       "      <td>./train/TRAIN_0002.mp4</td>\n",
       "      <td>0</td>\n",
       "    </tr>\n",
       "    <tr>\n",
       "      <th>3</th>\n",
       "      <td>TRAIN_0003</td>\n",
       "      <td>./train/TRAIN_0003.mp4</td>\n",
       "      <td>0</td>\n",
       "    </tr>\n",
       "    <tr>\n",
       "      <th>4</th>\n",
       "      <td>TRAIN_0004</td>\n",
       "      <td>./train/TRAIN_0004.mp4</td>\n",
       "      <td>1</td>\n",
       "    </tr>\n",
       "  </tbody>\n",
       "</table>\n",
       "</div>"
      ],
      "text/plain": [
       "    sample_id              video_path  label\n",
       "0  TRAIN_0000  ./train/TRAIN_0000.mp4      7\n",
       "1  TRAIN_0001  ./train/TRAIN_0001.mp4      7\n",
       "2  TRAIN_0002  ./train/TRAIN_0002.mp4      0\n",
       "3  TRAIN_0003  ./train/TRAIN_0003.mp4      0\n",
       "4  TRAIN_0004  ./train/TRAIN_0004.mp4      1"
      ]
     },
     "execution_count": 2,
     "metadata": {},
     "output_type": "execute_result"
    }
   ],
   "source": [
    "df_train = pd.read_csv(\"./train.csv\")\n",
    "df_test = pd.read_csv(\"./test.csv\")\n",
    "df_train.head()"
   ]
  },
  {
   "cell_type": "code",
   "execution_count": 3,
   "metadata": {},
   "outputs": [
    {
     "data": {
      "text/plain": [
       "2698"
      ]
     },
     "execution_count": 3,
     "metadata": {},
     "output_type": "execute_result"
    }
   ],
   "source": [
    "len(df_train)"
   ]
  },
  {
   "cell_type": "code",
   "execution_count": 4,
   "metadata": {
    "scrolled": true
   },
   "outputs": [
    {
     "data": {
      "text/plain": [
       "<AxesSubplot:>"
      ]
     },
     "execution_count": 4,
     "metadata": {},
     "output_type": "execute_result"
    },
    {
     "data": {
      "image/png": "[encoded data removed]",
      "text/plain": [
       "<Figure size 720x504 with 3 Axes>"
      ]
     },
     "metadata": {
      "needs_background": "light"
     },
     "output_type": "display_data"
    }
   ],
   "source": [
    "# 결측치 확인\n",
    "msno.bar(df_train, figsize=(10,7), fontsize=15, color=colors)"
   ]
  },
  {
   "cell_type": "markdown",
   "metadata": {},
   "source": [
    "## 각 라벨 당 데이터 어케 생겨먹었나\n",
    "- crash 기준: 0 / 나머지\n",
    "- ego-involve : 1~6 / 7 ~ 12\n",
    "- weather: 1,2,7,8/ 3,4,9,10/ 5,6,11,12"
   ]
  },
  {
   "cell_type": "code",
   "execution_count": 5,
   "metadata": {
    "scrolled": true
   },
   "outputs": [
    {
     "name": "stdout",
     "output_type": "stream",
     "text": [
      "라벨링:  [ 7  0  1  3  4  2 11  9  8 10  5  6 12]\n"
     ]
    },
    {
     "data": {
      "text/plain": [
       "0     1783\n",
       "1      318\n",
       "2       51\n",
       "3       78\n",
       "4       13\n",
       "5       28\n",
       "6        3\n",
       "7      317\n",
       "8       30\n",
       "9       34\n",
       "10       4\n",
       "11      33\n",
       "12       6\n",
       "Name: label, dtype: int64"
      ]
     },
     "execution_count": 5,
     "metadata": {},
     "output_type": "execute_result"
    }
   ],
   "source": [
    "print(\"라벨링: \", df_train[\"label\"].unique())\n",
    "df_train[\"label\"].value_counts(dropna=False).sort_index()\n",
    "#ego-Involve, weather, timing의 정보는 '차량 충돌 사고'가 일어난 경우에만 분석합니다 -> 이게 핵심일듯?"
   ]
  },
  {
   "cell_type": "code",
   "execution_count": 6,
   "metadata": {},
   "outputs": [],
   "source": [
    "#라벨 옆에 추가로 각 라벨 당 정보를 적어주자\n",
    "crush=[]\n",
    "ego=[]\n",
    "weather=[]\n",
    "timing=[]\n",
    "\n",
    "df_train[\"crush\"]=-1\n",
    "df_train[\"ego\"]=-1\n",
    "df_train[\"weather\"]=-1\n",
    "df_train[\"timing\"]=-1\n",
    "#crush\n",
    "for label in df_train[\"label\"]:\n",
    "    if label==0: #crush no\n",
    "        crush.append(0)\n",
    "    else: #crush yes\n",
    "        crush.append(1)\n",
    "df_train[\"crush\"]=crush\n",
    "\n",
    "#ego\n",
    "for label in df_train[\"label\"]:\n",
    "    if label==0:\n",
    "        ego.append(-1)\n",
    "    elif label<7: #ego yes\n",
    "        ego.append(1)\n",
    "    else: #ego no\n",
    "        ego.append(0)\n",
    "    \n",
    "#weather\n",
    "for label in df_train[\"label\"]:\n",
    "    #print(\"st: \", label)\n",
    "    if label==0:\n",
    "        weather.append(-1)\n",
    "    elif label in [1,2,7,8]:\n",
    "        weather.append(0) #normal\n",
    "        #print(label)\n",
    "    elif label in [3,4,9,10]:\n",
    "        weather.append(1) # snowy\n",
    "    elif label in [5,6,11,12]:\n",
    "        weather.append(2) # rainy\n",
    "    else:\n",
    "        print(\"머야 얘는\", label)\n",
    "#timing\n",
    "for label in df_train[\"label\"]:\n",
    "    if label==0:\n",
    "        timing.append(-1)\n",
    "    elif label%2==1:\n",
    "        timing.append(0) #day\n",
    "    else:\n",
    "        timing.append(1) #night\n",
    "#print(len(timing))\n",
    "df_train[\"crush\"]=crush\n",
    "df_train[\"ego\"]=ego\n",
    "df_train[\"weather\"]=weather\n",
    "df_train[\"timing\"]=timing"
   ]
  },
  {
   "cell_type": "code",
   "execution_count": 7,
   "metadata": {},
   "outputs": [
    {
     "data": {
      "text/plain": [
       "0    1783\n",
       "1     915\n",
       "Name: crush, dtype: int64"
      ]
     },
     "execution_count": 7,
     "metadata": {},
     "output_type": "execute_result"
    }
   ],
   "source": [
    "df_train[\"crush\"].value_counts(dropna=False).sort_index()\n",
    "#crush는 no가 약 2배정도 "
   ]
  },
  {
   "cell_type": "code",
   "execution_count": 8,
   "metadata": {},
   "outputs": [
    {
     "data": {
      "text/plain": [
       "-1    1783\n",
       " 0     424\n",
       " 1     491\n",
       "Name: ego, dtype: int64"
      ]
     },
     "execution_count": 8,
     "metadata": {},
     "output_type": "execute_result"
    }
   ],
   "source": [
    "df_train[\"ego\"].value_counts(dropna=False).sort_index()\n",
    "#ego는 거의 비슷"
   ]
  },
  {
   "cell_type": "code",
   "execution_count": 9,
   "metadata": {},
   "outputs": [
    {
     "data": {
      "text/plain": [
       "-1    1783\n",
       " 0     716\n",
       " 1     129\n",
       " 2      70\n",
       "Name: weather, dtype: int64"
      ]
     },
     "execution_count": 9,
     "metadata": {},
     "output_type": "execute_result"
    }
   ],
   "source": [
    "df_train[\"weather\"].value_counts(dropna=False).sort_index()\n",
    "\n",
    "#weather는 눈 비가 많이 부족하고 날이 좋은날이 많다"
   ]
  },
  {
   "cell_type": "code",
   "execution_count": 10,
   "metadata": {},
   "outputs": [
    {
     "data": {
      "text/plain": [
       "-1    1783\n",
       " 0     808\n",
       " 1     107\n",
       "Name: timing, dtype: int64"
      ]
     },
     "execution_count": 10,
     "metadata": {},
     "output_type": "execute_result"
    }
   ],
   "source": [
    "df_train[\"timing\"].value_counts(dropna=False).sort_index()\n",
    "\n",
    "#시간은 낮 시간이 훨 많음"
   ]
  },
  {
   "cell_type": "code",
   "execution_count": null,
   "metadata": {},
   "outputs": [],
   "source": [
    "df_train.to_csv('train_detail_classified.csv')"
   ]
  },
  {
   "cell_type": "markdown",
   "metadata": {},
   "source": [
    "## crush와 ego의 라벨을 합쳐주자(0 : 충돌 안함 / 1 : 나랑 충돌 / 2 : 나랑 충돌 안함)"
   ]
  },
  {
   "cell_type": "code",
   "execution_count": null,
   "metadata": {},
   "outputs": [],
   "source": [
    "df_train=df_train.reset_index(drop=True)\n",
    "df_train"
   ]
  },
  {
   "cell_type": "code",
   "execution_count": null,
   "metadata": {},
   "outputs": [],
   "source": [
    "df_train['crush+ego']=-1 \n",
    "crush0_idx=df_train.where(df_train['crush']==0).dropna().index\n",
    "ego1_idx=df_train.where(df_train['ego']==1).dropna().index\n",
    "ego0_idx=df_train.where(df_train['ego']==0).dropna().index"
   ]
  },
  {
   "cell_type": "code",
   "execution_count": null,
   "metadata": {},
   "outputs": [],
   "source": [
    "for i,row in df_train.iterrows():\n",
    "    if row['crush']==0:\n",
    "        df_train['crush+ego'][i]=0\n",
    "    elif row['ego']==1:\n",
    "        df_train['crush+ego'][i]=1\n",
    "    elif row['ego']==0:\n",
    "        df_train['crush+ego'][i]=2"
   ]
  },
  {
   "cell_type": "code",
   "execution_count": null,
   "metadata": {
    "scrolled": true
   },
   "outputs": [],
   "source": [
    "df_train.to_csv('train_detail_classified.csv')"
   ]
  },
  {
   "cell_type": "code",
   "execution_count": null,
   "metadata": {},
   "outputs": [],
   "source": [
    "df_train.loc[crush0_idx]['crush+ego']"
   ]
  },
  {
   "cell_type": "code",
   "execution_count": null,
   "metadata": {},
   "outputs": [],
   "source": [
    "df_train.loc[ego1_idx]"
   ]
  },
  {
   "cell_type": "markdown",
   "metadata": {},
   "source": [
    "## 동영상 길이, 사이즈 확인"
   ]
  },
  {
   "cell_type": "code",
   "execution_count": null,
   "metadata": {},
   "outputs": [],
   "source": [
    "#동영상 길이 확인\n",
    "import torchvision\n",
    "\n",
    "stream = \"video\"\n",
    "df_crush=df_train.loc[df_train[\"crush\"]==1]\n",
    "\n",
    "for path in df_train[\"video_path\"]:\n",
    "    video=torchvision.io.VideoReader(path, stream)\n",
    "    #print(video.get_metadata())\n",
    "    info=video.get_metadata()\n",
    "    if info['video']['duration']!=[5.0]:\n",
    "        print('다름')\n",
    "    if info['video']['fps']!=[10.0]:\n",
    "        print('다름')\n",
    "\n",
    "#모두 5초 , fps 10(초당 프레임 10)"
   ]
  },
  {
   "cell_type": "code",
   "execution_count": null,
   "metadata": {},
   "outputs": [],
   "source": [
    "import torch\n",
    "import itertools\n",
    "\n",
    "def example_read_video(video_object, start=0, end=None, read_video=True, read_audio=True):\n",
    "    if end is None:\n",
    "        end = float(\"inf\")\n",
    "    if end < start:\n",
    "        raise ValueError(\n",
    "            \"end time should be larger than start time, got \"\n",
    "            f\"start time={start} and end time={end}\"\n",
    "        )\n",
    "\n",
    "    video_frames = torch.empty(0)\n",
    "    video_pts = []\n",
    "    if read_video:\n",
    "        video_object.set_current_stream(\"video\")\n",
    "        frames = []\n",
    "        for frame in itertools.takewhile(lambda x: x['pts'] <= end, video_object.seek(start)):\n",
    "            frames.append(frame['data'])\n",
    "            video_pts.append(frame['pts'])\n",
    "        if len(frames) > 0:\n",
    "            video_frames = torch.stack(frames, 0)\n",
    "\n",
    "    audio_frames = torch.empty(0)\n",
    "    audio_pts = []\n",
    "    if read_audio:\n",
    "        video_object.set_current_stream(\"audio\")\n",
    "        frames = []\n",
    "        for frame in itertools.takewhile(lambda x: x['pts'] <= end, video_object.seek(start)):\n",
    "            frames.append(frame['data'])\n",
    "            audio_pts.append(frame['pts'])\n",
    "        if len(frames) > 0:\n",
    "            audio_frames = torch.cat(frames, 0)\n",
    "\n",
    "    return video_frames, audio_frames, (video_pts, audio_pts), video_object.get_metadata()\n",
    "\n",
    "\n",
    "# Total number of frames should be 327 for video and 523264 datapoints for audio\n",
    "vf, af, info, meta = example_read_video(video)\n",
    "print(vf.size(), af.size())"
   ]
  },
  {
   "cell_type": "code",
   "execution_count": null,
   "metadata": {},
   "outputs": [],
   "source": [
    "#비디오 사이즈 확인\n",
    "\n",
    "stream = \"video\"\n",
    "\n",
    "for path in df_train[\"video_path\"]:\n",
    "    video=torchvision.io.VideoReader(path, stream)\n",
    "    vf, _, info, meta= example_read_video(video)\n",
    "    if(list(vf.shape)!=[50, 3, 720, 1280]):\n",
    "        print(\"다름\")\n",
    "\n",
    "#[50, 3, 720, 1280] "
   ]
  },
  {
   "cell_type": "markdown",
   "metadata": {},
   "source": [
    "## 시각화"
   ]
  },
  {
   "cell_type": "code",
   "execution_count": 11,
   "metadata": {},
   "outputs": [],
   "source": [
    "import pandas as pd \n",
    "import numpy as np\n",
    "import cv2 \n",
    "\n",
    "from ipywidgets import interact\n",
    "from matplotlib import pyplot as plt\n",
    "\n",
    "train = pd.read_csv(\"train_detail_classified.csv\")\n",
    "# 0: None, 1: Normal, 2: Snowy, 3: Rainy\n",
    "weather=train['weather']\n",
    "\n",
    "def get_frames(path):\n",
    "    cap = cv2.VideoCapture(path)\n",
    "    frames = int(cap.get(cv2.CAP_PROP_FRAME_COUNT))\n",
    "    imgs = []        \n",
    "    for fidx in range(frames):\n",
    "        _, img = cap.read()            \n",
    "        img = cv2.cvtColor(img, cv2.COLOR_BGR2RGB)\n",
    "        imgs.append(img)\n",
    "    \n",
    "    return np.array(imgs)\n",
    "\n",
    "def visualize(type):\n",
    "    if type=='normal':\n",
    "        path=train.loc[train[\"weather\"]==0, \"video_path\"].values\n",
    "    elif type=='snow':\n",
    "        path=train.loc[train[\"weather\"]==1, \"video_path\"].values\n",
    "    elif type=='rain':\n",
    "        path=train.loc[train[\"weather\"]==2, \"video_path\"].values\n",
    "    else:\n",
    "        ValueError(\"type 재입력\")\n",
    "        \n",
    "    @interact(type=type, frame=(0, 50-1), path=path)\n",
    "    def show_frame(frame=0, path=None):\n",
    "        frames = np.zeros((1, 20, 20, 3))\n",
    "        if path:\n",
    "            frames = get_frames(path)\n",
    "        plt.imshow(frames[frame,:,:,:])"
   ]
  },
  {
   "cell_type": "code",
   "execution_count": null,
   "metadata": {},
   "outputs": [],
   "source": []
  },
  {
   "cell_type": "code",
   "execution_count": 12,
   "metadata": {},
   "outputs": [],
   "source": [
    "#원터치 화면체크\n",
    "\n",
    "def get_sumnail(path, frame=0):\n",
    "    cap = cv2.VideoCapture(path)\n",
    "    frames = int(cap.get(cv2.CAP_PROP_FRAME_COUNT))\n",
    "    #imgs = []        \n",
    "    for fidx in range(frames):\n",
    "        if fidx!=frame:\n",
    "            continue\n",
    "        _, img = cap.read()            \n",
    "        img = cv2.cvtColor(img, cv2.COLOR_BGR2RGB)\n",
    "        if fidx==frame:\n",
    "            break\n",
    "        #imgs.append(img)\n",
    "    return img\n",
    "def visualize_block(pathes, start=0, block_size=5):\n",
    "    fig=plt.figure(figsize=(50, 50))\n",
    "    for i in range(1,block_size**2+1):\n",
    "        ax=plt.subplot(block_size,block_size,i)\n",
    "        ax.set_title(f'path {pathes[i-1][-9:-4]}')\n",
    "        ax.imshow(get_sumnail(pathes[i-1]))\n",
    "        plt.axis(\"off\")\n",
    "        start+=1\n",
    "    #plt.show()\n",
    "    return fig,start\n",
    "\n"
   ]
  },
  {
   "cell_type": "code",
   "execution_count": 16,
   "metadata": {},
   "outputs": [
    {
     "data": {
      "text/plain": [
       "<matplotlib.image.AxesImage at 0x7f738dc52d50>"
      ]
     },
     "execution_count": 16,
     "metadata": {},
     "output_type": "execute_result"
    },
    {
     "data": {
      "image/png": "[encoded data removed]",
      "text/plain": [
       "<Figure size 432x288 with 1 Axes>"
      ]
     },
     "metadata": {
      "needs_background": "light"
     },
     "output_type": "display_data"
    }
   ],
   "source": [
    "plt.imshow(get_sumnail(pathes_rain[0]))"
   ]
  },
  {
   "cell_type": "code",
   "execution_count": 13,
   "metadata": {},
   "outputs": [],
   "source": [
    "pathes_rain=train.loc[train[\"weather\"]==2, \"video_path\"].values\n",
    "#idx=0\n",
    "#while(True):\n",
    "#    if idx>(int(len(pathes_rain)/25)*len(pathes_rain)+(len(pathes_rain)%25)-1):\n",
    "#        fig,idx=visualize_block(pathes_rain[idx:], idx, 5)\n",
    "#    else:\n",
    "#        fig,idx=visualize_block(pathes_rain[idx:idx+25], idx, 5)\n",
    "#    #print(idx)\n"
   ]
  },
  {
   "cell_type": "code",
   "execution_count": null,
   "metadata": {},
   "outputs": [],
   "source": []
  }
 ],
 "metadata": {
  "kernelspec": {
   "display_name": "Python 3 (ipykernel)",
   "language": "python",
   "name": "python3"
  },
  "language_info": {
   "codemirror_mode": {
    "name": "ipython",
    "version": 3
   },
   "file_extension": ".py",
   "mimetype": "text/x-python",
   "name": "python",
   "nbconvert_exporter": "python",
   "pygments_lexer": "ipython3",
   "version": "3.7.11"
  },
  "vscode": {
   "interpreter": {
    "hash": "d4d1e4263499bec80672ea0156c357c1ee493ec2b1c70f0acce89fc37c4a6abe"
   }
  }
 },
 "nbformat": 4,
 "nbformat_minor": 2
}
